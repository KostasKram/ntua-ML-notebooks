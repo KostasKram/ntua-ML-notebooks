{
  "cells": [
    {
      "cell_type": "markdown",
      "metadata": {
        "id": "Dv7UKdyCAnqD"
      },
      "source": [
        "###Μηχανική Μάθηση\n",
        "####1η ατομική εργασία\n",
        "ΣΗΜΜΥ- ΕΜΠ -Ακ. Έτος 2023-24\n",
        "\n"
      ]
    },
    {
      "cell_type": "markdown",
      "metadata": {
        "id": "oAx-ib_pBrq9"
      },
      "source": [
        "Ονοματεπώνυμο φοιτητή: ΚΑΡΑΜ ΚΩΝΣΤΑΝΤΙΝΟΣ\n",
        "\n"
      ]
    },
    {
      "cell_type": "markdown",
      "metadata": {
        "id": "M7IkqlgaGLr2"
      },
      "source": [
        "### 1. Εισαγωγή συνόλου δεδομένων\n",
        "\n",
        "Tο σύνολο δεδομένων για το training-validation μπορείτε να το κατεβάσετε από [εδώ](https://drive.google.com/file/d/1_ndkaT6BoDuxxPPxLWq-oKDJqzO1Dlhg/view?usp=sharing) .\n"
      ]
    },
    {
      "cell_type": "markdown",
      "metadata": {
        "id": "Qe4uFFcv9XF3"
      },
      "source": [
        "1.α. Φορτώστε το σύνολο δεδομένων \"train-val.csv\"  στο notebook σας."
      ]
    },
    {
      "cell_type": "code",
      "execution_count": null,
      "metadata": {
        "colab": {
          "background_save": true
        },
        "id": "fbQtw6iYBrJk"
      },
      "outputs": [],
      "source": [
        "import numpy as np\n",
        "import matplotlib.pyplot as plt\n",
        "import pandas as pd\n",
        "dataset = pd.read_csv('train-val.csv')\n",
        "print (dataset)"
      ]
    },
    {
      "cell_type": "code",
      "execution_count": null,
      "metadata": {
        "id": "stktofijkFYe"
      },
      "outputs": [],
      "source": [
        "test = pd.read_csv('test.csv')"
      ]
    },
    {
      "cell_type": "markdown",
      "metadata": {
        "id": "wrxF1hO1HPpJ"
      },
      "source": [
        "### 2. Διερευνητική ανάλυση δεδομένων -Exploratory Data Analysis (EDA)\n",
        "Χρησιμοποιήστε code cells  με τις κατάλληλες τεχνικές EDA για την κατανόηση του συνόλου δεδομένων και text cells για επεξήγηση των αποτελεσμάτων."
      ]
    },
    {
      "cell_type": "markdown",
      "metadata": {
        "id": "fT33H0HPJ7Hg"
      },
      "source": [
        "Χρησιμοποιώντας τις κατάλληλες μεθόδους παρουσιάστε με χρήση κώδικα πληροφορίες για τα εξής:\n",
        "\n",
        "2α. το πλήθος των δειγμάτων και των χαρακτηριστικών του συνόλου δεδομένων,\n",
        "\n",
        "2β. το είδος των χαρακτηριστικών του συνόλου δεδομένων,  \n",
        "\n",
        "2γ. τις ετικέτες των χαρακτηριστικών,\n",
        "\n",
        "2δ. το πλήθος των κατηγοριών,\n",
        "\n",
        "2ε. πόσα δείγματα ανήκουν σε κάθε κατηγορία,\n",
        "\n",
        "2στ. τη συσχέτιση μεταξύ των δεδομένων,\n",
        "\n",
        "2ζ. οποιαδήποτε άλλη πληροφορία πιστεύετε ότι είναι χρήσιμη για την κατανόηση του συνόλου δεδομένων."
      ]
    },
    {
      "cell_type": "markdown",
      "metadata": {
        "id": "qqG50Ac61xmI"
      },
      "source": [
        "**2α. το πλήθος των δειγμάτων και των χαρακτηριστικών του συνόλου δεδομένων**"
      ]
    },
    {
      "cell_type": "code",
      "execution_count": null,
      "metadata": {
        "colab": {
          "base_uri": "https://localhost:8080/"
        },
        "id": "fSqTfYIt12Kn",
        "outputId": "3d6a797a-f99f-4eb0-e143-9ca8d8f663bf"
      },
      "outputs": [
        {
          "name": "stdout",
          "output_type": "stream",
          "text": [
            "Πλήθος Δειγμάτων: 48423\n",
            "Πλήθος Χαρακτηριστικών: 24\n",
            "Πρώτα 5 Δείγματα:\n",
            "   id        Date Location  MinTemp  MaxTemp  Rainfall  Evaporation  Sunshine  \\\n",
            "0   1  2009-03-04   Albury     13.8     22.1       0.2          NaN       NaN   \n",
            "1   2  2009-03-05   Albury     11.5     22.0       0.0          NaN       NaN   \n",
            "2   3  2009-03-09   Albury     13.8     31.8       0.0          NaN       NaN   \n",
            "3   4  2009-03-10   Albury     15.5     32.0       0.0          NaN       NaN   \n",
            "4   5  2009-03-11   Albury     18.4     30.5       1.2          NaN       NaN   \n",
            "\n",
            "  WindGustDir  WindGustSpeed  ... Humidity9am Humidity3pm  Pressure9am  \\\n",
            "0         WNW           57.0  ...        57.0        26.0       1014.5   \n",
            "1          SW           50.0  ...        60.0        33.0       1013.7   \n",
            "2         NNE           24.0  ...        49.0        28.0       1019.7   \n",
            "3          NE           50.0  ...        51.0        25.0       1019.5   \n",
            "4          NE           44.0  ...        57.0        23.0       1021.3   \n",
            "\n",
            "   Pressure3pm  Cloud9am  Cloud3pm  Temp9am  Temp3pm  RainToday  RainTomorrow  \n",
            "0       1013.1       NaN       NaN     15.6     21.9        0.0           0.0  \n",
            "1       1011.8       NaN       NaN     13.9     21.4        0.0           0.0  \n",
            "2       1015.9       NaN       NaN     18.6     30.5        0.0           0.0  \n",
            "3       1016.2       NaN       NaN     20.1     30.8        0.0           1.0  \n",
            "4       1018.0       NaN       NaN     21.5     29.6        1.0           0.0  \n",
            "\n",
            "[5 rows x 24 columns]\n"
          ]
        }
      ],
      "source": [
        "#2a\n",
        "num_samples, num_features = dataset.shape\n",
        "print(f\"Πλήθος Δειγμάτων: {num_samples}\")\n",
        "print(f\"Πλήθος Χαρακτηριστικών: {num_features}\")\n",
        "\n",
        "# Εμφάνιση των πρώτων 5 δειγμάτων\n",
        "print(\"Πρώτα 5 Δείγματα:\")\n",
        "print(dataset.head())"
      ]
    },
    {
      "cell_type": "markdown",
      "metadata": {
        "id": "sVgZeSvX3nOO"
      },
      "source": [
        "2β. το είδος των χαρακτηριστικών του συνόλου δεδομένων\n",
        "\n",
        "2γ. τις ετικέτες των χαρακτηριστικών,"
      ]
    },
    {
      "cell_type": "code",
      "execution_count": null,
      "metadata": {
        "colab": {
          "base_uri": "https://localhost:8080/"
        },
        "id": "FUM3r2El3lzo",
        "outputId": "ba028406-7c27-4bb5-fa32-8dcde0ae7f6e"
      },
      "outputs": [
        {
          "name": "stdout",
          "output_type": "stream",
          "text": [
            "<class 'pandas.core.frame.DataFrame'>\n",
            "RangeIndex: 48423 entries, 0 to 48422\n",
            "Data columns (total 24 columns):\n",
            " #   Column         Non-Null Count  Dtype  \n",
            "---  ------         --------------  -----  \n",
            " 0   id             48423 non-null  int64  \n",
            " 1   Date           48423 non-null  object \n",
            " 2   Location       48423 non-null  object \n",
            " 3   MinTemp        48263 non-null  float64\n",
            " 4   MaxTemp        48322 non-null  float64\n",
            " 5   Rainfall       48423 non-null  float64\n",
            " 6   Evaporation    28039 non-null  float64\n",
            " 7   Sunshine       25426 non-null  float64\n",
            " 8   WindGustDir    45302 non-null  object \n",
            " 9   WindGustSpeed  45330 non-null  float64\n",
            " 10  WindDir9am     44602 non-null  object \n",
            " 11  WindDir3pm     47095 non-null  object \n",
            " 12  WindSpeed9am   48066 non-null  float64\n",
            " 13  WindSpeed3pm   47566 non-null  float64\n",
            " 14  Humidity9am    47865 non-null  float64\n",
            " 15  Humidity3pm    47164 non-null  float64\n",
            " 16  Pressure9am    43643 non-null  float64\n",
            " 17  Pressure3pm    43634 non-null  float64\n",
            " 18  Cloud9am       30533 non-null  float64\n",
            " 19  Cloud3pm       29442 non-null  float64\n",
            " 20  Temp9am        48197 non-null  float64\n",
            " 21  Temp3pm        47510 non-null  float64\n",
            " 22  RainToday      48423 non-null  float64\n",
            " 23  RainTomorrow   48423 non-null  float64\n",
            "dtypes: float64(18), int64(1), object(5)\n",
            "memory usage: 8.9+ MB\n",
            "None\n"
          ]
        }
      ],
      "source": [
        "#2b/c\n",
        "print(dataset.info())"
      ]
    },
    {
      "cell_type": "markdown",
      "metadata": {
        "id": "yPlV5k1N4Jmq"
      },
      "source": [
        "**2δ. το πλήθος των κατηγοριών**"
      ]
    },
    {
      "cell_type": "code",
      "execution_count": null,
      "metadata": {
        "colab": {
          "base_uri": "https://localhost:8080/"
        },
        "id": "gAw62P754FvW",
        "outputId": "8c9d36f3-a296-48cf-e627-8bc2a51d91b8"
      },
      "outputs": [
        {
          "name": "stdout",
          "output_type": "stream",
          "text": [
            "Πλήθος κατηγοριών 'id': 48423\n",
            "Πλήθος κατηγοριών 'Date': 2534\n",
            "Πλήθος κατηγοριών 'Location': 49\n",
            "Πλήθος κατηγοριών 'MinTemp': 364\n",
            "Πλήθος κατηγοριών 'MaxTemp': 456\n",
            "Πλήθος κατηγοριών 'Rainfall': 443\n",
            "Πλήθος κατηγοριών 'Evaporation': 231\n",
            "Πλήθος κατηγοριών 'Sunshine': 140\n",
            "Πλήθος κατηγοριών 'WindGustDir': 16\n",
            "Πλήθος κατηγοριών 'WindGustSpeed': 61\n",
            "Πλήθος κατηγοριών 'WindDir9am': 16\n",
            "Πλήθος κατηγοριών 'WindDir3pm': 16\n",
            "Πλήθος κατηγοριών 'WindSpeed9am': 40\n",
            "Πλήθος κατηγοριών 'WindSpeed3pm': 42\n",
            "Πλήθος κατηγοριών 'Humidity9am': 101\n",
            "Πλήθος κατηγοριών 'Humidity3pm': 101\n",
            "Πλήθος κατηγοριών 'Pressure9am': 508\n",
            "Πλήθος κατηγοριών 'Pressure3pm': 497\n",
            "Πλήθος κατηγοριών 'Cloud9am': 10\n",
            "Πλήθος κατηγοριών 'Cloud3pm': 9\n",
            "Πλήθος κατηγοριών 'Temp9am': 396\n",
            "Πλήθος κατηγοριών 'Temp3pm': 452\n",
            "Πλήθος κατηγοριών 'RainToday': 2\n",
            "Πλήθος κατηγοριών 'RainTomorrow': 2\n"
          ]
        }
      ],
      "source": [
        "#2d\n",
        "for column in dataset.columns:\n",
        "    num_unique_categories = dataset[column].nunique()\n",
        "    print(f\"Πλήθος κατηγοριών '{column}': {num_unique_categories}\")"
      ]
    },
    {
      "cell_type": "markdown",
      "metadata": {
        "id": "-mI_dqKg9J3-"
      },
      "source": [
        "**2ε. πόσα δείγματα ανήκουν σε κάθε κατηγορία**\n"
      ]
    },
    {
      "cell_type": "code",
      "execution_count": null,
      "metadata": {
        "colab": {
          "base_uri": "https://localhost:8080/"
        },
        "id": "dnd0K49PNK1T",
        "outputId": "c33721d1-119e-486e-a052-c943a4504a79"
      },
      "outputs": [
        {
          "name": "stdout",
          "output_type": "stream",
          "text": [
            "\n",
            "Δείγματα που ανήκουν στην κατηγορία 'id'με τον αριθμό εμφανισεών τους:\n",
            "1        1\n",
            "32287    1\n",
            "32278    1\n",
            "32279    1\n",
            "32280    1\n",
            "        ..\n",
            "16144    1\n",
            "16145    1\n",
            "16146    1\n",
            "16147    1\n",
            "48423    1\n",
            "Name: id, Length: 48423, dtype: int64 \n",
            "\n",
            "Δείγματα που ανήκουν στην κατηγορία 'Date'με τον αριθμό εμφανισεών τους:\n",
            "2013-05-21    34\n",
            "2013-04-23    33\n",
            "2016-05-23    32\n",
            "2016-04-12    32\n",
            "2016-08-05    32\n",
            "              ..\n",
            "2008-03-03     1\n",
            "2007-11-26     1\n",
            "2007-11-22     1\n",
            "2007-11-21     1\n",
            "2008-07-11     1\n",
            "Name: Date, Length: 2534, dtype: int64 \n",
            "\n",
            "Δείγματα που ανήκουν στην κατηγορία 'Location'με τον αριθμό εμφανισεών τους:\n",
            "Sydney              1145\n",
            "Canberra            1136\n",
            "Darwin              1107\n",
            "Perth               1104\n",
            "MelbourneAirport    1099\n",
            "Brisbane            1098\n",
            "Hobart              1096\n",
            "Adelaide            1064\n",
            "Sale                1054\n",
            "MountGambier        1053\n",
            "Mildura             1048\n",
            "CoffsHarbour        1046\n",
            "PerthAirport        1044\n",
            "Woomera             1044\n",
            "Bendigo             1042\n",
            "Cobar               1038\n",
            "Wollongong          1034\n",
            "Cairns              1032\n",
            "SalmonGums          1031\n",
            "Townsville          1027\n",
            "Portland            1022\n",
            "Penrith             1021\n",
            "Dartmoor            1021\n",
            "Watsonia            1021\n",
            "SydneyAirport       1017\n",
            "Ballarat            1014\n",
            "WaggaWagga          1013\n",
            "Launceston          1011\n",
            "Newcastle           1007\n",
            "Witchcliffe         1004\n",
            "AliceSprings        1004\n",
            "Nuriootpa           1004\n",
            "Albany               999\n",
            "Tuggeranong          993\n",
            "NorahHead            991\n",
            "GoldCoast            987\n",
            "Albury               985\n",
            "Richmond             983\n",
            "NorfolkIsland        981\n",
            "BadgerysCreek        981\n",
            "MountGinini          971\n",
            "Moree                957\n",
            "Walpole              904\n",
            "PearceRAAF           881\n",
            "Melbourne            848\n",
            "Williamtown          821\n",
            "Katherine            579\n",
            "Nhil                 559\n",
            "Uluru                502\n",
            "Name: Location, dtype: int64 \n",
            "\n",
            "Δείγματα που ανήκουν στην κατηγορία 'MinTemp'με τον αριθμό εμφανισεών τους:\n",
            " 8.5     349\n",
            " 9.4     346\n",
            " 8.7     341\n",
            " 9.6     340\n",
            " 10.0    335\n",
            "        ... \n",
            "-8.2       1\n",
            "-7.1       1\n",
            "-5.9       1\n",
            "-7.6       1\n",
            " 28.2      1\n",
            "Name: MinTemp, Length: 364, dtype: int64 \n",
            "\n",
            "Δείγματα που ανήκουν στην κατηγορία 'MaxTemp'με τον αριθμό εμφανισεών τους:\n",
            " 20.0    356\n",
            " 19.0    354\n",
            " 17.0    354\n",
            " 18.5    343\n",
            " 19.5    335\n",
            "        ... \n",
            "-2.0       1\n",
            "-2.5       1\n",
            " 1.0       1\n",
            "-1.7       1\n",
            " 43.7      1\n",
            "Name: MaxTemp, Length: 456, dtype: int64 \n",
            "\n",
            "Δείγματα που ανήκουν στην κατηγορία 'Rainfall'με τον αριθμό εμφανισεών τους:\n",
            "0.0     30235\n",
            "0.2      3235\n",
            "0.4      1308\n",
            "0.6       939\n",
            "0.8       745\n",
            "        ...  \n",
            "59.8        1\n",
            "49.2        1\n",
            "60.8        1\n",
            "33.8        1\n",
            "49.0        1\n",
            "Name: Rainfall, Length: 443, dtype: int64 \n",
            "\n",
            "Δείγματα που ανήκουν στην κατηγορία 'Evaporation'με τον αριθμό εμφανισεών τους:\n",
            "4.0     1298\n",
            "2.0      872\n",
            "2.2      866\n",
            "2.4      858\n",
            "2.6      852\n",
            "        ... \n",
            "23.0       1\n",
            "29.2       1\n",
            "55.4       1\n",
            "23.3       1\n",
            "39.6       1\n",
            "Name: Evaporation, Length: 231, dtype: int64 \n",
            "\n",
            "Δείγματα που ανήκουν στην κατηγορία 'Sunshine'με τον αριθμό εμφανισεών τους:\n",
            "0.0     780\n",
            "10.7    416\n",
            "10.5    411\n",
            "11.0    403\n",
            "10.8    390\n",
            "       ... \n",
            "13.6      9\n",
            "13.5      9\n",
            "13.7      5\n",
            "13.8      2\n",
            "14.2      1\n",
            "Name: Sunshine, Length: 140, dtype: int64 \n",
            "\n",
            "Δείγματα που ανήκουν στην κατηγορία 'WindGustDir'με τον αριθμό εμφανισεών τους:\n",
            "W      3586\n",
            "N      3515\n",
            "WSW    3155\n",
            "SW     3074\n",
            "NW     2994\n",
            "WNW    2992\n",
            "E      2900\n",
            "S      2874\n",
            "SSW    2831\n",
            "SE     2801\n",
            "SSE    2716\n",
            "ENE    2482\n",
            "NNW    2463\n",
            "ESE    2344\n",
            "NE     2299\n",
            "NNE    2276\n",
            "Name: WindGustDir, dtype: int64 \n",
            "\n",
            "Δείγματα που ανήκουν στην κατηγορία 'WindGustSpeed'με τον αριθμό εμφανισεών τους:\n",
            "35.0     3016\n",
            "31.0     2885\n",
            "39.0     2760\n",
            "33.0     2658\n",
            "37.0     2544\n",
            "         ... \n",
            "115.0       4\n",
            "111.0       3\n",
            "113.0       3\n",
            "117.0       1\n",
            "126.0       1\n",
            "Name: WindGustSpeed, Length: 61, dtype: int64 \n",
            "\n",
            "Δείγματα που ανήκουν στην κατηγορία 'WindDir9am'με τον αριθμό εμφανισεών τους:\n",
            "N      4178\n",
            "NW     3288\n",
            "W      3069\n",
            "SW     2935\n",
            "NNW    2791\n",
            "E      2767\n",
            "SSE    2760\n",
            "SE     2734\n",
            "WNW    2670\n",
            "S      2647\n",
            "NNE    2635\n",
            "WSW    2544\n",
            "ENE    2472\n",
            "NE     2431\n",
            "SSW    2381\n",
            "ESE    2300\n",
            "Name: WindDir9am, dtype: int64 \n",
            "\n",
            "Δείγματα που ανήκουν στην κατηγορία 'WindDir3pm'με τον αριθμό εμφανισεών τους:\n",
            "W      3607\n",
            "SE     3306\n",
            "WSW    3280\n",
            "N      3190\n",
            "NW     3154\n",
            "SW     3127\n",
            "S      3115\n",
            "WNW    3106\n",
            "NNW    2908\n",
            "SSE    2890\n",
            "ESE    2731\n",
            "NE     2695\n",
            "SSW    2657\n",
            "E      2640\n",
            "ENE    2449\n",
            "NNE    2240\n",
            "Name: WindDir3pm, dtype: int64 \n",
            "\n",
            "Δείγματα που ανήκουν στην κατηγορία 'WindSpeed9am'με τον αριθμό εμφανισεών τους:\n",
            "9.0     4586\n",
            "13.0    4334\n",
            "11.0    3892\n",
            "7.0     3741\n",
            "17.0    3537\n",
            "15.0    3489\n",
            "0.0     3446\n",
            "6.0     3081\n",
            "19.0    2804\n",
            "20.0    2616\n",
            "4.0     2192\n",
            "22.0    1829\n",
            "24.0    1709\n",
            "2.0     1666\n",
            "28.0    1152\n",
            "26.0    1149\n",
            "30.0     736\n",
            "31.0     646\n",
            "33.0     398\n",
            "35.0     295\n",
            "37.0     180\n",
            "39.0     129\n",
            "41.0     115\n",
            "43.0      88\n",
            "46.0      60\n",
            "44.0      53\n",
            "48.0      39\n",
            "52.0      27\n",
            "50.0      25\n",
            "56.0      15\n",
            "54.0      12\n",
            "57.0      10\n",
            "61.0       5\n",
            "65.0       2\n",
            "59.0       2\n",
            "67.0       2\n",
            "83.0       1\n",
            "74.0       1\n",
            "87.0       1\n",
            "63.0       1\n",
            "Name: WindSpeed9am, dtype: int64 \n",
            "\n",
            "Δείγματα που ανήκουν στην κατηγορία 'WindSpeed3pm'με τον αριθμό εμφανισεών τους:\n",
            "13.0    4266\n",
            "17.0    4155\n",
            "15.0    3872\n",
            "20.0    3800\n",
            "19.0    3612\n",
            "11.0    3546\n",
            "9.0     3465\n",
            "24.0    2912\n",
            "22.0    2712\n",
            "7.0     2142\n",
            "26.0    2063\n",
            "28.0    2006\n",
            "6.0     1467\n",
            "30.0    1460\n",
            "31.0    1252\n",
            "4.0      881\n",
            "33.0     797\n",
            "35.0     652\n",
            "0.0      454\n",
            "37.0     449\n",
            "2.0      411\n",
            "39.0     355\n",
            "41.0     213\n",
            "43.0     186\n",
            "44.0     115\n",
            "46.0      90\n",
            "50.0      66\n",
            "48.0      46\n",
            "52.0      34\n",
            "56.0      23\n",
            "54.0      17\n",
            "61.0      11\n",
            "57.0       9\n",
            "59.0       8\n",
            "65.0       6\n",
            "63.0       6\n",
            "76.0       2\n",
            "78.0       1\n",
            "83.0       1\n",
            "72.0       1\n",
            "67.0       1\n",
            "69.0       1\n",
            "Name: WindSpeed3pm, dtype: int64 \n",
            "\n",
            "Δείγματα που ανήκουν στην κατηγορία 'Humidity9am'με τον αριθμό εμφανισεών τους:\n",
            "99.0     1395\n",
            "100.0    1150\n",
            "75.0     1037\n",
            "74.0     1025\n",
            "71.0     1008\n",
            "         ... \n",
            "3.0         4\n",
            "2.0         4\n",
            "4.0         2\n",
            "0.0         1\n",
            "1.0         1\n",
            "Name: Humidity9am, Length: 101, dtype: int64 \n",
            "\n",
            "Δείγματα που ανήκουν στην κατηγορία 'Humidity3pm'με τον αριθμό εμφανισεών τους:\n",
            "55.0    953\n",
            "57.0    947\n",
            "53.0    941\n",
            "52.0    937\n",
            "58.0    933\n",
            "       ... \n",
            "4.0      37\n",
            "3.0      18\n",
            "2.0      11\n",
            "1.0       8\n",
            "0.0       2\n",
            "Name: Humidity3pm, Length: 101, dtype: int64 \n",
            "\n",
            "Δείγματα που ανήκουν στην κατηγορία 'Pressure9am'με τον αριθμό εμφανισεών τους:\n",
            "1017.9    294\n",
            "1019.2    285\n",
            "1018.7    281\n",
            "1018.0    277\n",
            "1019.9    277\n",
            "         ... \n",
            "992.6       1\n",
            "989.0       1\n",
            "989.7       1\n",
            "991.9       1\n",
            "995.0       1\n",
            "Name: Pressure9am, Length: 508, dtype: int64 \n",
            "\n",
            "Δείγματα που ανήκουν στην κατηγορία 'Pressure3pm'με τον αριθμό εμφανισεών τους:\n",
            "1015.5    276\n",
            "1017.8    276\n",
            "1015.7    266\n",
            "1016.7    265\n",
            "1015.1    263\n",
            "         ... \n",
            "1037.7      1\n",
            "988.4       1\n",
            "1037.6      1\n",
            "987.0       1\n",
            "994.7       1\n",
            "Name: Pressure3pm, Length: 497, dtype: int64 \n",
            "\n",
            "Δείγματα που ανήκουν στην κατηγορία 'Cloud9am'με τον αριθμό εμφανισεών τους:\n",
            "7.0    6875\n",
            "1.0    5481\n",
            "8.0    4861\n",
            "0.0    2975\n",
            "6.0    2722\n",
            "2.0    2283\n",
            "3.0    2037\n",
            "5.0    1850\n",
            "4.0    1447\n",
            "9.0       2\n",
            "Name: Cloud9am, dtype: int64 \n",
            "\n",
            "Δείγματα που ανήκουν στην κατηγορία 'Cloud3pm'με τον αριθμό εμφανισεών τους:\n",
            "7.0    6477\n",
            "1.0    5043\n",
            "8.0    4353\n",
            "6.0    3097\n",
            "2.0    2407\n",
            "3.0    2319\n",
            "5.0    2277\n",
            "4.0    1799\n",
            "0.0    1670\n",
            "Name: Cloud3pm, dtype: int64 \n",
            "\n",
            "Δείγματα που ανήκουν στην κατηγορία 'Temp9am'με τον αριθμό εμφανισεών τους:\n",
            " 13.8    381\n",
            " 13.0    351\n",
            " 12.8    347\n",
            " 11.5    341\n",
            " 12.6    341\n",
            "        ... \n",
            "-5.2       1\n",
            "-4.8       1\n",
            "-4.1       1\n",
            " 37.3      1\n",
            " 36.5      1\n",
            "Name: Temp9am, Length: 396, dtype: int64 \n",
            "\n",
            "Δείγματα που ανήκουν στην κατηγορία 'Temp3pm'με τον αριθμό εμφανισεών τους:\n",
            " 19.0    358\n",
            " 18.5    342\n",
            " 17.0    342\n",
            " 16.8    335\n",
            " 17.8    334\n",
            "        ... \n",
            " 1.9       1\n",
            "-0.8       1\n",
            "-2.0       1\n",
            "-3.7       1\n",
            " 41.4      1\n",
            "Name: Temp3pm, Length: 452, dtype: int64 \n",
            "\n",
            "Δείγματα που ανήκουν στην κατηγορία 'RainToday'με τον αριθμό εμφανισεών τους:\n",
            "0.0    37198\n",
            "1.0    11225\n",
            "Name: RainToday, dtype: int64 \n",
            "\n",
            "Δείγματα που ανήκουν στην κατηγορία 'RainTomorrow'με τον αριθμό εμφανισεών τους:\n",
            "0.0    37364\n",
            "1.0    11059\n",
            "Name: RainTomorrow, dtype: int64 \n"
          ]
        }
      ],
      "source": [
        "#2e\n",
        "for column in dataset.columns:\n",
        "    category_counts = dataset[column].value_counts()\n",
        "    print(f\"\\nΔείγματα που ανήκουν στην κατηγορία '{column}'με τον αριθμό εμφανισεών τους:\\n{category_counts} \")"
      ]
    },
    {
      "cell_type": "code",
      "execution_count": null,
      "metadata": {
        "colab": {
          "base_uri": "https://localhost:8080/",
          "height": 1000
        },
        "id": "Mm2JsexdrFt0",
        "outputId": "4b47f786-f41d-4e23-d83b-022eb76f09b6"
      },
      "outputs": [
        {
          "name": "stderr",
          "output_type": "stream",
          "text": [
            "<ipython-input-8-710df4c7505a>:3: FutureWarning: The default value of numeric_only in DataFrame.corr is deprecated. In a future version, it will default to False. Select only valid columns or specify the value of numeric_only to silence this warning.\n",
            "  corr_matrix = dataset.corr()\n"
          ]
        },
        {
          "data": {
            "text/html": [
              "\n",
              "  <div id=\"df-4337bf56-84a5-4edf-a057-46b9e4e7b8d4\" class=\"colab-df-container\">\n",
              "    <div>\n",
              "<style scoped>\n",
              "    .dataframe tbody tr th:only-of-type {\n",
              "        vertical-align: middle;\n",
              "    }\n",
              "\n",
              "    .dataframe tbody tr th {\n",
              "        vertical-align: top;\n",
              "    }\n",
              "\n",
              "    .dataframe thead th {\n",
              "        text-align: right;\n",
              "    }\n",
              "</style>\n",
              "<table border=\"1\" class=\"dataframe\">\n",
              "  <thead>\n",
              "    <tr style=\"text-align: right;\">\n",
              "      <th></th>\n",
              "      <th>Date</th>\n",
              "      <th>Location</th>\n",
              "      <th>MinTemp</th>\n",
              "      <th>MaxTemp</th>\n",
              "      <th>Rainfall</th>\n",
              "      <th>Evaporation</th>\n",
              "      <th>Sunshine</th>\n",
              "      <th>WindGustDir</th>\n",
              "      <th>WindGustSpeed</th>\n",
              "      <th>WindDir9am</th>\n",
              "      <th>...</th>\n",
              "      <th>Humidity9am</th>\n",
              "      <th>Humidity3pm</th>\n",
              "      <th>Pressure9am</th>\n",
              "      <th>Pressure3pm</th>\n",
              "      <th>Cloud9am</th>\n",
              "      <th>Cloud3pm</th>\n",
              "      <th>Temp9am</th>\n",
              "      <th>Temp3pm</th>\n",
              "      <th>RainToday</th>\n",
              "      <th>RainTomorrow</th>\n",
              "    </tr>\n",
              "  </thead>\n",
              "  <tbody>\n",
              "    <tr>\n",
              "      <th>0</th>\n",
              "      <td>2009-03-04</td>\n",
              "      <td>Albury</td>\n",
              "      <td>13.8</td>\n",
              "      <td>22.1</td>\n",
              "      <td>0.2</td>\n",
              "      <td>NaN</td>\n",
              "      <td>NaN</td>\n",
              "      <td>WNW</td>\n",
              "      <td>57.0</td>\n",
              "      <td>W</td>\n",
              "      <td>...</td>\n",
              "      <td>57.0</td>\n",
              "      <td>26.0</td>\n",
              "      <td>1014.5</td>\n",
              "      <td>1013.1</td>\n",
              "      <td>NaN</td>\n",
              "      <td>NaN</td>\n",
              "      <td>15.6</td>\n",
              "      <td>21.9</td>\n",
              "      <td>0.0</td>\n",
              "      <td>0.0</td>\n",
              "    </tr>\n",
              "    <tr>\n",
              "      <th>1</th>\n",
              "      <td>2009-03-05</td>\n",
              "      <td>Albury</td>\n",
              "      <td>11.5</td>\n",
              "      <td>22.0</td>\n",
              "      <td>0.0</td>\n",
              "      <td>NaN</td>\n",
              "      <td>NaN</td>\n",
              "      <td>SW</td>\n",
              "      <td>50.0</td>\n",
              "      <td>WSW</td>\n",
              "      <td>...</td>\n",
              "      <td>60.0</td>\n",
              "      <td>33.0</td>\n",
              "      <td>1013.7</td>\n",
              "      <td>1011.8</td>\n",
              "      <td>NaN</td>\n",
              "      <td>NaN</td>\n",
              "      <td>13.9</td>\n",
              "      <td>21.4</td>\n",
              "      <td>0.0</td>\n",
              "      <td>0.0</td>\n",
              "    </tr>\n",
              "    <tr>\n",
              "      <th>2</th>\n",
              "      <td>2009-03-09</td>\n",
              "      <td>Albury</td>\n",
              "      <td>13.8</td>\n",
              "      <td>31.8</td>\n",
              "      <td>0.0</td>\n",
              "      <td>NaN</td>\n",
              "      <td>NaN</td>\n",
              "      <td>NNE</td>\n",
              "      <td>24.0</td>\n",
              "      <td>SSE</td>\n",
              "      <td>...</td>\n",
              "      <td>49.0</td>\n",
              "      <td>28.0</td>\n",
              "      <td>1019.7</td>\n",
              "      <td>1015.9</td>\n",
              "      <td>NaN</td>\n",
              "      <td>NaN</td>\n",
              "      <td>18.6</td>\n",
              "      <td>30.5</td>\n",
              "      <td>0.0</td>\n",
              "      <td>0.0</td>\n",
              "    </tr>\n",
              "    <tr>\n",
              "      <th>3</th>\n",
              "      <td>2009-03-10</td>\n",
              "      <td>Albury</td>\n",
              "      <td>15.5</td>\n",
              "      <td>32.0</td>\n",
              "      <td>0.0</td>\n",
              "      <td>NaN</td>\n",
              "      <td>NaN</td>\n",
              "      <td>NE</td>\n",
              "      <td>50.0</td>\n",
              "      <td>ESE</td>\n",
              "      <td>...</td>\n",
              "      <td>51.0</td>\n",
              "      <td>25.0</td>\n",
              "      <td>1019.5</td>\n",
              "      <td>1016.2</td>\n",
              "      <td>NaN</td>\n",
              "      <td>NaN</td>\n",
              "      <td>20.1</td>\n",
              "      <td>30.8</td>\n",
              "      <td>0.0</td>\n",
              "      <td>1.0</td>\n",
              "    </tr>\n",
              "    <tr>\n",
              "      <th>4</th>\n",
              "      <td>2009-03-11</td>\n",
              "      <td>Albury</td>\n",
              "      <td>18.4</td>\n",
              "      <td>30.5</td>\n",
              "      <td>1.2</td>\n",
              "      <td>NaN</td>\n",
              "      <td>NaN</td>\n",
              "      <td>NE</td>\n",
              "      <td>44.0</td>\n",
              "      <td>NE</td>\n",
              "      <td>...</td>\n",
              "      <td>57.0</td>\n",
              "      <td>23.0</td>\n",
              "      <td>1021.3</td>\n",
              "      <td>1018.0</td>\n",
              "      <td>NaN</td>\n",
              "      <td>NaN</td>\n",
              "      <td>21.5</td>\n",
              "      <td>29.6</td>\n",
              "      <td>1.0</td>\n",
              "      <td>0.0</td>\n",
              "    </tr>\n",
              "    <tr>\n",
              "      <th>...</th>\n",
              "      <td>...</td>\n",
              "      <td>...</td>\n",
              "      <td>...</td>\n",
              "      <td>...</td>\n",
              "      <td>...</td>\n",
              "      <td>...</td>\n",
              "      <td>...</td>\n",
              "      <td>...</td>\n",
              "      <td>...</td>\n",
              "      <td>...</td>\n",
              "      <td>...</td>\n",
              "      <td>...</td>\n",
              "      <td>...</td>\n",
              "      <td>...</td>\n",
              "      <td>...</td>\n",
              "      <td>...</td>\n",
              "      <td>...</td>\n",
              "      <td>...</td>\n",
              "      <td>...</td>\n",
              "      <td>...</td>\n",
              "      <td>...</td>\n",
              "    </tr>\n",
              "    <tr>\n",
              "      <th>48418</th>\n",
              "      <td>2017-06-12</td>\n",
              "      <td>Uluru</td>\n",
              "      <td>5.1</td>\n",
              "      <td>19.7</td>\n",
              "      <td>0.0</td>\n",
              "      <td>NaN</td>\n",
              "      <td>NaN</td>\n",
              "      <td>E</td>\n",
              "      <td>46.0</td>\n",
              "      <td>ESE</td>\n",
              "      <td>...</td>\n",
              "      <td>56.0</td>\n",
              "      <td>29.0</td>\n",
              "      <td>1028.5</td>\n",
              "      <td>1025.8</td>\n",
              "      <td>NaN</td>\n",
              "      <td>NaN</td>\n",
              "      <td>8.5</td>\n",
              "      <td>19.2</td>\n",
              "      <td>0.0</td>\n",
              "      <td>0.0</td>\n",
              "    </tr>\n",
              "    <tr>\n",
              "      <th>48419</th>\n",
              "      <td>2017-06-16</td>\n",
              "      <td>Uluru</td>\n",
              "      <td>5.2</td>\n",
              "      <td>24.3</td>\n",
              "      <td>0.0</td>\n",
              "      <td>NaN</td>\n",
              "      <td>NaN</td>\n",
              "      <td>E</td>\n",
              "      <td>24.0</td>\n",
              "      <td>SE</td>\n",
              "      <td>...</td>\n",
              "      <td>53.0</td>\n",
              "      <td>24.0</td>\n",
              "      <td>1023.8</td>\n",
              "      <td>1020.0</td>\n",
              "      <td>NaN</td>\n",
              "      <td>NaN</td>\n",
              "      <td>12.3</td>\n",
              "      <td>23.3</td>\n",
              "      <td>0.0</td>\n",
              "      <td>0.0</td>\n",
              "    </tr>\n",
              "    <tr>\n",
              "      <th>48420</th>\n",
              "      <td>2017-06-20</td>\n",
              "      <td>Uluru</td>\n",
              "      <td>3.5</td>\n",
              "      <td>21.8</td>\n",
              "      <td>0.0</td>\n",
              "      <td>NaN</td>\n",
              "      <td>NaN</td>\n",
              "      <td>E</td>\n",
              "      <td>31.0</td>\n",
              "      <td>ESE</td>\n",
              "      <td>...</td>\n",
              "      <td>59.0</td>\n",
              "      <td>27.0</td>\n",
              "      <td>1024.7</td>\n",
              "      <td>1021.2</td>\n",
              "      <td>NaN</td>\n",
              "      <td>NaN</td>\n",
              "      <td>9.4</td>\n",
              "      <td>20.9</td>\n",
              "      <td>0.0</td>\n",
              "      <td>0.0</td>\n",
              "    </tr>\n",
              "    <tr>\n",
              "      <th>48421</th>\n",
              "      <td>2017-06-23</td>\n",
              "      <td>Uluru</td>\n",
              "      <td>5.4</td>\n",
              "      <td>26.9</td>\n",
              "      <td>0.0</td>\n",
              "      <td>NaN</td>\n",
              "      <td>NaN</td>\n",
              "      <td>N</td>\n",
              "      <td>37.0</td>\n",
              "      <td>SE</td>\n",
              "      <td>...</td>\n",
              "      <td>53.0</td>\n",
              "      <td>24.0</td>\n",
              "      <td>1021.0</td>\n",
              "      <td>1016.8</td>\n",
              "      <td>NaN</td>\n",
              "      <td>NaN</td>\n",
              "      <td>12.5</td>\n",
              "      <td>26.1</td>\n",
              "      <td>0.0</td>\n",
              "      <td>0.0</td>\n",
              "    </tr>\n",
              "    <tr>\n",
              "      <th>48422</th>\n",
              "      <td>2017-06-24</td>\n",
              "      <td>Uluru</td>\n",
              "      <td>7.8</td>\n",
              "      <td>27.0</td>\n",
              "      <td>0.0</td>\n",
              "      <td>NaN</td>\n",
              "      <td>NaN</td>\n",
              "      <td>SE</td>\n",
              "      <td>28.0</td>\n",
              "      <td>SSE</td>\n",
              "      <td>...</td>\n",
              "      <td>51.0</td>\n",
              "      <td>24.0</td>\n",
              "      <td>1019.4</td>\n",
              "      <td>1016.5</td>\n",
              "      <td>3.0</td>\n",
              "      <td>2.0</td>\n",
              "      <td>15.1</td>\n",
              "      <td>26.0</td>\n",
              "      <td>0.0</td>\n",
              "      <td>0.0</td>\n",
              "    </tr>\n",
              "  </tbody>\n",
              "</table>\n",
              "<p>48423 rows × 23 columns</p>\n",
              "</div>\n",
              "    <div class=\"colab-df-buttons\">\n",
              "\n",
              "  <div class=\"colab-df-container\">\n",
              "    <button class=\"colab-df-convert\" onclick=\"convertToInteractive('df-4337bf56-84a5-4edf-a057-46b9e4e7b8d4')\"\n",
              "            title=\"Convert this dataframe to an interactive table.\"\n",
              "            style=\"display:none;\">\n",
              "\n",
              "  <svg xmlns=\"http://www.w3.org/2000/svg\" height=\"24px\" viewBox=\"0 -960 960 960\">\n",
              "    <path d=\"M120-120v-720h720v720H120Zm60-500h600v-160H180v160Zm220 220h160v-160H400v160Zm0 220h160v-160H400v160ZM180-400h160v-160H180v160Zm440 0h160v-160H620v160ZM180-180h160v-160H180v160Zm440 0h160v-160H620v160Z\"/>\n",
              "  </svg>\n",
              "    </button>\n",
              "\n",
              "  <style>\n",
              "    .colab-df-container {\n",
              "      display:flex;\n",
              "      gap: 12px;\n",
              "    }\n",
              "\n",
              "    .colab-df-convert {\n",
              "      background-color: #E8F0FE;\n",
              "      border: none;\n",
              "      border-radius: 50%;\n",
              "      cursor: pointer;\n",
              "      display: none;\n",
              "      fill: #1967D2;\n",
              "      height: 32px;\n",
              "      padding: 0 0 0 0;\n",
              "      width: 32px;\n",
              "    }\n",
              "\n",
              "    .colab-df-convert:hover {\n",
              "      background-color: #E2EBFA;\n",
              "      box-shadow: 0px 1px 2px rgba(60, 64, 67, 0.3), 0px 1px 3px 1px rgba(60, 64, 67, 0.15);\n",
              "      fill: #174EA6;\n",
              "    }\n",
              "\n",
              "    .colab-df-buttons div {\n",
              "      margin-bottom: 4px;\n",
              "    }\n",
              "\n",
              "    [theme=dark] .colab-df-convert {\n",
              "      background-color: #3B4455;\n",
              "      fill: #D2E3FC;\n",
              "    }\n",
              "\n",
              "    [theme=dark] .colab-df-convert:hover {\n",
              "      background-color: #434B5C;\n",
              "      box-shadow: 0px 1px 3px 1px rgba(0, 0, 0, 0.15);\n",
              "      filter: drop-shadow(0px 1px 2px rgba(0, 0, 0, 0.3));\n",
              "      fill: #FFFFFF;\n",
              "    }\n",
              "  </style>\n",
              "\n",
              "    <script>\n",
              "      const buttonEl =\n",
              "        document.querySelector('#df-4337bf56-84a5-4edf-a057-46b9e4e7b8d4 button.colab-df-convert');\n",
              "      buttonEl.style.display =\n",
              "        google.colab.kernel.accessAllowed ? 'block' : 'none';\n",
              "\n",
              "      async function convertToInteractive(key) {\n",
              "        const element = document.querySelector('#df-4337bf56-84a5-4edf-a057-46b9e4e7b8d4');\n",
              "        const dataTable =\n",
              "          await google.colab.kernel.invokeFunction('convertToInteractive',\n",
              "                                                    [key], {});\n",
              "        if (!dataTable) return;\n",
              "\n",
              "        const docLinkHtml = 'Like what you see? Visit the ' +\n",
              "          '<a target=\"_blank\" href=https://colab.research.google.com/notebooks/data_table.ipynb>data table notebook</a>'\n",
              "          + ' to learn more about interactive tables.';\n",
              "        element.innerHTML = '';\n",
              "        dataTable['output_type'] = 'display_data';\n",
              "        await google.colab.output.renderOutput(dataTable, element);\n",
              "        const docLink = document.createElement('div');\n",
              "        docLink.innerHTML = docLinkHtml;\n",
              "        element.appendChild(docLink);\n",
              "      }\n",
              "    </script>\n",
              "  </div>\n",
              "\n",
              "\n",
              "<div id=\"df-c55f5ef7-dc15-4901-ad95-204e448c83f6\">\n",
              "  <button class=\"colab-df-quickchart\" onclick=\"quickchart('df-c55f5ef7-dc15-4901-ad95-204e448c83f6')\"\n",
              "            title=\"Suggest charts\"\n",
              "            style=\"display:none;\">\n",
              "\n",
              "<svg xmlns=\"http://www.w3.org/2000/svg\" height=\"24px\"viewBox=\"0 0 24 24\"\n",
              "     width=\"24px\">\n",
              "    <g>\n",
              "        <path d=\"M19 3H5c-1.1 0-2 .9-2 2v14c0 1.1.9 2 2 2h14c1.1 0 2-.9 2-2V5c0-1.1-.9-2-2-2zM9 17H7v-7h2v7zm4 0h-2V7h2v10zm4 0h-2v-4h2v4z\"/>\n",
              "    </g>\n",
              "</svg>\n",
              "  </button>\n",
              "\n",
              "<style>\n",
              "  .colab-df-quickchart {\n",
              "      --bg-color: #E8F0FE;\n",
              "      --fill-color: #1967D2;\n",
              "      --hover-bg-color: #E2EBFA;\n",
              "      --hover-fill-color: #174EA6;\n",
              "      --disabled-fill-color: #AAA;\n",
              "      --disabled-bg-color: #DDD;\n",
              "  }\n",
              "\n",
              "  [theme=dark] .colab-df-quickchart {\n",
              "      --bg-color: #3B4455;\n",
              "      --fill-color: #D2E3FC;\n",
              "      --hover-bg-color: #434B5C;\n",
              "      --hover-fill-color: #FFFFFF;\n",
              "      --disabled-bg-color: #3B4455;\n",
              "      --disabled-fill-color: #666;\n",
              "  }\n",
              "\n",
              "  .colab-df-quickchart {\n",
              "    background-color: var(--bg-color);\n",
              "    border: none;\n",
              "    border-radius: 50%;\n",
              "    cursor: pointer;\n",
              "    display: none;\n",
              "    fill: var(--fill-color);\n",
              "    height: 32px;\n",
              "    padding: 0;\n",
              "    width: 32px;\n",
              "  }\n",
              "\n",
              "  .colab-df-quickchart:hover {\n",
              "    background-color: var(--hover-bg-color);\n",
              "    box-shadow: 0 1px 2px rgba(60, 64, 67, 0.3), 0 1px 3px 1px rgba(60, 64, 67, 0.15);\n",
              "    fill: var(--button-hover-fill-color);\n",
              "  }\n",
              "\n",
              "  .colab-df-quickchart-complete:disabled,\n",
              "  .colab-df-quickchart-complete:disabled:hover {\n",
              "    background-color: var(--disabled-bg-color);\n",
              "    fill: var(--disabled-fill-color);\n",
              "    box-shadow: none;\n",
              "  }\n",
              "\n",
              "  .colab-df-spinner {\n",
              "    border: 2px solid var(--fill-color);\n",
              "    border-color: transparent;\n",
              "    border-bottom-color: var(--fill-color);\n",
              "    animation:\n",
              "      spin 1s steps(1) infinite;\n",
              "  }\n",
              "\n",
              "  @keyframes spin {\n",
              "    0% {\n",
              "      border-color: transparent;\n",
              "      border-bottom-color: var(--fill-color);\n",
              "      border-left-color: var(--fill-color);\n",
              "    }\n",
              "    20% {\n",
              "      border-color: transparent;\n",
              "      border-left-color: var(--fill-color);\n",
              "      border-top-color: var(--fill-color);\n",
              "    }\n",
              "    30% {\n",
              "      border-color: transparent;\n",
              "      border-left-color: var(--fill-color);\n",
              "      border-top-color: var(--fill-color);\n",
              "      border-right-color: var(--fill-color);\n",
              "    }\n",
              "    40% {\n",
              "      border-color: transparent;\n",
              "      border-right-color: var(--fill-color);\n",
              "      border-top-color: var(--fill-color);\n",
              "    }\n",
              "    60% {\n",
              "      border-color: transparent;\n",
              "      border-right-color: var(--fill-color);\n",
              "    }\n",
              "    80% {\n",
              "      border-color: transparent;\n",
              "      border-right-color: var(--fill-color);\n",
              "      border-bottom-color: var(--fill-color);\n",
              "    }\n",
              "    90% {\n",
              "      border-color: transparent;\n",
              "      border-bottom-color: var(--fill-color);\n",
              "    }\n",
              "  }\n",
              "</style>\n",
              "\n",
              "  <script>\n",
              "    async function quickchart(key) {\n",
              "      const quickchartButtonEl =\n",
              "        document.querySelector('#' + key + ' button');\n",
              "      quickchartButtonEl.disabled = true;  // To prevent multiple clicks.\n",
              "      quickchartButtonEl.classList.add('colab-df-spinner');\n",
              "      try {\n",
              "        const charts = await google.colab.kernel.invokeFunction(\n",
              "            'suggestCharts', [key], {});\n",
              "      } catch (error) {\n",
              "        console.error('Error during call to suggestCharts:', error);\n",
              "      }\n",
              "      quickchartButtonEl.classList.remove('colab-df-spinner');\n",
              "      quickchartButtonEl.classList.add('colab-df-quickchart-complete');\n",
              "    }\n",
              "    (() => {\n",
              "      let quickchartButtonEl =\n",
              "        document.querySelector('#df-c55f5ef7-dc15-4901-ad95-204e448c83f6 button');\n",
              "      quickchartButtonEl.style.display =\n",
              "        google.colab.kernel.accessAllowed ? 'block' : 'none';\n",
              "    })();\n",
              "  </script>\n",
              "</div>\n",
              "    </div>\n",
              "  </div>\n"
            ],
            "text/plain": [
              "             Date Location  MinTemp  MaxTemp  Rainfall  Evaporation  Sunshine  \\\n",
              "0      2009-03-04   Albury     13.8     22.1       0.2          NaN       NaN   \n",
              "1      2009-03-05   Albury     11.5     22.0       0.0          NaN       NaN   \n",
              "2      2009-03-09   Albury     13.8     31.8       0.0          NaN       NaN   \n",
              "3      2009-03-10   Albury     15.5     32.0       0.0          NaN       NaN   \n",
              "4      2009-03-11   Albury     18.4     30.5       1.2          NaN       NaN   \n",
              "...           ...      ...      ...      ...       ...          ...       ...   \n",
              "48418  2017-06-12    Uluru      5.1     19.7       0.0          NaN       NaN   \n",
              "48419  2017-06-16    Uluru      5.2     24.3       0.0          NaN       NaN   \n",
              "48420  2017-06-20    Uluru      3.5     21.8       0.0          NaN       NaN   \n",
              "48421  2017-06-23    Uluru      5.4     26.9       0.0          NaN       NaN   \n",
              "48422  2017-06-24    Uluru      7.8     27.0       0.0          NaN       NaN   \n",
              "\n",
              "      WindGustDir  WindGustSpeed WindDir9am  ... Humidity9am  Humidity3pm  \\\n",
              "0             WNW           57.0          W  ...        57.0         26.0   \n",
              "1              SW           50.0        WSW  ...        60.0         33.0   \n",
              "2             NNE           24.0        SSE  ...        49.0         28.0   \n",
              "3              NE           50.0        ESE  ...        51.0         25.0   \n",
              "4              NE           44.0         NE  ...        57.0         23.0   \n",
              "...           ...            ...        ...  ...         ...          ...   \n",
              "48418           E           46.0        ESE  ...        56.0         29.0   \n",
              "48419           E           24.0         SE  ...        53.0         24.0   \n",
              "48420           E           31.0        ESE  ...        59.0         27.0   \n",
              "48421           N           37.0         SE  ...        53.0         24.0   \n",
              "48422          SE           28.0        SSE  ...        51.0         24.0   \n",
              "\n",
              "       Pressure9am  Pressure3pm  Cloud9am  Cloud3pm  Temp9am  Temp3pm  \\\n",
              "0           1014.5       1013.1       NaN       NaN     15.6     21.9   \n",
              "1           1013.7       1011.8       NaN       NaN     13.9     21.4   \n",
              "2           1019.7       1015.9       NaN       NaN     18.6     30.5   \n",
              "3           1019.5       1016.2       NaN       NaN     20.1     30.8   \n",
              "4           1021.3       1018.0       NaN       NaN     21.5     29.6   \n",
              "...            ...          ...       ...       ...      ...      ...   \n",
              "48418       1028.5       1025.8       NaN       NaN      8.5     19.2   \n",
              "48419       1023.8       1020.0       NaN       NaN     12.3     23.3   \n",
              "48420       1024.7       1021.2       NaN       NaN      9.4     20.9   \n",
              "48421       1021.0       1016.8       NaN       NaN     12.5     26.1   \n",
              "48422       1019.4       1016.5       3.0       2.0     15.1     26.0   \n",
              "\n",
              "       RainToday  RainTomorrow  \n",
              "0            0.0           0.0  \n",
              "1            0.0           0.0  \n",
              "2            0.0           0.0  \n",
              "3            0.0           1.0  \n",
              "4            1.0           0.0  \n",
              "...          ...           ...  \n",
              "48418        0.0           0.0  \n",
              "48419        0.0           0.0  \n",
              "48420        0.0           0.0  \n",
              "48421        0.0           0.0  \n",
              "48422        0.0           0.0  \n",
              "\n",
              "[48423 rows x 23 columns]"
            ]
          },
          "execution_count": 8,
          "metadata": {},
          "output_type": "execute_result"
        },
        {
          "data": {
            "image/png": "[encoded data removed]",
            "text/plain": [
              "<Figure size 2300x2300 with 2 Axes>"
            ]
          },
          "metadata": {},
          "output_type": "display_data"
        }
      ],
      "source": [
        "#2st\n",
        "import seaborn as sn\n",
        "corr_matrix = dataset.corr()\n",
        "fig, ax = plt.subplots(figsize=(23,23))         # Sample figsize in inches\n",
        "sn.heatmap(corr_matrix, annot=True,linewidths=.5, ax=ax)\n",
        "\n",
        "dataset.drop(['id'], axis=1, inplace=False)\n"
      ]
    },
    {
      "cell_type": "code",
      "execution_count": null,
      "metadata": {
        "colab": {
          "base_uri": "https://localhost:8080/",
          "height": 619
        },
        "id": "3mA-xeNksTXA",
        "outputId": "79642565-ef6a-4284-f124-6a73df2b324f"
      },
      "outputs": [
        {
          "data": {
            "image/png": "[encoded data removed]",
            "text/plain": [
              "<Figure size 1000x600 with 1 Axes>"
            ]
          },
          "metadata": {},
          "output_type": "display_data"
        }
      ],
      "source": [
        "#2z\n",
        "import seaborn as sn\n",
        "summary_stats = dataset.describe()\n",
        "\n",
        "summary_stats = summary_stats.transpose()\n",
        "\n",
        "\n",
        "plt.figure(figsize=(10, 6))\n",
        "sn.barplot(x=summary_stats.index, y='mean', data=summary_stats, color='blue', alpha=0.7, label='Mean')\n",
        "sn.barplot(x=summary_stats.index, y='std', data=summary_stats, color='orange', alpha=0.7, label='Std')\n",
        "sn.barplot(x=summary_stats.index, y='50%', data=summary_stats, color='green', alpha=0.7, label='Median')\n",
        "\n",
        "#In order for x-axis values to be visible\n",
        "plt.xticks(rotation=45, ha='right')\n",
        "\n",
        "\n",
        "plt.title('Descriptive Statistics')\n",
        "plt.ylabel('Values')\n",
        "plt.legend()\n",
        "plt.show()\n"
      ]
    },
    {
      "cell_type": "markdown",
      "metadata": {
        "id": "EbK3in0hNMeI"
      },
      "source": [
        "### 3. Προεπεξεργασία συνόλου δεδομένων\n",
        "💡`Χρησιμοποιήστε το Column Transformer για τη δημιουργία και την εφαρμογή χωριστών μετασχηματιστών για αριθμητικά και κατηγορικά δεδομένα.`\n",
        "\n",
        "\n"
      ]
    },
    {
      "cell_type": "markdown",
      "metadata": {
        "id": "mKsQVCnLQZ30"
      },
      "source": [
        "3.α.  Θα χρησιμοποιήσετε όλα τα χαρακτηριστικά του συνόλου δεδομένων για την εκπαίδευση των ταξινομητών ή θα επιλέξετε κάποια από αυτά;  Θα κάνετε κάποια συνένωση κάποιων χαρακτηριστικών για δημιουργία νέων χαρακτηριστικών για το μοντέλο σας;\n"
      ]
    },
    {
      "cell_type": "markdown",
      "metadata": {
        "id": "1VkDoGwjKUql"
      },
      "source": [
        "**Εξαγωγή μήνα από Date**"
      ]
    },
    {
      "cell_type": "code",
      "execution_count": null,
      "metadata": {
        "colab": {
          "base_uri": "https://localhost:8080/"
        },
        "id": "Eqb25dcKNMvg",
        "outputId": "af975c47-1e59-424c-96a4-78cb2991fde7"
      },
      "outputs": [
        {
          "name": "stdout",
          "output_type": "stream",
          "text": [
            "   id       Date Location  MinTemp  MaxTemp  Rainfall  Evaporation  Sunshine  \\\n",
            "0   1 2009-03-04   Albury     13.8     22.1       0.2          NaN       NaN   \n",
            "1   2 2009-03-05   Albury     11.5     22.0       0.0          NaN       NaN   \n",
            "2   3 2009-03-09   Albury     13.8     31.8       0.0          NaN       NaN   \n",
            "3   4 2009-03-10   Albury     15.5     32.0       0.0          NaN       NaN   \n",
            "4   5 2009-03-11   Albury     18.4     30.5       1.2          NaN       NaN   \n",
            "\n",
            "  WindGustDir  WindGustSpeed  ... Humidity3pm Pressure9am  Pressure3pm  \\\n",
            "0         WNW           57.0  ...        26.0      1014.5       1013.1   \n",
            "1          SW           50.0  ...        33.0      1013.7       1011.8   \n",
            "2         NNE           24.0  ...        28.0      1019.7       1015.9   \n",
            "3          NE           50.0  ...        25.0      1019.5       1016.2   \n",
            "4          NE           44.0  ...        23.0      1021.3       1018.0   \n",
            "\n",
            "   Cloud9am  Cloud3pm  Temp9am  Temp3pm  RainToday  RainTomorrow  Month  \n",
            "0       NaN       NaN     15.6     21.9        0.0           0.0      3  \n",
            "1       NaN       NaN     13.9     21.4        0.0           0.0      3  \n",
            "2       NaN       NaN     18.6     30.5        0.0           0.0      3  \n",
            "3       NaN       NaN     20.1     30.8        0.0           1.0      3  \n",
            "4       NaN       NaN     21.5     29.6        1.0           0.0      3  \n",
            "\n",
            "[5 rows x 25 columns]\n"
          ]
        }
      ],
      "source": [
        "dataset['Date'] = pd.to_datetime(dataset['Date'])\n",
        "\n",
        "dataset['Month'] = dataset['Date'].dt.month\n",
        "\n",
        "# Display the updated DataFrame\n",
        "print(dataset.head())\n"
      ]
    },
    {
      "cell_type": "code",
      "execution_count": null,
      "metadata": {
        "colab": {
          "base_uri": "https://localhost:8080/"
        },
        "id": "SHM9bf1rkkkP",
        "outputId": "214239c1-cc02-4d59-91e2-5a8e9868b268"
      },
      "outputs": [
        {
          "name": "stderr",
          "output_type": "stream",
          "text": [
            "<ipython-input-11-c2aa12bee6c8>:1: UserWarning: Parsing dates in DD/MM/YYYY format when dayfirst=False (the default) was specified. This may lead to inconsistently parsed dates! Specify a format to ensure consistent parsing.\n",
            "  test['Date'] = pd.to_datetime(test['Date'])\n"
          ]
        }
      ],
      "source": [
        "test['Date'] = pd.to_datetime(test['Date'])\n",
        "test['Month'] = test['Date'].dt.month"
      ]
    },
    {
      "cell_type": "markdown",
      "metadata": {
        "id": "iXI0pi6vLWxy"
      },
      "source": [
        "**Min-Max Temp**"
      ]
    },
    {
      "cell_type": "code",
      "execution_count": null,
      "metadata": {
        "colab": {
          "base_uri": "https://localhost:8080/"
        },
        "id": "HaDv-ETILa4j",
        "outputId": "977d5559-027b-40d5-f47c-2067daff4fe5"
      },
      "outputs": [
        {
          "name": "stdout",
          "output_type": "stream",
          "text": [
            "       MinTemp  MaxTemp  TempRange\n",
            "0         13.8     22.1        8.3\n",
            "1         11.5     22.0       10.5\n",
            "2         13.8     31.8       18.0\n",
            "3         15.5     32.0       16.5\n",
            "4         18.4     30.5       12.1\n",
            "...        ...      ...        ...\n",
            "48418      5.1     19.7       14.6\n",
            "48419      5.2     24.3       19.1\n",
            "48420      3.5     21.8       18.3\n",
            "48421      5.4     26.9       21.5\n",
            "48422      7.8     27.0       19.2\n",
            "\n",
            "[48423 rows x 3 columns]\n"
          ]
        }
      ],
      "source": [
        "# Create a new column 'TempRange' representing the temperature range\n",
        "dataset['TempRange'] = dataset['MaxTemp'] - dataset['MinTemp']\n",
        "\n",
        "# Display the updated DataFrame\n",
        "print(dataset[['MinTemp', 'MaxTemp', 'TempRange']])\n",
        "\n"
      ]
    },
    {
      "cell_type": "code",
      "execution_count": null,
      "metadata": {
        "id": "soXatQkOk-Lq"
      },
      "outputs": [],
      "source": [
        "test['TempRange'] = test['MaxTemp'] - test['MinTemp']"
      ]
    },
    {
      "cell_type": "markdown",
      "metadata": {
        "id": "cTFRdGMxNJm7"
      },
      "source": [
        "**Κατηγοριοποίηση ποσοστού βροχής**"
      ]
    },
    {
      "cell_type": "code",
      "execution_count": null,
      "metadata": {
        "colab": {
          "base_uri": "https://localhost:8080/"
        },
        "id": "OZRH-5SrNI36",
        "outputId": "3a99e929-185b-434b-c1a1-1d2b515b99e1"
      },
      "outputs": [
        {
          "name": "stdout",
          "output_type": "stream",
          "text": [
            "       Rainfall RainfallCategory\n",
            "0           0.2          No Rain\n",
            "1           0.0          No Rain\n",
            "2           0.0          No Rain\n",
            "3           0.0          No Rain\n",
            "4           1.2       Light Rain\n",
            "...         ...              ...\n",
            "48418       0.0          No Rain\n",
            "48419       0.0          No Rain\n",
            "48420       0.0          No Rain\n",
            "48421       0.0          No Rain\n",
            "48422       0.0          No Rain\n",
            "\n",
            "[48423 rows x 2 columns]\n"
          ]
        }
      ],
      "source": [
        "# Define the bin edges and labels for rainfall categories\n",
        "bin_edges = [-np.inf, 0.5, 2.5, 10, np.inf]\n",
        "bin_labels = ['No Rain', 'Light Rain', 'Moderate Rain', 'Heavy Rain']\n",
        "\n",
        "# Create a new categorical column 'RainfallCategory'\n",
        "dataset['RainfallCategory'] = pd.cut(dataset['Rainfall'], bins=bin_edges, labels=bin_labels, include_lowest=True)\n",
        "\n",
        "# Display the updated DataFrame\n",
        "print(dataset[['Rainfall', 'RainfallCategory']])\n"
      ]
    },
    {
      "cell_type": "code",
      "execution_count": null,
      "metadata": {
        "id": "n9Y6mt9KlFbe"
      },
      "outputs": [],
      "source": [
        "test['RainfallCategory'] = pd.cut(test['Rainfall'], bins=bin_edges, labels=bin_labels, include_lowest=True)"
      ]
    },
    {
      "cell_type": "markdown",
      "metadata": {
        "id": "jMqtkGkJSzOH"
      },
      "source": [
        "**Διαφορά Υγρασίας**"
      ]
    },
    {
      "cell_type": "code",
      "execution_count": null,
      "metadata": {
        "colab": {
          "base_uri": "https://localhost:8080/"
        },
        "id": "mN9ZAat4O8pj",
        "outputId": "e12c74b8-a98b-4734-ae69-3db16f287927"
      },
      "outputs": [
        {
          "name": "stdout",
          "output_type": "stream",
          "text": [
            "       Humidity9am  Humidity3pm  HumidityChange\n",
            "0             57.0         26.0           -31.0\n",
            "1             60.0         33.0           -27.0\n",
            "2             49.0         28.0           -21.0\n",
            "3             51.0         25.0           -26.0\n",
            "4             57.0         23.0           -34.0\n",
            "...            ...          ...             ...\n",
            "48418         56.0         29.0           -27.0\n",
            "48419         53.0         24.0           -29.0\n",
            "48420         59.0         27.0           -32.0\n",
            "48421         53.0         24.0           -29.0\n",
            "48422         51.0         24.0           -27.0\n",
            "\n",
            "[48423 rows x 3 columns]\n"
          ]
        }
      ],
      "source": [
        "dataset['HumidityChange'] = dataset['Humidity3pm'] - dataset['Humidity9am']\n",
        "\n",
        "# Display the updated DataFrame\n",
        "print(dataset[['Humidity9am', 'Humidity3pm', 'HumidityChange']])\n",
        "\n"
      ]
    },
    {
      "cell_type": "code",
      "execution_count": null,
      "metadata": {
        "id": "46iaKPPxla6i"
      },
      "outputs": [],
      "source": [
        "test['HumidityChange'] = test['Humidity3pm'] - test['Humidity9am']"
      ]
    },
    {
      "cell_type": "markdown",
      "metadata": {
        "id": "Ru6c3d6oTH7i"
      },
      "source": [
        "**Διαφορά ατμοσφαιρικής πίσεης**"
      ]
    },
    {
      "cell_type": "code",
      "execution_count": null,
      "metadata": {
        "colab": {
          "base_uri": "https://localhost:8080/"
        },
        "id": "QR383fCvTNlz",
        "outputId": "0830c5ae-0b48-4b3d-93d4-a8f018f7f984"
      },
      "outputs": [
        {
          "name": "stdout",
          "output_type": "stream",
          "text": [
            "       Pressure9am  Pressure3pm  PressureChange\n",
            "0           1014.5       1013.1            -1.4\n",
            "1           1013.7       1011.8            -1.9\n",
            "2           1019.7       1015.9            -3.8\n",
            "3           1019.5       1016.2            -3.3\n",
            "4           1021.3       1018.0            -3.3\n",
            "...            ...          ...             ...\n",
            "48418       1028.5       1025.8            -2.7\n",
            "48419       1023.8       1020.0            -3.8\n",
            "48420       1024.7       1021.2            -3.5\n",
            "48421       1021.0       1016.8            -4.2\n",
            "48422       1019.4       1016.5            -2.9\n",
            "\n",
            "[48423 rows x 3 columns]\n"
          ]
        }
      ],
      "source": [
        "dataset['PressureChange'] = dataset['Pressure3pm'] - dataset['Pressure9am']\n",
        "\n",
        "# Display the updated DataFrame\n",
        "print(dataset[['Pressure9am', 'Pressure3pm', 'PressureChange']])"
      ]
    },
    {
      "cell_type": "code",
      "execution_count": null,
      "metadata": {
        "id": "wZsZGJRPljXF"
      },
      "outputs": [],
      "source": [
        "test['PressureChange'] = test['Pressure3pm'] - test['Pressure9am']"
      ]
    },
    {
      "cell_type": "markdown",
      "metadata": {
        "id": "E-x2hO4iTVJk"
      },
      "source": [
        "**Διαφορά συννέφων**"
      ]
    },
    {
      "cell_type": "code",
      "execution_count": null,
      "metadata": {
        "colab": {
          "base_uri": "https://localhost:8080/"
        },
        "id": "Aa7g1lyqTU0K",
        "outputId": "b8240292-411e-4e4f-e47f-10acdf53790a"
      },
      "outputs": [
        {
          "name": "stdout",
          "output_type": "stream",
          "text": [
            "       CloudChange  Cloud3pm  Cloud9am\n",
            "0              NaN       NaN       NaN\n",
            "1              NaN       NaN       NaN\n",
            "2              NaN       NaN       NaN\n",
            "3              NaN       NaN       NaN\n",
            "4              NaN       NaN       NaN\n",
            "...            ...       ...       ...\n",
            "48418          NaN       NaN       NaN\n",
            "48419          NaN       NaN       NaN\n",
            "48420          NaN       NaN       NaN\n",
            "48421          NaN       NaN       NaN\n",
            "48422         -1.0       2.0       3.0\n",
            "\n",
            "[48423 rows x 3 columns]\n"
          ]
        }
      ],
      "source": [
        "dataset['CloudChange'] = dataset['Cloud3pm'] - dataset['Cloud9am']\n",
        "\n",
        "# Display the updated DataFrame\n",
        "print(dataset[['CloudChange', 'Cloud3pm', 'Cloud9am']])"
      ]
    },
    {
      "cell_type": "code",
      "execution_count": null,
      "metadata": {
        "id": "uzAfC_idlyvl"
      },
      "outputs": [],
      "source": [
        "test['CloudChange'] = test['Cloud3pm'] - test['Cloud9am']"
      ]
    },
    {
      "cell_type": "markdown",
      "metadata": {
        "id": "m2hJvwffUK-X"
      },
      "source": [
        "**Διαφορά θερμοκρασίας**"
      ]
    },
    {
      "cell_type": "code",
      "execution_count": null,
      "metadata": {
        "colab": {
          "base_uri": "https://localhost:8080/"
        },
        "id": "4XLq-B1bULIn",
        "outputId": "4a585646-36ba-42f7-a6d8-2860bbad0b9a"
      },
      "outputs": [
        {
          "name": "stdout",
          "output_type": "stream",
          "text": [
            "       TempChange  Temp3pm  Temp9am\n",
            "0             6.3     21.9     15.6\n",
            "1             7.5     21.4     13.9\n",
            "2            11.9     30.5     18.6\n",
            "3            10.7     30.8     20.1\n",
            "4             8.1     29.6     21.5\n",
            "...           ...      ...      ...\n",
            "48418        10.7     19.2      8.5\n",
            "48419        11.0     23.3     12.3\n",
            "48420        11.5     20.9      9.4\n",
            "48421        13.6     26.1     12.5\n",
            "48422        10.9     26.0     15.1\n",
            "\n",
            "[48423 rows x 3 columns]\n"
          ]
        }
      ],
      "source": [
        "dataset['TempChange'] = dataset['Temp3pm'] - dataset['Temp9am']\n",
        "\n",
        "# Display the updated DataFrame\n",
        "print(dataset[['TempChange', 'Temp3pm', 'Temp9am']])"
      ]
    },
    {
      "cell_type": "code",
      "execution_count": null,
      "metadata": {
        "id": "XkZ-u9oNl6dr"
      },
      "outputs": [],
      "source": [
        "test['TempChange'] = test['Temp3pm'] - test['Temp9am']\n",
        "\n"
      ]
    },
    {
      "cell_type": "markdown",
      "metadata": {
        "id": "ewWFMw6WXQhg"
      },
      "source": [
        "**Διαφορά Ταχύτητας Αέρα**"
      ]
    },
    {
      "cell_type": "code",
      "execution_count": null,
      "metadata": {
        "colab": {
          "base_uri": "https://localhost:8080/"
        },
        "id": "jm0i5SLvXWyM",
        "outputId": "98470561-c8ff-49af-8bb9-19dddfe9b8c0"
      },
      "outputs": [
        {
          "name": "stdout",
          "output_type": "stream",
          "text": [
            "       WindSpeedChange  WindSpeed3pm  WindSpeed9am\n",
            "0                  7.0          33.0          26.0\n",
            "1                 14.0          33.0          19.0\n",
            "2                 11.0          17.0           6.0\n",
            "3                  2.0           4.0           2.0\n",
            "4                  4.0          19.0          15.0\n",
            "...                ...           ...           ...\n",
            "48418              4.0          17.0          13.0\n",
            "48419              0.0          11.0          11.0\n",
            "48420             -2.0          13.0          15.0\n",
            "48421              0.0           9.0           9.0\n",
            "48422             -6.0           7.0          13.0\n",
            "\n",
            "[48423 rows x 3 columns]\n"
          ]
        }
      ],
      "source": [
        "dataset['WindSpeedChange'] = dataset['WindSpeed3pm'] - dataset['WindSpeed9am']\n",
        "\n",
        "# Display the updated DataFrame\n",
        "print(dataset[['WindSpeedChange', 'WindSpeed3pm', 'WindSpeed9am']])"
      ]
    },
    {
      "cell_type": "code",
      "execution_count": null,
      "metadata": {
        "id": "-1JHrt8Tl_Rj"
      },
      "outputs": [],
      "source": [
        "test['WindSpeedChange'] = test['WindSpeed3pm'] - test['WindSpeed9am']"
      ]
    },
    {
      "cell_type": "markdown",
      "metadata": {
        "id": "G8O3xpUWUebf"
      },
      "source": [
        "*Διαγράφουμε όλες τις παράγουσες στήλες που χρησιμοποιήσαμε για την εξαγωγή δεδομένων*"
      ]
    },
    {
      "cell_type": "code",
      "execution_count": null,
      "metadata": {
        "colab": {
          "base_uri": "https://localhost:8080/"
        },
        "id": "slyrAzmoUdG5",
        "outputId": "2d916dc1-5bdf-465a-a914-2ad798ae99cc"
      },
      "outputs": [
        {
          "name": "stdout",
          "output_type": "stream",
          "text": [
            "          id       Date Location  MinTemp  MaxTemp  Rainfall  Evaporation  \\\n",
            "0          1 2009-03-04   Albury     13.8     22.1       0.2          NaN   \n",
            "1          2 2009-03-05   Albury     11.5     22.0       0.0          NaN   \n",
            "2          3 2009-03-09   Albury     13.8     31.8       0.0          NaN   \n",
            "3          4 2009-03-10   Albury     15.5     32.0       0.0          NaN   \n",
            "4          5 2009-03-11   Albury     18.4     30.5       1.2          NaN   \n",
            "...      ...        ...      ...      ...      ...       ...          ...   \n",
            "48418  48419 2017-06-12    Uluru      5.1     19.7       0.0          NaN   \n",
            "48419  48420 2017-06-16    Uluru      5.2     24.3       0.0          NaN   \n",
            "48420  48421 2017-06-20    Uluru      3.5     21.8       0.0          NaN   \n",
            "48421  48422 2017-06-23    Uluru      5.4     26.9       0.0          NaN   \n",
            "48422  48423 2017-06-24    Uluru      7.8     27.0       0.0          NaN   \n",
            "\n",
            "       Sunshine WindGustDir  WindGustSpeed  ... RainToday RainTomorrow  Month  \\\n",
            "0           NaN         WNW           57.0  ...       0.0          0.0      3   \n",
            "1           NaN          SW           50.0  ...       0.0          0.0      3   \n",
            "2           NaN         NNE           24.0  ...       0.0          0.0      3   \n",
            "3           NaN          NE           50.0  ...       0.0          1.0      3   \n",
            "4           NaN          NE           44.0  ...       1.0          0.0      3   \n",
            "...         ...         ...            ...  ...       ...          ...    ...   \n",
            "48418       NaN           E           46.0  ...       0.0          0.0      6   \n",
            "48419       NaN           E           24.0  ...       0.0          0.0      6   \n",
            "48420       NaN           E           31.0  ...       0.0          0.0      6   \n",
            "48421       NaN           N           37.0  ...       0.0          0.0      6   \n",
            "48422       NaN          SE           28.0  ...       0.0          0.0      6   \n",
            "\n",
            "       TempRange  RainfallCategory  HumidityChange  PressureChange  \\\n",
            "0            8.3           No Rain           -31.0            -1.4   \n",
            "1           10.5           No Rain           -27.0            -1.9   \n",
            "2           18.0           No Rain           -21.0            -3.8   \n",
            "3           16.5           No Rain           -26.0            -3.3   \n",
            "4           12.1        Light Rain           -34.0            -3.3   \n",
            "...          ...               ...             ...             ...   \n",
            "48418       14.6           No Rain           -27.0            -2.7   \n",
            "48419       19.1           No Rain           -29.0            -3.8   \n",
            "48420       18.3           No Rain           -32.0            -3.5   \n",
            "48421       21.5           No Rain           -29.0            -4.2   \n",
            "48422       19.2           No Rain           -27.0            -2.9   \n",
            "\n",
            "       CloudChange  TempChange  WindSpeedChange  \n",
            "0              NaN         6.3              7.0  \n",
            "1              NaN         7.5             14.0  \n",
            "2              NaN        11.9             11.0  \n",
            "3              NaN        10.7              2.0  \n",
            "4              NaN         8.1              4.0  \n",
            "...            ...         ...              ...  \n",
            "48418          NaN        10.7              4.0  \n",
            "48419          NaN        11.0              0.0  \n",
            "48420          NaN        11.5             -2.0  \n",
            "48421          NaN        13.6              0.0  \n",
            "48422         -1.0        10.9             -6.0  \n",
            "\n",
            "[48423 rows x 32 columns]\n"
          ]
        }
      ],
      "source": [
        "print(dataset)"
      ]
    },
    {
      "cell_type": "code",
      "execution_count": null,
      "metadata": {
        "id": "QO_1jh13U0nk"
      },
      "outputs": [],
      "source": [
        "dataset.drop(['id','Rainfall','Date','MinTemp','MaxTemp','Humidity9am','Humidity3pm','WindSpeed9am','WindSpeed3pm','Pressure9am','Pressure3pm','Cloud9am','Cloud3pm','Temp9am','Temp3pm','RainToday'],axis=1,inplace=True)\n"
      ]
    },
    {
      "cell_type": "code",
      "execution_count": null,
      "metadata": {
        "id": "HC0LyP0qmINt"
      },
      "outputs": [],
      "source": [
        "test.drop(['Rainfall','Date','MinTemp','MaxTemp','Humidity9am','Humidity3pm','WindSpeed9am','WindSpeed3pm','Pressure9am','Pressure3pm','Cloud9am','Cloud3pm','Temp9am','Temp3pm','RainToday'],axis=1,inplace=True)\n"
      ]
    },
    {
      "cell_type": "code",
      "execution_count": null,
      "metadata": {
        "colab": {
          "base_uri": "https://localhost:8080/",
          "height": 226
        },
        "id": "M7Rl0ffoWn-f",
        "outputId": "3579f736-8407-4c8a-9f7f-9f6a2e765d2a"
      },
      "outputs": [
        {
          "data": {
            "text/html": [
              "\n",
              "  <div id=\"df-f0725253-4213-4c7a-98b5-786f543728f8\" class=\"colab-df-container\">\n",
              "    <div>\n",
              "<style scoped>\n",
              "    .dataframe tbody tr th:only-of-type {\n",
              "        vertical-align: middle;\n",
              "    }\n",
              "\n",
              "    .dataframe tbody tr th {\n",
              "        vertical-align: top;\n",
              "    }\n",
              "\n",
              "    .dataframe thead th {\n",
              "        text-align: right;\n",
              "    }\n",
              "</style>\n",
              "<table border=\"1\" class=\"dataframe\">\n",
              "  <thead>\n",
              "    <tr style=\"text-align: right;\">\n",
              "      <th></th>\n",
              "      <th>Location</th>\n",
              "      <th>Evaporation</th>\n",
              "      <th>Sunshine</th>\n",
              "      <th>WindGustDir</th>\n",
              "      <th>WindGustSpeed</th>\n",
              "      <th>WindDir9am</th>\n",
              "      <th>WindDir3pm</th>\n",
              "      <th>RainTomorrow</th>\n",
              "      <th>Month</th>\n",
              "      <th>TempRange</th>\n",
              "      <th>RainfallCategory</th>\n",
              "      <th>HumidityChange</th>\n",
              "      <th>PressureChange</th>\n",
              "      <th>CloudChange</th>\n",
              "      <th>TempChange</th>\n",
              "      <th>WindSpeedChange</th>\n",
              "    </tr>\n",
              "  </thead>\n",
              "  <tbody>\n",
              "    <tr>\n",
              "      <th>0</th>\n",
              "      <td>Albury</td>\n",
              "      <td>NaN</td>\n",
              "      <td>NaN</td>\n",
              "      <td>WNW</td>\n",
              "      <td>57.0</td>\n",
              "      <td>W</td>\n",
              "      <td>WNW</td>\n",
              "      <td>0.0</td>\n",
              "      <td>3</td>\n",
              "      <td>8.3</td>\n",
              "      <td>No Rain</td>\n",
              "      <td>-31.0</td>\n",
              "      <td>-1.4</td>\n",
              "      <td>NaN</td>\n",
              "      <td>6.3</td>\n",
              "      <td>7.0</td>\n",
              "    </tr>\n",
              "    <tr>\n",
              "      <th>1</th>\n",
              "      <td>Albury</td>\n",
              "      <td>NaN</td>\n",
              "      <td>NaN</td>\n",
              "      <td>SW</td>\n",
              "      <td>50.0</td>\n",
              "      <td>WSW</td>\n",
              "      <td>W</td>\n",
              "      <td>0.0</td>\n",
              "      <td>3</td>\n",
              "      <td>10.5</td>\n",
              "      <td>No Rain</td>\n",
              "      <td>-27.0</td>\n",
              "      <td>-1.9</td>\n",
              "      <td>NaN</td>\n",
              "      <td>7.5</td>\n",
              "      <td>14.0</td>\n",
              "    </tr>\n",
              "    <tr>\n",
              "      <th>2</th>\n",
              "      <td>Albury</td>\n",
              "      <td>NaN</td>\n",
              "      <td>NaN</td>\n",
              "      <td>NNE</td>\n",
              "      <td>24.0</td>\n",
              "      <td>SSE</td>\n",
              "      <td>NE</td>\n",
              "      <td>0.0</td>\n",
              "      <td>3</td>\n",
              "      <td>18.0</td>\n",
              "      <td>No Rain</td>\n",
              "      <td>-21.0</td>\n",
              "      <td>-3.8</td>\n",
              "      <td>NaN</td>\n",
              "      <td>11.9</td>\n",
              "      <td>11.0</td>\n",
              "    </tr>\n",
              "    <tr>\n",
              "      <th>3</th>\n",
              "      <td>Albury</td>\n",
              "      <td>NaN</td>\n",
              "      <td>NaN</td>\n",
              "      <td>NE</td>\n",
              "      <td>50.0</td>\n",
              "      <td>ESE</td>\n",
              "      <td>E</td>\n",
              "      <td>1.0</td>\n",
              "      <td>3</td>\n",
              "      <td>16.5</td>\n",
              "      <td>No Rain</td>\n",
              "      <td>-26.0</td>\n",
              "      <td>-3.3</td>\n",
              "      <td>NaN</td>\n",
              "      <td>10.7</td>\n",
              "      <td>2.0</td>\n",
              "    </tr>\n",
              "    <tr>\n",
              "      <th>4</th>\n",
              "      <td>Albury</td>\n",
              "      <td>NaN</td>\n",
              "      <td>NaN</td>\n",
              "      <td>NE</td>\n",
              "      <td>44.0</td>\n",
              "      <td>NE</td>\n",
              "      <td>N</td>\n",
              "      <td>0.0</td>\n",
              "      <td>3</td>\n",
              "      <td>12.1</td>\n",
              "      <td>Light Rain</td>\n",
              "      <td>-34.0</td>\n",
              "      <td>-3.3</td>\n",
              "      <td>NaN</td>\n",
              "      <td>8.1</td>\n",
              "      <td>4.0</td>\n",
              "    </tr>\n",
              "  </tbody>\n",
              "</table>\n",
              "</div>\n",
              "    <div class=\"colab-df-buttons\">\n",
              "\n",
              "  <div class=\"colab-df-container\">\n",
              "    <button class=\"colab-df-convert\" onclick=\"convertToInteractive('df-f0725253-4213-4c7a-98b5-786f543728f8')\"\n",
              "            title=\"Convert this dataframe to an interactive table.\"\n",
              "            style=\"display:none;\">\n",
              "\n",
              "  <svg xmlns=\"http://www.w3.org/2000/svg\" height=\"24px\" viewBox=\"0 -960 960 960\">\n",
              "    <path d=\"M120-120v-720h720v720H120Zm60-500h600v-160H180v160Zm220 220h160v-160H400v160Zm0 220h160v-160H400v160ZM180-400h160v-160H180v160Zm440 0h160v-160H620v160ZM180-180h160v-160H180v160Zm440 0h160v-160H620v160Z\"/>\n",
              "  </svg>\n",
              "    </button>\n",
              "\n",
              "  <style>\n",
              "    .colab-df-container {\n",
              "      display:flex;\n",
              "      gap: 12px;\n",
              "    }\n",
              "\n",
              "    .colab-df-convert {\n",
              "      background-color: #E8F0FE;\n",
              "      border: none;\n",
              "      border-radius: 50%;\n",
              "      cursor: pointer;\n",
              "      display: none;\n",
              "      fill: #1967D2;\n",
              "      height: 32px;\n",
              "      padding: 0 0 0 0;\n",
              "      width: 32px;\n",
              "    }\n",
              "\n",
              "    .colab-df-convert:hover {\n",
              "      background-color: #E2EBFA;\n",
              "      box-shadow: 0px 1px 2px rgba(60, 64, 67, 0.3), 0px 1px 3px 1px rgba(60, 64, 67, 0.15);\n",
              "      fill: #174EA6;\n",
              "    }\n",
              "\n",
              "    .colab-df-buttons div {\n",
              "      margin-bottom: 4px;\n",
              "    }\n",
              "\n",
              "    [theme=dark] .colab-df-convert {\n",
              "      background-color: #3B4455;\n",
              "      fill: #D2E3FC;\n",
              "    }\n",
              "\n",
              "    [theme=dark] .colab-df-convert:hover {\n",
              "      background-color: #434B5C;\n",
              "      box-shadow: 0px 1px 3px 1px rgba(0, 0, 0, 0.15);\n",
              "      filter: drop-shadow(0px 1px 2px rgba(0, 0, 0, 0.3));\n",
              "      fill: #FFFFFF;\n",
              "    }\n",
              "  </style>\n",
              "\n",
              "    <script>\n",
              "      const buttonEl =\n",
              "        document.querySelector('#df-f0725253-4213-4c7a-98b5-786f543728f8 button.colab-df-convert');\n",
              "      buttonEl.style.display =\n",
              "        google.colab.kernel.accessAllowed ? 'block' : 'none';\n",
              "\n",
              "      async function convertToInteractive(key) {\n",
              "        const element = document.querySelector('#df-f0725253-4213-4c7a-98b5-786f543728f8');\n",
              "        const dataTable =\n",
              "          await google.colab.kernel.invokeFunction('convertToInteractive',\n",
              "                                                    [key], {});\n",
              "        if (!dataTable) return;\n",
              "\n",
              "        const docLinkHtml = 'Like what you see? Visit the ' +\n",
              "          '<a target=\"_blank\" href=https://colab.research.google.com/notebooks/data_table.ipynb>data table notebook</a>'\n",
              "          + ' to learn more about interactive tables.';\n",
              "        element.innerHTML = '';\n",
              "        dataTable['output_type'] = 'display_data';\n",
              "        await google.colab.output.renderOutput(dataTable, element);\n",
              "        const docLink = document.createElement('div');\n",
              "        docLink.innerHTML = docLinkHtml;\n",
              "        element.appendChild(docLink);\n",
              "      }\n",
              "    </script>\n",
              "  </div>\n",
              "\n",
              "\n",
              "<div id=\"df-0189c142-fecf-4861-bb54-a645d974210a\">\n",
              "  <button class=\"colab-df-quickchart\" onclick=\"quickchart('df-0189c142-fecf-4861-bb54-a645d974210a')\"\n",
              "            title=\"Suggest charts\"\n",
              "            style=\"display:none;\">\n",
              "\n",
              "<svg xmlns=\"http://www.w3.org/2000/svg\" height=\"24px\"viewBox=\"0 0 24 24\"\n",
              "     width=\"24px\">\n",
              "    <g>\n",
              "        <path d=\"M19 3H5c-1.1 0-2 .9-2 2v14c0 1.1.9 2 2 2h14c1.1 0 2-.9 2-2V5c0-1.1-.9-2-2-2zM9 17H7v-7h2v7zm4 0h-2V7h2v10zm4 0h-2v-4h2v4z\"/>\n",
              "    </g>\n",
              "</svg>\n",
              "  </button>\n",
              "\n",
              "<style>\n",
              "  .colab-df-quickchart {\n",
              "      --bg-color: #E8F0FE;\n",
              "      --fill-color: #1967D2;\n",
              "      --hover-bg-color: #E2EBFA;\n",
              "      --hover-fill-color: #174EA6;\n",
              "      --disabled-fill-color: #AAA;\n",
              "      --disabled-bg-color: #DDD;\n",
              "  }\n",
              "\n",
              "  [theme=dark] .colab-df-quickchart {\n",
              "      --bg-color: #3B4455;\n",
              "      --fill-color: #D2E3FC;\n",
              "      --hover-bg-color: #434B5C;\n",
              "      --hover-fill-color: #FFFFFF;\n",
              "      --disabled-bg-color: #3B4455;\n",
              "      --disabled-fill-color: #666;\n",
              "  }\n",
              "\n",
              "  .colab-df-quickchart {\n",
              "    background-color: var(--bg-color);\n",
              "    border: none;\n",
              "    border-radius: 50%;\n",
              "    cursor: pointer;\n",
              "    display: none;\n",
              "    fill: var(--fill-color);\n",
              "    height: 32px;\n",
              "    padding: 0;\n",
              "    width: 32px;\n",
              "  }\n",
              "\n",
              "  .colab-df-quickchart:hover {\n",
              "    background-color: var(--hover-bg-color);\n",
              "    box-shadow: 0 1px 2px rgba(60, 64, 67, 0.3), 0 1px 3px 1px rgba(60, 64, 67, 0.15);\n",
              "    fill: var(--button-hover-fill-color);\n",
              "  }\n",
              "\n",
              "  .colab-df-quickchart-complete:disabled,\n",
              "  .colab-df-quickchart-complete:disabled:hover {\n",
              "    background-color: var(--disabled-bg-color);\n",
              "    fill: var(--disabled-fill-color);\n",
              "    box-shadow: none;\n",
              "  }\n",
              "\n",
              "  .colab-df-spinner {\n",
              "    border: 2px solid var(--fill-color);\n",
              "    border-color: transparent;\n",
              "    border-bottom-color: var(--fill-color);\n",
              "    animation:\n",
              "      spin 1s steps(1) infinite;\n",
              "  }\n",
              "\n",
              "  @keyframes spin {\n",
              "    0% {\n",
              "      border-color: transparent;\n",
              "      border-bottom-color: var(--fill-color);\n",
              "      border-left-color: var(--fill-color);\n",
              "    }\n",
              "    20% {\n",
              "      border-color: transparent;\n",
              "      border-left-color: var(--fill-color);\n",
              "      border-top-color: var(--fill-color);\n",
              "    }\n",
              "    30% {\n",
              "      border-color: transparent;\n",
              "      border-left-color: var(--fill-color);\n",
              "      border-top-color: var(--fill-color);\n",
              "      border-right-color: var(--fill-color);\n",
              "    }\n",
              "    40% {\n",
              "      border-color: transparent;\n",
              "      border-right-color: var(--fill-color);\n",
              "      border-top-color: var(--fill-color);\n",
              "    }\n",
              "    60% {\n",
              "      border-color: transparent;\n",
              "      border-right-color: var(--fill-color);\n",
              "    }\n",
              "    80% {\n",
              "      border-color: transparent;\n",
              "      border-right-color: var(--fill-color);\n",
              "      border-bottom-color: var(--fill-color);\n",
              "    }\n",
              "    90% {\n",
              "      border-color: transparent;\n",
              "      border-bottom-color: var(--fill-color);\n",
              "    }\n",
              "  }\n",
              "</style>\n",
              "\n",
              "  <script>\n",
              "    async function quickchart(key) {\n",
              "      const quickchartButtonEl =\n",
              "        document.querySelector('#' + key + ' button');\n",
              "      quickchartButtonEl.disabled = true;  // To prevent multiple clicks.\n",
              "      quickchartButtonEl.classList.add('colab-df-spinner');\n",
              "      try {\n",
              "        const charts = await google.colab.kernel.invokeFunction(\n",
              "            'suggestCharts', [key], {});\n",
              "      } catch (error) {\n",
              "        console.error('Error during call to suggestCharts:', error);\n",
              "      }\n",
              "      quickchartButtonEl.classList.remove('colab-df-spinner');\n",
              "      quickchartButtonEl.classList.add('colab-df-quickchart-complete');\n",
              "    }\n",
              "    (() => {\n",
              "      let quickchartButtonEl =\n",
              "        document.querySelector('#df-0189c142-fecf-4861-bb54-a645d974210a button');\n",
              "      quickchartButtonEl.style.display =\n",
              "        google.colab.kernel.accessAllowed ? 'block' : 'none';\n",
              "    })();\n",
              "  </script>\n",
              "</div>\n",
              "    </div>\n",
              "  </div>\n"
            ],
            "text/plain": [
              "  Location  Evaporation  Sunshine WindGustDir  WindGustSpeed WindDir9am  \\\n",
              "0   Albury          NaN       NaN         WNW           57.0          W   \n",
              "1   Albury          NaN       NaN          SW           50.0        WSW   \n",
              "2   Albury          NaN       NaN         NNE           24.0        SSE   \n",
              "3   Albury          NaN       NaN          NE           50.0        ESE   \n",
              "4   Albury          NaN       NaN          NE           44.0         NE   \n",
              "\n",
              "  WindDir3pm  RainTomorrow  Month  TempRange RainfallCategory  HumidityChange  \\\n",
              "0        WNW           0.0      3        8.3          No Rain           -31.0   \n",
              "1          W           0.0      3       10.5          No Rain           -27.0   \n",
              "2         NE           0.0      3       18.0          No Rain           -21.0   \n",
              "3          E           1.0      3       16.5          No Rain           -26.0   \n",
              "4          N           0.0      3       12.1       Light Rain           -34.0   \n",
              "\n",
              "   PressureChange  CloudChange  TempChange  WindSpeedChange  \n",
              "0            -1.4          NaN         6.3              7.0  \n",
              "1            -1.9          NaN         7.5             14.0  \n",
              "2            -3.8          NaN        11.9             11.0  \n",
              "3            -3.3          NaN        10.7              2.0  \n",
              "4            -3.3          NaN         8.1              4.0  "
            ]
          },
          "execution_count": 29,
          "metadata": {},
          "output_type": "execute_result"
        }
      ],
      "source": [
        "dataset.head()"
      ]
    },
    {
      "cell_type": "code",
      "execution_count": null,
      "metadata": {
        "id": "yjXKZaY-cveh"
      },
      "outputs": [],
      "source": [
        "# Assuming 'df' is your DataFrame\n",
        "# Assuming 'target_column' is the column you want to move to the end\n",
        "\n",
        "# Store the target column values\n",
        "target_values = dataset['RainTomorrow']\n",
        "\n",
        "# Drop the target column from its original position\n",
        "dataset = dataset.drop('RainTomorrow', axis=1)\n",
        "\n",
        "# Add the target column to the end\n",
        "dataset['RainTomorrow'] = target_values"
      ]
    },
    {
      "cell_type": "markdown",
      "metadata": {
        "id": "GPCa3SklNmBe"
      },
      "source": [
        "3.β. Υπάρχουν απουσιάζουσες τιμές; Γράψτε κατάλληλο κώδικα ώστε να χειριστείτε αυτές τις τιμές."
      ]
    },
    {
      "cell_type": "code",
      "execution_count": null,
      "metadata": {
        "id": "kp3rFgPnnyFn"
      },
      "outputs": [],
      "source": [
        "from sklearn.impute import SimpleImputer\n",
        "imputer = SimpleImputer(missing_values = np.nan, strategy = 'mean')"
      ]
    },
    {
      "cell_type": "code",
      "execution_count": null,
      "metadata": {
        "id": "EjudOvngwLim"
      },
      "outputs": [],
      "source": [
        "dataset.Evaporation = imputer.fit_transform(np.array(dataset['Evaporation']).reshape(-1,1))\n",
        "dataset.Sunshine = imputer.fit_transform(np.array(dataset['Sunshine']).reshape(-1,1))\n",
        "dataset.WindGustSpeed = imputer.fit_transform(np.array(dataset['WindGustSpeed']).reshape(-1,1))\n",
        "dataset.Month = imputer.fit_transform(np.array(dataset['Month']).reshape(-1,1))\n",
        "dataset.TempRange = imputer.fit_transform(np.array(dataset['TempRange']).reshape(-1,1))\n",
        "dataset.WindSpeedChange = imputer.fit_transform(np.array(dataset['WindSpeedChange']).reshape(-1,1))\n",
        "dataset.HumidityChange = imputer.fit_transform(np.array(dataset['HumidityChange']).reshape(-1,1))\n",
        "dataset.PressureChange = imputer.fit_transform(np.array(dataset['PressureChange']).reshape(-1,1))\n",
        "dataset.CloudChange = imputer.fit_transform(np.array(dataset['CloudChange']).reshape(-1,1))\n",
        "dataset.TempChange = imputer.fit_transform(np.array(dataset['TempChange']).reshape(-1,1))"
      ]
    },
    {
      "cell_type": "code",
      "execution_count": null,
      "metadata": {
        "id": "TFVKzMPWmSLw"
      },
      "outputs": [],
      "source": [
        "test.Evaporation = imputer.fit_transform(np.array(test['Evaporation']).reshape(-1,1))\n",
        "test.Sunshine = imputer.fit_transform(np.array(test['Sunshine']).reshape(-1,1))\n",
        "test.WindGustSpeed = imputer.fit_transform(np.array(test['WindGustSpeed']).reshape(-1,1))\n",
        "test.Month = imputer.fit_transform(np.array(test['Month']).reshape(-1,1))\n",
        "test.TempRange = imputer.fit_transform(np.array(test['TempRange']).reshape(-1,1))\n",
        "test.WindSpeedChange = imputer.fit_transform(np.array(test['WindSpeedChange']).reshape(-1,1))\n",
        "test.HumidityChange = imputer.fit_transform(np.array(test['HumidityChange']).reshape(-1,1))\n",
        "test.PressureChange = imputer.fit_transform(np.array(test['PressureChange']).reshape(-1,1))\n",
        "test.CloudChange = imputer.fit_transform(np.array(test['CloudChange']).reshape(-1,1))\n",
        "test.TempChange = imputer.fit_transform(np.array(test['TempChange']).reshape(-1,1))"
      ]
    },
    {
      "cell_type": "code",
      "execution_count": null,
      "metadata": {
        "id": "a5BuIFABwnff"
      },
      "outputs": [],
      "source": [
        "imputer1 = SimpleImputer(missing_values=np.nan, strategy='most_frequent')\n",
        "\n",
        "dataset.Location = imputer1.fit_transform(np.array(dataset['Location']).reshape(-1,1))\n",
        "dataset.WindGustDir = imputer1.fit_transform(np.array(dataset['WindGustDir']).reshape(-1,1))\n",
        "dataset.WindDir9am = imputer1.fit_transform(np.array(dataset['WindDir9am']).reshape(-1,1))\n",
        "dataset.WindDir3pm = imputer1.fit_transform(np.array(dataset['WindDir3pm']).reshape(-1,1))\n",
        "dataset.RainfallCategory = imputer1.fit_transform(np.array(dataset['RainfallCategory']).reshape(-1,1))"
      ]
    },
    {
      "cell_type": "code",
      "execution_count": null,
      "metadata": {
        "id": "TjLSayzGn9Xd"
      },
      "outputs": [],
      "source": [
        "imputer1 = SimpleImputer(missing_values=np.nan, strategy='most_frequent')\n",
        "\n",
        "test.Location = imputer1.fit_transform(np.array(test['Location']).reshape(-1,1))\n",
        "test.WindGustDir = imputer1.fit_transform(np.array(test['WindGustDir']).reshape(-1,1))\n",
        "test.WindDir9am = imputer1.fit_transform(np.array(test['WindDir9am']).reshape(-1,1))\n",
        "test.WindDir3pm = imputer1.fit_transform(np.array(test['WindDir3pm']).reshape(-1,1))\n",
        "test.RainfallCategory = imputer1.fit_transform(np.array(test['RainfallCategory']).reshape(-1,1))"
      ]
    },
    {
      "cell_type": "markdown",
      "metadata": {
        "id": "ZRq1eHYfNoEO"
      },
      "source": [
        "3.γ. Γράψτε κώδικα για την κατάλληλη μετατροπή των κατηγορικών μεταβλητών ώστε να μπορούν να τους διαχειριστούν οι ταξινομητές που θα χρησιμοποιήσετε."
      ]
    },
    {
      "cell_type": "code",
      "execution_count": null,
      "metadata": {
        "colab": {
          "base_uri": "https://localhost:8080/"
        },
        "id": "FU4pzGHL5rcJ",
        "outputId": "a85f4718-df81-48ef-873c-654260c635d0"
      },
      "outputs": [
        {
          "name": "stdout",
          "output_type": "stream",
          "text": [
            "      Location WindGustDir WindDir9am WindDir3pm RainfallCategory  \\\n",
            "0       Albury         WNW          W        WNW          No Rain   \n",
            "1       Albury          SW        WSW          W          No Rain   \n",
            "2       Albury         NNE        SSE         NE          No Rain   \n",
            "3       Albury          NE        ESE          E          No Rain   \n",
            "4       Albury          NE         NE          N       Light Rain   \n",
            "...        ...         ...        ...        ...              ...   \n",
            "48418    Uluru           E        ESE          E          No Rain   \n",
            "48419    Uluru           E         SE          E          No Rain   \n",
            "48420    Uluru           E        ESE          E          No Rain   \n",
            "48421    Uluru           N         SE        WNW          No Rain   \n",
            "48422    Uluru          SE        SSE          N          No Rain   \n",
            "\n",
            "       Evaporation  Sunshine  WindGustSpeed  Month  TempRange  HumidityChange  \\\n",
            "0         4.590831  7.162259           57.0    3.0        8.3           -31.0   \n",
            "1         4.590831  7.162259           50.0    3.0       10.5           -27.0   \n",
            "2         4.590831  7.162259           24.0    3.0       18.0           -21.0   \n",
            "3         4.590831  7.162259           50.0    3.0       16.5           -26.0   \n",
            "4         4.590831  7.162259           44.0    3.0       12.1           -34.0   \n",
            "...            ...       ...            ...    ...        ...             ...   \n",
            "48418     4.590831  7.162259           46.0    6.0       14.6           -27.0   \n",
            "48419     4.590831  7.162259           24.0    6.0       19.1           -29.0   \n",
            "48420     4.590831  7.162259           31.0    6.0       18.3           -32.0   \n",
            "48421     4.590831  7.162259           37.0    6.0       21.5           -29.0   \n",
            "48422     4.590831  7.162259           28.0    6.0       19.2           -27.0   \n",
            "\n",
            "       PressureChange  CloudChange  TempChange  WindSpeedChange  RainTomorrow  \n",
            "0                -1.4      0.13665         6.3              7.0           0.0  \n",
            "1                -1.9      0.13665         7.5             14.0           0.0  \n",
            "2                -3.8      0.13665        11.9             11.0           0.0  \n",
            "3                -3.3      0.13665        10.7              2.0           1.0  \n",
            "4                -3.3      0.13665         8.1              4.0           0.0  \n",
            "...               ...          ...         ...              ...           ...  \n",
            "48418            -2.7      0.13665        10.7              4.0           0.0  \n",
            "48419            -3.8      0.13665        11.0              0.0           0.0  \n",
            "48420            -3.5      0.13665        11.5             -2.0           0.0  \n",
            "48421            -4.2      0.13665        13.6              0.0           0.0  \n",
            "48422            -2.9     -1.00000        10.9             -6.0           0.0  \n",
            "\n",
            "[48423 rows x 16 columns]\n"
          ]
        }
      ],
      "source": [
        "from pandas.core.frame import DataFrame\n",
        "specific_columns = ['Location', 'WindGustDir', 'WindDir9am', 'WindDir3pm', 'RainfallCategory']\n",
        "\n",
        "# Ensure that all specific columns are present in the DataFrame\n",
        "missing_columns = set(specific_columns) - set(dataset.columns)\n",
        "if missing_columns:\n",
        "    raise ValueError(f\"Columns {missing_columns} are not present in the DataFrame.\")\n",
        "\n",
        "# Reorder columns with specific columns at the beginning\n",
        "ordered_columns = specific_columns + [col for col in dataset.columns if col not in specific_columns]\n",
        "dataset = dataset[ordered_columns]\n",
        "\n",
        "# Display the updated DataFrame\n",
        "print(dataset)"
      ]
    },
    {
      "cell_type": "code",
      "execution_count": null,
      "metadata": {
        "id": "D8hUmzGqoKwZ"
      },
      "outputs": [],
      "source": [
        "from pandas.core.frame import DataFrame\n",
        "specific_columns = ['Location', 'WindGustDir', 'WindDir9am', 'WindDir3pm', 'RainfallCategory']\n",
        "\n",
        "# Ensure that all specific columns are present in the DataFrame\n",
        "missing_columns = set(specific_columns) - set(test.columns)\n",
        "if missing_columns:\n",
        "    raise ValueError(f\"Columns {missing_columns} are not present in the DataFrame.\")\n",
        "\n",
        "# Reorder columns with specific columns at the beginning\n",
        "test_ordered_columns = specific_columns + [col for col in test.columns if col not in specific_columns]\n",
        "test = test[test_ordered_columns]"
      ]
    },
    {
      "cell_type": "code",
      "execution_count": null,
      "metadata": {
        "id": "NxRunryNQiXa"
      },
      "outputs": [],
      "source": [
        "from sklearn.compose import ColumnTransformer\n",
        "from sklearn.preprocessing import OneHotEncoder\n",
        "\n",
        "columns_to_encode = ['Location', 'WindGustDir', 'WindDir9am', 'WindDir3pm', 'RainfallCategory']\n",
        "\n",
        "ct = ColumnTransformer(transformers=[('encoder', OneHotEncoder(), columns_to_encode)], remainder='passthrough')\n",
        "dataset_encoded = ct.fit_transform(dataset) #apply transformation\n",
        "\n",
        "\n",
        "#Convert column names to new ones\n",
        "encoded_columns = ct.named_transformers_['encoder'].get_feature_names_out(columns_to_encode)\n",
        "#Convert the encoded dataset to a DataFrame, combining the one-hot encoded columns and the remaining columns.\n",
        "dataset_encoded_df = pd.DataFrame(dataset_encoded.toarray(), columns=list(encoded_columns) + dataset.columns[len(columns_to_encode):].tolist())"
      ]
    },
    {
      "cell_type": "code",
      "execution_count": null,
      "metadata": {
        "id": "WkHCr0BkpIfQ"
      },
      "outputs": [],
      "source": [
        "test_encoded = ct.fit_transform(test) #apply transformation\n",
        "\n",
        "#Convert column names to new ones\n",
        "test_encoded_columns = ct.named_transformers_['encoder'].get_feature_names_out(columns_to_encode)\n",
        "#Convert the encoded dataset to a DataFrame, combining the one-hot encoded columns and the remaining columns.\n",
        "test_encoded_df = pd.DataFrame(test_encoded.toarray(), columns=list(encoded_columns) + test.columns[len(columns_to_encode):].tolist())"
      ]
    },
    {
      "cell_type": "code",
      "execution_count": null,
      "metadata": {
        "colab": {
          "base_uri": "https://localhost:8080/",
          "height": 256
        },
        "id": "_CD3iVkn1RIK",
        "outputId": "143062c6-0c8e-4ade-8196-fe8cecdbfd24"
      },
      "outputs": [
        {
          "data": {
            "text/html": [
              "\n",
              "  <div id=\"df-28957825-78d7-4a07-8e60-b2d4de4ad20f\" class=\"colab-df-container\">\n",
              "    <div>\n",
              "<style scoped>\n",
              "    .dataframe tbody tr th:only-of-type {\n",
              "        vertical-align: middle;\n",
              "    }\n",
              "\n",
              "    .dataframe tbody tr th {\n",
              "        vertical-align: top;\n",
              "    }\n",
              "\n",
              "    .dataframe thead th {\n",
              "        text-align: right;\n",
              "    }\n",
              "</style>\n",
              "<table border=\"1\" class=\"dataframe\">\n",
              "  <thead>\n",
              "    <tr style=\"text-align: right;\">\n",
              "      <th></th>\n",
              "      <th>Location_Adelaide</th>\n",
              "      <th>Location_Albany</th>\n",
              "      <th>Location_Albury</th>\n",
              "      <th>Location_AliceSprings</th>\n",
              "      <th>Location_BadgerysCreek</th>\n",
              "      <th>Location_Ballarat</th>\n",
              "      <th>Location_Bendigo</th>\n",
              "      <th>Location_Brisbane</th>\n",
              "      <th>Location_Cairns</th>\n",
              "      <th>Location_Canberra</th>\n",
              "      <th>...</th>\n",
              "      <th>Sunshine</th>\n",
              "      <th>WindGustSpeed</th>\n",
              "      <th>Month</th>\n",
              "      <th>TempRange</th>\n",
              "      <th>HumidityChange</th>\n",
              "      <th>PressureChange</th>\n",
              "      <th>CloudChange</th>\n",
              "      <th>TempChange</th>\n",
              "      <th>WindSpeedChange</th>\n",
              "      <th>RainTomorrow</th>\n",
              "    </tr>\n",
              "  </thead>\n",
              "  <tbody>\n",
              "    <tr>\n",
              "      <th>0</th>\n",
              "      <td>0.0</td>\n",
              "      <td>0.0</td>\n",
              "      <td>1.0</td>\n",
              "      <td>0.0</td>\n",
              "      <td>0.0</td>\n",
              "      <td>0.0</td>\n",
              "      <td>0.0</td>\n",
              "      <td>0.0</td>\n",
              "      <td>0.0</td>\n",
              "      <td>0.0</td>\n",
              "      <td>...</td>\n",
              "      <td>7.162259</td>\n",
              "      <td>57.0</td>\n",
              "      <td>3.0</td>\n",
              "      <td>8.3</td>\n",
              "      <td>-31.0</td>\n",
              "      <td>-1.4</td>\n",
              "      <td>0.13665</td>\n",
              "      <td>6.3</td>\n",
              "      <td>7.0</td>\n",
              "      <td>0.0</td>\n",
              "    </tr>\n",
              "    <tr>\n",
              "      <th>1</th>\n",
              "      <td>0.0</td>\n",
              "      <td>0.0</td>\n",
              "      <td>1.0</td>\n",
              "      <td>0.0</td>\n",
              "      <td>0.0</td>\n",
              "      <td>0.0</td>\n",
              "      <td>0.0</td>\n",
              "      <td>0.0</td>\n",
              "      <td>0.0</td>\n",
              "      <td>0.0</td>\n",
              "      <td>...</td>\n",
              "      <td>7.162259</td>\n",
              "      <td>50.0</td>\n",
              "      <td>3.0</td>\n",
              "      <td>10.5</td>\n",
              "      <td>-27.0</td>\n",
              "      <td>-1.9</td>\n",
              "      <td>0.13665</td>\n",
              "      <td>7.5</td>\n",
              "      <td>14.0</td>\n",
              "      <td>0.0</td>\n",
              "    </tr>\n",
              "    <tr>\n",
              "      <th>2</th>\n",
              "      <td>0.0</td>\n",
              "      <td>0.0</td>\n",
              "      <td>1.0</td>\n",
              "      <td>0.0</td>\n",
              "      <td>0.0</td>\n",
              "      <td>0.0</td>\n",
              "      <td>0.0</td>\n",
              "      <td>0.0</td>\n",
              "      <td>0.0</td>\n",
              "      <td>0.0</td>\n",
              "      <td>...</td>\n",
              "      <td>7.162259</td>\n",
              "      <td>24.0</td>\n",
              "      <td>3.0</td>\n",
              "      <td>18.0</td>\n",
              "      <td>-21.0</td>\n",
              "      <td>-3.8</td>\n",
              "      <td>0.13665</td>\n",
              "      <td>11.9</td>\n",
              "      <td>11.0</td>\n",
              "      <td>0.0</td>\n",
              "    </tr>\n",
              "    <tr>\n",
              "      <th>3</th>\n",
              "      <td>0.0</td>\n",
              "      <td>0.0</td>\n",
              "      <td>1.0</td>\n",
              "      <td>0.0</td>\n",
              "      <td>0.0</td>\n",
              "      <td>0.0</td>\n",
              "      <td>0.0</td>\n",
              "      <td>0.0</td>\n",
              "      <td>0.0</td>\n",
              "      <td>0.0</td>\n",
              "      <td>...</td>\n",
              "      <td>7.162259</td>\n",
              "      <td>50.0</td>\n",
              "      <td>3.0</td>\n",
              "      <td>16.5</td>\n",
              "      <td>-26.0</td>\n",
              "      <td>-3.3</td>\n",
              "      <td>0.13665</td>\n",
              "      <td>10.7</td>\n",
              "      <td>2.0</td>\n",
              "      <td>1.0</td>\n",
              "    </tr>\n",
              "    <tr>\n",
              "      <th>4</th>\n",
              "      <td>0.0</td>\n",
              "      <td>0.0</td>\n",
              "      <td>1.0</td>\n",
              "      <td>0.0</td>\n",
              "      <td>0.0</td>\n",
              "      <td>0.0</td>\n",
              "      <td>0.0</td>\n",
              "      <td>0.0</td>\n",
              "      <td>0.0</td>\n",
              "      <td>0.0</td>\n",
              "      <td>...</td>\n",
              "      <td>7.162259</td>\n",
              "      <td>44.0</td>\n",
              "      <td>3.0</td>\n",
              "      <td>12.1</td>\n",
              "      <td>-34.0</td>\n",
              "      <td>-3.3</td>\n",
              "      <td>0.13665</td>\n",
              "      <td>8.1</td>\n",
              "      <td>4.0</td>\n",
              "      <td>0.0</td>\n",
              "    </tr>\n",
              "  </tbody>\n",
              "</table>\n",
              "<p>5 rows × 112 columns</p>\n",
              "</div>\n",
              "    <div class=\"colab-df-buttons\">\n",
              "\n",
              "  <div class=\"colab-df-container\">\n",
              "    <button class=\"colab-df-convert\" onclick=\"convertToInteractive('df-28957825-78d7-4a07-8e60-b2d4de4ad20f')\"\n",
              "            title=\"Convert this dataframe to an interactive table.\"\n",
              "            style=\"display:none;\">\n",
              "\n",
              "  <svg xmlns=\"http://www.w3.org/2000/svg\" height=\"24px\" viewBox=\"0 -960 960 960\">\n",
              "    <path d=\"M120-120v-720h720v720H120Zm60-500h600v-160H180v160Zm220 220h160v-160H400v160Zm0 220h160v-160H400v160ZM180-400h160v-160H180v160Zm440 0h160v-160H620v160ZM180-180h160v-160H180v160Zm440 0h160v-160H620v160Z\"/>\n",
              "  </svg>\n",
              "    </button>\n",
              "\n",
              "  <style>\n",
              "    .colab-df-container {\n",
              "      display:flex;\n",
              "      gap: 12px;\n",
              "    }\n",
              "\n",
              "    .colab-df-convert {\n",
              "      background-color: #E8F0FE;\n",
              "      border: none;\n",
              "      border-radius: 50%;\n",
              "      cursor: pointer;\n",
              "      display: none;\n",
              "      fill: #1967D2;\n",
              "      height: 32px;\n",
              "      padding: 0 0 0 0;\n",
              "      width: 32px;\n",
              "    }\n",
              "\n",
              "    .colab-df-convert:hover {\n",
              "      background-color: #E2EBFA;\n",
              "      box-shadow: 0px 1px 2px rgba(60, 64, 67, 0.3), 0px 1px 3px 1px rgba(60, 64, 67, 0.15);\n",
              "      fill: #174EA6;\n",
              "    }\n",
              "\n",
              "    .colab-df-buttons div {\n",
              "      margin-bottom: 4px;\n",
              "    }\n",
              "\n",
              "    [theme=dark] .colab-df-convert {\n",
              "      background-color: #3B4455;\n",
              "      fill: #D2E3FC;\n",
              "    }\n",
              "\n",
              "    [theme=dark] .colab-df-convert:hover {\n",
              "      background-color: #434B5C;\n",
              "      box-shadow: 0px 1px 3px 1px rgba(0, 0, 0, 0.15);\n",
              "      filter: drop-shadow(0px 1px 2px rgba(0, 0, 0, 0.3));\n",
              "      fill: #FFFFFF;\n",
              "    }\n",
              "  </style>\n",
              "\n",
              "    <script>\n",
              "      const buttonEl =\n",
              "        document.querySelector('#df-28957825-78d7-4a07-8e60-b2d4de4ad20f button.colab-df-convert');\n",
              "      buttonEl.style.display =\n",
              "        google.colab.kernel.accessAllowed ? 'block' : 'none';\n",
              "\n",
              "      async function convertToInteractive(key) {\n",
              "        const element = document.querySelector('#df-28957825-78d7-4a07-8e60-b2d4de4ad20f');\n",
              "        const dataTable =\n",
              "          await google.colab.kernel.invokeFunction('convertToInteractive',\n",
              "                                                    [key], {});\n",
              "        if (!dataTable) return;\n",
              "\n",
              "        const docLinkHtml = 'Like what you see? Visit the ' +\n",
              "          '<a target=\"_blank\" href=https://colab.research.google.com/notebooks/data_table.ipynb>data table notebook</a>'\n",
              "          + ' to learn more about interactive tables.';\n",
              "        element.innerHTML = '';\n",
              "        dataTable['output_type'] = 'display_data';\n",
              "        await google.colab.output.renderOutput(dataTable, element);\n",
              "        const docLink = document.createElement('div');\n",
              "        docLink.innerHTML = docLinkHtml;\n",
              "        element.appendChild(docLink);\n",
              "      }\n",
              "    </script>\n",
              "  </div>\n",
              "\n",
              "\n",
              "<div id=\"df-92510f01-493e-4527-9503-fe81dd2e870c\">\n",
              "  <button class=\"colab-df-quickchart\" onclick=\"quickchart('df-92510f01-493e-4527-9503-fe81dd2e870c')\"\n",
              "            title=\"Suggest charts\"\n",
              "            style=\"display:none;\">\n",
              "\n",
              "<svg xmlns=\"http://www.w3.org/2000/svg\" height=\"24px\"viewBox=\"0 0 24 24\"\n",
              "     width=\"24px\">\n",
              "    <g>\n",
              "        <path d=\"M19 3H5c-1.1 0-2 .9-2 2v14c0 1.1.9 2 2 2h14c1.1 0 2-.9 2-2V5c0-1.1-.9-2-2-2zM9 17H7v-7h2v7zm4 0h-2V7h2v10zm4 0h-2v-4h2v4z\"/>\n",
              "    </g>\n",
              "</svg>\n",
              "  </button>\n",
              "\n",
              "<style>\n",
              "  .colab-df-quickchart {\n",
              "      --bg-color: #E8F0FE;\n",
              "      --fill-color: #1967D2;\n",
              "      --hover-bg-color: #E2EBFA;\n",
              "      --hover-fill-color: #174EA6;\n",
              "      --disabled-fill-color: #AAA;\n",
              "      --disabled-bg-color: #DDD;\n",
              "  }\n",
              "\n",
              "  [theme=dark] .colab-df-quickchart {\n",
              "      --bg-color: #3B4455;\n",
              "      --fill-color: #D2E3FC;\n",
              "      --hover-bg-color: #434B5C;\n",
              "      --hover-fill-color: #FFFFFF;\n",
              "      --disabled-bg-color: #3B4455;\n",
              "      --disabled-fill-color: #666;\n",
              "  }\n",
              "\n",
              "  .colab-df-quickchart {\n",
              "    background-color: var(--bg-color);\n",
              "    border: none;\n",
              "    border-radius: 50%;\n",
              "    cursor: pointer;\n",
              "    display: none;\n",
              "    fill: var(--fill-color);\n",
              "    height: 32px;\n",
              "    padding: 0;\n",
              "    width: 32px;\n",
              "  }\n",
              "\n",
              "  .colab-df-quickchart:hover {\n",
              "    background-color: var(--hover-bg-color);\n",
              "    box-shadow: 0 1px 2px rgba(60, 64, 67, 0.3), 0 1px 3px 1px rgba(60, 64, 67, 0.15);\n",
              "    fill: var(--button-hover-fill-color);\n",
              "  }\n",
              "\n",
              "  .colab-df-quickchart-complete:disabled,\n",
              "  .colab-df-quickchart-complete:disabled:hover {\n",
              "    background-color: var(--disabled-bg-color);\n",
              "    fill: var(--disabled-fill-color);\n",
              "    box-shadow: none;\n",
              "  }\n",
              "\n",
              "  .colab-df-spinner {\n",
              "    border: 2px solid var(--fill-color);\n",
              "    border-color: transparent;\n",
              "    border-bottom-color: var(--fill-color);\n",
              "    animation:\n",
              "      spin 1s steps(1) infinite;\n",
              "  }\n",
              "\n",
              "  @keyframes spin {\n",
              "    0% {\n",
              "      border-color: transparent;\n",
              "      border-bottom-color: var(--fill-color);\n",
              "      border-left-color: var(--fill-color);\n",
              "    }\n",
              "    20% {\n",
              "      border-color: transparent;\n",
              "      border-left-color: var(--fill-color);\n",
              "      border-top-color: var(--fill-color);\n",
              "    }\n",
              "    30% {\n",
              "      border-color: transparent;\n",
              "      border-left-color: var(--fill-color);\n",
              "      border-top-color: var(--fill-color);\n",
              "      border-right-color: var(--fill-color);\n",
              "    }\n",
              "    40% {\n",
              "      border-color: transparent;\n",
              "      border-right-color: var(--fill-color);\n",
              "      border-top-color: var(--fill-color);\n",
              "    }\n",
              "    60% {\n",
              "      border-color: transparent;\n",
              "      border-right-color: var(--fill-color);\n",
              "    }\n",
              "    80% {\n",
              "      border-color: transparent;\n",
              "      border-right-color: var(--fill-color);\n",
              "      border-bottom-color: var(--fill-color);\n",
              "    }\n",
              "    90% {\n",
              "      border-color: transparent;\n",
              "      border-bottom-color: var(--fill-color);\n",
              "    }\n",
              "  }\n",
              "</style>\n",
              "\n",
              "  <script>\n",
              "    async function quickchart(key) {\n",
              "      const quickchartButtonEl =\n",
              "        document.querySelector('#' + key + ' button');\n",
              "      quickchartButtonEl.disabled = true;  // To prevent multiple clicks.\n",
              "      quickchartButtonEl.classList.add('colab-df-spinner');\n",
              "      try {\n",
              "        const charts = await google.colab.kernel.invokeFunction(\n",
              "            'suggestCharts', [key], {});\n",
              "      } catch (error) {\n",
              "        console.error('Error during call to suggestCharts:', error);\n",
              "      }\n",
              "      quickchartButtonEl.classList.remove('colab-df-spinner');\n",
              "      quickchartButtonEl.classList.add('colab-df-quickchart-complete');\n",
              "    }\n",
              "    (() => {\n",
              "      let quickchartButtonEl =\n",
              "        document.querySelector('#df-92510f01-493e-4527-9503-fe81dd2e870c button');\n",
              "      quickchartButtonEl.style.display =\n",
              "        google.colab.kernel.accessAllowed ? 'block' : 'none';\n",
              "    })();\n",
              "  </script>\n",
              "</div>\n",
              "    </div>\n",
              "  </div>\n"
            ],
            "text/plain": [
              "   Location_Adelaide  Location_Albany  Location_Albury  Location_AliceSprings  \\\n",
              "0                0.0              0.0              1.0                    0.0   \n",
              "1                0.0              0.0              1.0                    0.0   \n",
              "2                0.0              0.0              1.0                    0.0   \n",
              "3                0.0              0.0              1.0                    0.0   \n",
              "4                0.0              0.0              1.0                    0.0   \n",
              "\n",
              "   Location_BadgerysCreek  Location_Ballarat  Location_Bendigo  \\\n",
              "0                     0.0                0.0               0.0   \n",
              "1                     0.0                0.0               0.0   \n",
              "2                     0.0                0.0               0.0   \n",
              "3                     0.0                0.0               0.0   \n",
              "4                     0.0                0.0               0.0   \n",
              "\n",
              "   Location_Brisbane  Location_Cairns  Location_Canberra  ...  Sunshine  \\\n",
              "0                0.0              0.0                0.0  ...  7.162259   \n",
              "1                0.0              0.0                0.0  ...  7.162259   \n",
              "2                0.0              0.0                0.0  ...  7.162259   \n",
              "3                0.0              0.0                0.0  ...  7.162259   \n",
              "4                0.0              0.0                0.0  ...  7.162259   \n",
              "\n",
              "   WindGustSpeed  Month  TempRange  HumidityChange  PressureChange  \\\n",
              "0           57.0    3.0        8.3           -31.0            -1.4   \n",
              "1           50.0    3.0       10.5           -27.0            -1.9   \n",
              "2           24.0    3.0       18.0           -21.0            -3.8   \n",
              "3           50.0    3.0       16.5           -26.0            -3.3   \n",
              "4           44.0    3.0       12.1           -34.0            -3.3   \n",
              "\n",
              "   CloudChange  TempChange  WindSpeedChange  RainTomorrow  \n",
              "0      0.13665         6.3              7.0           0.0  \n",
              "1      0.13665         7.5             14.0           0.0  \n",
              "2      0.13665        11.9             11.0           0.0  \n",
              "3      0.13665        10.7              2.0           1.0  \n",
              "4      0.13665         8.1              4.0           0.0  \n",
              "\n",
              "[5 rows x 112 columns]"
            ]
          },
          "execution_count": 40,
          "metadata": {},
          "output_type": "execute_result"
        }
      ],
      "source": [
        "dataset_encoded_df.head()\n"
      ]
    },
    {
      "cell_type": "code",
      "execution_count": null,
      "metadata": {
        "colab": {
          "base_uri": "https://localhost:8080/"
        },
        "id": "uaGbM-nL3y-Y",
        "outputId": "073a08d2-09c1-430b-be57-b6acf0739be0"
      },
      "outputs": [
        {
          "name": "stdout",
          "output_type": "stream",
          "text": [
            "Missing Columns: {'WindDir9am', 'Location', 'WindGustDir', 'RainfallCategory', 'WindDir3pm'}\n"
          ]
        }
      ],
      "source": [
        "missing_columns = set(dataset.columns) - set(dataset_encoded_df.columns)\n",
        "print(\"Missing Columns:\", missing_columns)\n"
      ]
    },
    {
      "cell_type": "markdown",
      "metadata": {
        "id": "OeD8amKKLJFr"
      },
      "source": [
        "3.στ. Αφού έχετε \"καθαρίσει\" το αρχικό σύνολο εκπαίδευσης, γράψτε τον κατάλληλο κώδικα ώστε από το αρχικό σύνολο εκπαίδευσης να δημιουργήσετε τα σύνολα Χ και y.\n",
        "\n",
        "💡 `Η στήλη 'RainTomorrow' είναι η τιμή που θέλουμε να προβλέψει ο ταξινομητής μας.`\n",
        "\n"
      ]
    },
    {
      "cell_type": "code",
      "execution_count": null,
      "metadata": {
        "colab": {
          "base_uri": "https://localhost:8080/"
        },
        "id": "FysfIb93LJxS",
        "outputId": "90bbc77b-4e6f-4856-afca-f4110733e898"
      },
      "outputs": [
        {
          "name": "stdout",
          "output_type": "stream",
          "text": [
            "[[ 0.          0.          1.         ...  0.13664972  6.3\n",
            "   7.        ]\n",
            " [ 0.          0.          1.         ...  0.13664972  7.5\n",
            "  14.        ]\n",
            " [ 0.          0.          1.         ...  0.13664972 11.9\n",
            "  11.        ]\n",
            " ...\n",
            " [ 0.          0.          0.         ...  0.13664972 11.5\n",
            "  -2.        ]\n",
            " [ 0.          0.          0.         ...  0.13664972 13.6\n",
            "   0.        ]\n",
            " [ 0.          0.          0.         ... -1.         10.9\n",
            "  -6.        ]]\n",
            "[0. 0. 0. ... 0. 0. 0.]\n"
          ]
        }
      ],
      "source": [
        "X = dataset_encoded_df.iloc[:, :-1].values\n",
        "y = dataset_encoded_df.iloc[:, -1].values\n",
        "print(X)\n",
        "print(y)"
      ]
    },
    {
      "cell_type": "code",
      "execution_count": null,
      "metadata": {
        "id": "RYRhooriprQN"
      },
      "outputs": [],
      "source": [
        "X_t = test_encoded_df.iloc[:, :].values"
      ]
    },
    {
      "cell_type": "markdown",
      "metadata": {
        "id": "8oU_se4UT0JF"
      },
      "source": [
        "3.ζ. Διαχωρίστε το σύνολο δεδομένων σε σύνολο εκπαίδευσης (train set) και σε σύνολο επικύρωσης (validation set) (ο διαχωρισμός να είναι train set 70% και validation set 30%).\n"
      ]
    },
    {
      "cell_type": "code",
      "execution_count": null,
      "metadata": {
        "id": "0LkGYxYA8YH-"
      },
      "outputs": [],
      "source": [
        "from sklearn.model_selection import train_test_split\n",
        "X_train, X_test, y_train, y_test = train_test_split(X, y, test_size = 0.3, random_state = 1)"
      ]
    },
    {
      "cell_type": "code",
      "execution_count": null,
      "metadata": {
        "colab": {
          "base_uri": "https://localhost:8080/"
        },
        "id": "srVj3egb8jM6",
        "outputId": "322b5d0a-a0e1-47be-dbaa-d529df14b0d5"
      },
      "outputs": [
        {
          "name": "stdout",
          "output_type": "stream",
          "text": [
            "[[ 0.          0.          0.         ...  2.          2.1\n",
            "   0.        ]\n",
            " [ 0.          0.          0.         ...  0.13664972  0.5\n",
            "   9.        ]\n",
            " [ 0.          0.          1.         ...  0.13664972  1.9\n",
            "   7.        ]\n",
            " ...\n",
            " [ 0.          0.          0.         ...  2.          3.4\n",
            "   2.        ]\n",
            " [ 0.          0.          0.         ...  1.          8.\n",
            "  10.        ]\n",
            " [ 1.          0.          0.         ...  0.13664972 14.1\n",
            "   6.        ]]\n"
          ]
        }
      ],
      "source": [
        "print(X_train)"
      ]
    },
    {
      "cell_type": "code",
      "execution_count": null,
      "metadata": {
        "colab": {
          "base_uri": "https://localhost:8080/"
        },
        "id": "N0VssG5p8jtf",
        "outputId": "ef6d096f-2769-4740-c503-52382868a255"
      },
      "outputs": [
        {
          "name": "stdout",
          "output_type": "stream",
          "text": [
            "[[  1.           0.           0.         ...   0.13664972   4.5\n",
            "    7.        ]\n",
            " [  0.           0.           0.         ...  -4.           7.\n",
            "   -7.        ]\n",
            " [  0.           0.           0.         ...   2.           2.9\n",
            "   11.        ]\n",
            " ...\n",
            " [  0.           0.           0.         ...   0.13664972   3.5\n",
            "   13.        ]\n",
            " [  0.           0.           0.         ...   1.           6.5\n",
            "  -13.        ]\n",
            " [  0.           0.           0.         ...   2.           6.6\n",
            "    2.        ]]\n"
          ]
        }
      ],
      "source": [
        "print(X_test)"
      ]
    },
    {
      "cell_type": "code",
      "execution_count": null,
      "metadata": {
        "colab": {
          "base_uri": "https://localhost:8080/"
        },
        "id": "kYIJx44W8lka",
        "outputId": "1c74a117-fc3b-4b57-ebc2-e6d7903e4c7f"
      },
      "outputs": [
        {
          "name": "stdout",
          "output_type": "stream",
          "text": [
            "[0. 0. 0. ... 0. 0. 0.]\n"
          ]
        }
      ],
      "source": [
        "print(y_train)"
      ]
    },
    {
      "cell_type": "code",
      "execution_count": null,
      "metadata": {
        "colab": {
          "base_uri": "https://localhost:8080/"
        },
        "id": "qsurgrM38l6z",
        "outputId": "875c3dd8-219a-4736-be79-5497df199162"
      },
      "outputs": [
        {
          "name": "stdout",
          "output_type": "stream",
          "text": [
            "[0. 0. 1. ... 0. 0. 0.]\n"
          ]
        }
      ],
      "source": [
        "print(y_test)"
      ]
    },
    {
      "cell_type": "markdown",
      "metadata": {
        "id": "KWsb4KQmQiFc"
      },
      "source": [
        "3.δ. Γράψτε κώδικα για την κλιμάκωση των χαρακτηριστικών, αν την θεωρείτε απαραίτητη"
      ]
    },
    {
      "cell_type": "code",
      "execution_count": null,
      "metadata": {
        "id": "co89dFRB8yTj"
      },
      "outputs": [],
      "source": [
        "from sklearn.preprocessing import StandardScaler\n",
        "sc = StandardScaler()\n",
        "X_train[:,101:] = sc.fit_transform(X_train[:,101:])\n",
        "X_test[:,101:] = sc.transform(X_test[:,101:])"
      ]
    },
    {
      "cell_type": "code",
      "execution_count": null,
      "metadata": {
        "id": "QpcUo4e3rIUO"
      },
      "outputs": [],
      "source": [
        "X_t[:,101:]= sc.transform(X_t[:,101:])"
      ]
    },
    {
      "cell_type": "code",
      "execution_count": null,
      "metadata": {
        "colab": {
          "base_uri": "https://localhost:8080/"
        },
        "id": "QxoD612d9RC8",
        "outputId": "a01134f6-84d6-4098-f5cb-c4c95230c34e"
      },
      "outputs": [
        {
          "name": "stdout",
          "output_type": "stream",
          "text": [
            "[[ 0.          0.          0.         ...  0.98750706 -0.76715016\n",
            "  -0.53468459]\n",
            " [ 0.          0.          0.         ...  0.00324641 -1.24038084\n",
            "   0.53026431]\n",
            " [ 0.          0.          1.         ...  0.00324641 -0.826304\n",
            "   0.293609  ]\n",
            " ...\n",
            " [ 0.          0.          0.         ...  0.98750706 -0.38265024\n",
            "  -0.29802928]\n",
            " [ 0.          0.          0.         ...  0.45928612  0.97788795\n",
            "   0.64859197]\n",
            " [ 1.          0.          0.         ...  0.00324641  2.78207989\n",
            "   0.17528134]]\n"
          ]
        }
      ],
      "source": [
        "print(X_train)"
      ]
    },
    {
      "cell_type": "code",
      "execution_count": null,
      "metadata": {
        "colab": {
          "base_uri": "https://localhost:8080/"
        },
        "id": "xu3kMGPn9VfW",
        "outputId": "46840cf7-b90a-4c83-cb38-2f975b694c5b"
      },
      "outputs": [
        {
          "name": "stdout",
          "output_type": "stream",
          "text": [
            "[[ 1.          0.          0.         ...  0.00324641 -0.05730415\n",
            "   0.293609  ]\n",
            " [ 0.          0.          0.         ... -2.18181863  0.68211878\n",
            "  -1.36297819]\n",
            " [ 0.          0.          0.         ...  0.98750706 -0.53053482\n",
            "   0.76691963]\n",
            " ...\n",
            " [ 0.          0.          0.         ...  0.00324641 -0.35307332\n",
            "   1.00357494]\n",
            " [ 0.          0.          0.         ...  0.45928612  0.53423419\n",
            "  -2.07294413]\n",
            " [ 0.          0.          0.         ...  0.98750706  0.56381111\n",
            "  -0.29802928]]\n"
          ]
        }
      ],
      "source": [
        "print(X_test)"
      ]
    },
    {
      "cell_type": "markdown",
      "metadata": {
        "id": "_S2tynpfhaOu"
      },
      "source": [
        "3.ε. Εκτελέστε όλα τα προηγούμενα βήμα προεκπαίδευσης (χρήση μετασχηματιστών) ώστε να είναι \"καθαρό\" το αρχικό σύνολο για να χρησιμοποιηθεί για την εκπαίδευση των ταξινομητών."
      ]
    },
    {
      "cell_type": "code",
      "execution_count": null,
      "metadata": {
        "id": "wcwB_TK1ixvl"
      },
      "outputs": [],
      "source": []
    },
    {
      "cell_type": "markdown",
      "metadata": {
        "id": "xhITyhMuSslH"
      },
      "source": [
        "### 4. Εκπαίδευση μοντέλου με default τιμές στις παραμέτρους των ταξινομητών\n",
        "\n",
        "Θα εκπαιδεύσουμε τους ακόλουθους ταξινομητές με το σύνολο εκπαίδευσης των δεδομένων μας:\n",
        "1. Naive Bayes\n",
        "2. KNeighborsClassifier\n",
        "3. LogisticRegression\n",
        "4. MLP με ένα κρυφό επίπεδο\n",
        "5. SVC\n",
        "6. Decision Tree\n",
        "7. Random Forest\n"
      ]
    },
    {
      "cell_type": "markdown",
      "metadata": {
        "id": "tZlHDrfZBBSL"
      },
      "source": [
        "**Naive Bayes**"
      ]
    },
    {
      "cell_type": "code",
      "execution_count": null,
      "metadata": {
        "colab": {
          "base_uri": "https://localhost:8080/",
          "height": 75
        },
        "id": "-r3kEVgkU0OF",
        "outputId": "16571c4d-60b4-4e71-c850-743391f69655"
      },
      "outputs": [
        {
          "data": {
            "text/html": [
              "<style>#sk-container-id-1 {color: black;background-color: white;}#sk-container-id-1 pre{padding: 0;}#sk-container-id-1 div.sk-toggleable {background-color: white;}#sk-container-id-1 label.sk-toggleable__label {cursor: pointer;display: block;width: 100%;margin-bottom: 0;padding: 0.3em;box-sizing: border-box;text-align: center;}#sk-container-id-1 label.sk-toggleable__label-arrow:before {content: \"▸\";float: left;margin-right: 0.25em;color: #696969;}#sk-container-id-1 label.sk-toggleable__label-arrow:hover:before {color: black;}#sk-container-id-1 div.sk-estimator:hover label.sk-toggleable__label-arrow:before {color: black;}#sk-container-id-1 div.sk-toggleable__content {max-height: 0;max-width: 0;overflow: hidden;text-align: left;background-color: #f0f8ff;}#sk-container-id-1 div.sk-toggleable__content pre {margin: 0.2em;color: black;border-radius: 0.25em;background-color: #f0f8ff;}#sk-container-id-1 input.sk-toggleable__control:checked~div.sk-toggleable__content {max-height: 200px;max-width: 100%;overflow: auto;}#sk-container-id-1 input.sk-toggleable__control:checked~label.sk-toggleable__label-arrow:before {content: \"▾\";}#sk-container-id-1 div.sk-estimator input.sk-toggleable__control:checked~label.sk-toggleable__label {background-color: #d4ebff;}#sk-container-id-1 div.sk-label input.sk-toggleable__control:checked~label.sk-toggleable__label {background-color: #d4ebff;}#sk-container-id-1 input.sk-hidden--visually {border: 0;clip: rect(1px 1px 1px 1px);clip: rect(1px, 1px, 1px, 1px);height: 1px;margin: -1px;overflow: hidden;padding: 0;position: absolute;width: 1px;}#sk-container-id-1 div.sk-estimator {font-family: monospace;background-color: #f0f8ff;border: 1px dotted black;border-radius: 0.25em;box-sizing: border-box;margin-bottom: 0.5em;}#sk-container-id-1 div.sk-estimator:hover {background-color: #d4ebff;}#sk-container-id-1 div.sk-parallel-item::after {content: \"\";width: 100%;border-bottom: 1px solid gray;flex-grow: 1;}#sk-container-id-1 div.sk-label:hover label.sk-toggleable__label {background-color: #d4ebff;}#sk-container-id-1 div.sk-serial::before {content: \"\";position: absolute;border-left: 1px solid gray;box-sizing: border-box;top: 0;bottom: 0;left: 50%;z-index: 0;}#sk-container-id-1 div.sk-serial {display: flex;flex-direction: column;align-items: center;background-color: white;padding-right: 0.2em;padding-left: 0.2em;position: relative;}#sk-container-id-1 div.sk-item {position: relative;z-index: 1;}#sk-container-id-1 div.sk-parallel {display: flex;align-items: stretch;justify-content: center;background-color: white;position: relative;}#sk-container-id-1 div.sk-item::before, #sk-container-id-1 div.sk-parallel-item::before {content: \"\";position: absolute;border-left: 1px solid gray;box-sizing: border-box;top: 0;bottom: 0;left: 50%;z-index: -1;}#sk-container-id-1 div.sk-parallel-item {display: flex;flex-direction: column;z-index: 1;position: relative;background-color: white;}#sk-container-id-1 div.sk-parallel-item:first-child::after {align-self: flex-end;width: 50%;}#sk-container-id-1 div.sk-parallel-item:last-child::after {align-self: flex-start;width: 50%;}#sk-container-id-1 div.sk-parallel-item:only-child::after {width: 0;}#sk-container-id-1 div.sk-dashed-wrapped {border: 1px dashed gray;margin: 0 0.4em 0.5em 0.4em;box-sizing: border-box;padding-bottom: 0.4em;background-color: white;}#sk-container-id-1 div.sk-label label {font-family: monospace;font-weight: bold;display: inline-block;line-height: 1.2em;}#sk-container-id-1 div.sk-label-container {text-align: center;}#sk-container-id-1 div.sk-container {/* jupyter's `normalize.less` sets `[hidden] { display: none; }` but bootstrap.min.css set `[hidden] { display: none !important; }` so we also need the `!important` here to be able to override the default hidden behavior on the sphinx rendered scikit-learn.org. See: https://github.com/scikit-learn/scikit-learn/issues/21755 */display: inline-block !important;position: relative;}#sk-container-id-1 div.sk-text-repr-fallback {display: none;}</style><div id=\"sk-container-id-1\" class=\"sk-top-container\"><div class=\"sk-text-repr-fallback\"><pre>GaussianNB()</pre><b>In a Jupyter environment, please rerun this cell to show the HTML representation or trust the notebook. <br />On GitHub, the HTML representation is unable to render, please try loading this page with nbviewer.org.</b></div><div class=\"sk-container\" hidden><div class=\"sk-item\"><div class=\"sk-estimator sk-toggleable\"><input class=\"sk-toggleable__control sk-hidden--visually\" id=\"sk-estimator-id-1\" type=\"checkbox\" checked><label for=\"sk-estimator-id-1\" class=\"sk-toggleable__label sk-toggleable__label-arrow\">GaussianNB</label><div class=\"sk-toggleable__content\"><pre>GaussianNB()</pre></div></div></div></div></div>"
            ],
            "text/plain": [
              "GaussianNB()"
            ]
          },
          "execution_count": 53,
          "metadata": {},
          "output_type": "execute_result"
        }
      ],
      "source": [
        "from sklearn.naive_bayes import GaussianNB\n",
        "classifierGNB = GaussianNB()\n",
        "classifierGNB.fit(X_train, y_train)"
      ]
    },
    {
      "cell_type": "markdown",
      "metadata": {
        "id": "NgUZNW9ZBG-r"
      },
      "source": [
        "**ΚΝΝ**"
      ]
    },
    {
      "cell_type": "code",
      "execution_count": null,
      "metadata": {
        "colab": {
          "base_uri": "https://localhost:8080/",
          "height": 75
        },
        "id": "XnN8lrmSBGiM",
        "outputId": "05109455-ec1b-49fc-a57e-6bf39264828a"
      },
      "outputs": [
        {
          "data": {
            "text/html": [
              "<style>#sk-container-id-2 {color: black;background-color: white;}#sk-container-id-2 pre{padding: 0;}#sk-container-id-2 div.sk-toggleable {background-color: white;}#sk-container-id-2 label.sk-toggleable__label {cursor: pointer;display: block;width: 100%;margin-bottom: 0;padding: 0.3em;box-sizing: border-box;text-align: center;}#sk-container-id-2 label.sk-toggleable__label-arrow:before {content: \"▸\";float: left;margin-right: 0.25em;color: #696969;}#sk-container-id-2 label.sk-toggleable__label-arrow:hover:before {color: black;}#sk-container-id-2 div.sk-estimator:hover label.sk-toggleable__label-arrow:before {color: black;}#sk-container-id-2 div.sk-toggleable__content {max-height: 0;max-width: 0;overflow: hidden;text-align: left;background-color: #f0f8ff;}#sk-container-id-2 div.sk-toggleable__content pre {margin: 0.2em;color: black;border-radius: 0.25em;background-color: #f0f8ff;}#sk-container-id-2 input.sk-toggleable__control:checked~div.sk-toggleable__content {max-height: 200px;max-width: 100%;overflow: auto;}#sk-container-id-2 input.sk-toggleable__control:checked~label.sk-toggleable__label-arrow:before {content: \"▾\";}#sk-container-id-2 div.sk-estimator input.sk-toggleable__control:checked~label.sk-toggleable__label {background-color: #d4ebff;}#sk-container-id-2 div.sk-label input.sk-toggleable__control:checked~label.sk-toggleable__label {background-color: #d4ebff;}#sk-container-id-2 input.sk-hidden--visually {border: 0;clip: rect(1px 1px 1px 1px);clip: rect(1px, 1px, 1px, 1px);height: 1px;margin: -1px;overflow: hidden;padding: 0;position: absolute;width: 1px;}#sk-container-id-2 div.sk-estimator {font-family: monospace;background-color: #f0f8ff;border: 1px dotted black;border-radius: 0.25em;box-sizing: border-box;margin-bottom: 0.5em;}#sk-container-id-2 div.sk-estimator:hover {background-color: #d4ebff;}#sk-container-id-2 div.sk-parallel-item::after {content: \"\";width: 100%;border-bottom: 1px solid gray;flex-grow: 1;}#sk-container-id-2 div.sk-label:hover label.sk-toggleable__label {background-color: #d4ebff;}#sk-container-id-2 div.sk-serial::before {content: \"\";position: absolute;border-left: 1px solid gray;box-sizing: border-box;top: 0;bottom: 0;left: 50%;z-index: 0;}#sk-container-id-2 div.sk-serial {display: flex;flex-direction: column;align-items: center;background-color: white;padding-right: 0.2em;padding-left: 0.2em;position: relative;}#sk-container-id-2 div.sk-item {position: relative;z-index: 1;}#sk-container-id-2 div.sk-parallel {display: flex;align-items: stretch;justify-content: center;background-color: white;position: relative;}#sk-container-id-2 div.sk-item::before, #sk-container-id-2 div.sk-parallel-item::before {content: \"\";position: absolute;border-left: 1px solid gray;box-sizing: border-box;top: 0;bottom: 0;left: 50%;z-index: -1;}#sk-container-id-2 div.sk-parallel-item {display: flex;flex-direction: column;z-index: 1;position: relative;background-color: white;}#sk-container-id-2 div.sk-parallel-item:first-child::after {align-self: flex-end;width: 50%;}#sk-container-id-2 div.sk-parallel-item:last-child::after {align-self: flex-start;width: 50%;}#sk-container-id-2 div.sk-parallel-item:only-child::after {width: 0;}#sk-container-id-2 div.sk-dashed-wrapped {border: 1px dashed gray;margin: 0 0.4em 0.5em 0.4em;box-sizing: border-box;padding-bottom: 0.4em;background-color: white;}#sk-container-id-2 div.sk-label label {font-family: monospace;font-weight: bold;display: inline-block;line-height: 1.2em;}#sk-container-id-2 div.sk-label-container {text-align: center;}#sk-container-id-2 div.sk-container {/* jupyter's `normalize.less` sets `[hidden] { display: none; }` but bootstrap.min.css set `[hidden] { display: none !important; }` so we also need the `!important` here to be able to override the default hidden behavior on the sphinx rendered scikit-learn.org. See: https://github.com/scikit-learn/scikit-learn/issues/21755 */display: inline-block !important;position: relative;}#sk-container-id-2 div.sk-text-repr-fallback {display: none;}</style><div id=\"sk-container-id-2\" class=\"sk-top-container\"><div class=\"sk-text-repr-fallback\"><pre>KNeighborsClassifier()</pre><b>In a Jupyter environment, please rerun this cell to show the HTML representation or trust the notebook. <br />On GitHub, the HTML representation is unable to render, please try loading this page with nbviewer.org.</b></div><div class=\"sk-container\" hidden><div class=\"sk-item\"><div class=\"sk-estimator sk-toggleable\"><input class=\"sk-toggleable__control sk-hidden--visually\" id=\"sk-estimator-id-2\" type=\"checkbox\" checked><label for=\"sk-estimator-id-2\" class=\"sk-toggleable__label sk-toggleable__label-arrow\">KNeighborsClassifier</label><div class=\"sk-toggleable__content\"><pre>KNeighborsClassifier()</pre></div></div></div></div></div>"
            ],
            "text/plain": [
              "KNeighborsClassifier()"
            ]
          },
          "execution_count": 54,
          "metadata": {},
          "output_type": "execute_result"
        }
      ],
      "source": [
        "from sklearn.neighbors import KNeighborsClassifier\n",
        "classifierKNN = KNeighborsClassifier()\n",
        "classifierKNN.fit(X_train, y_train)"
      ]
    },
    {
      "cell_type": "markdown",
      "metadata": {
        "id": "G1Zxkf7BBKRh"
      },
      "source": [
        "**LogisticRegression**"
      ]
    },
    {
      "cell_type": "code",
      "execution_count": null,
      "metadata": {
        "colab": {
          "base_uri": "https://localhost:8080/",
          "height": 242
        },
        "id": "7Tu4gwVYBLBv",
        "outputId": "80289a08-8862-4f1f-df00-0de8620749dd"
      },
      "outputs": [
        {
          "name": "stderr",
          "output_type": "stream",
          "text": [
            "/usr/local/lib/python3.10/dist-packages/sklearn/linear_model/_logistic.py:458: ConvergenceWarning: lbfgs failed to converge (status=1):\n",
            "STOP: TOTAL NO. of ITERATIONS REACHED LIMIT.\n",
            "\n",
            "Increase the number of iterations (max_iter) or scale the data as shown in:\n",
            "    https://scikit-learn.org/stable/modules/preprocessing.html\n",
            "Please also refer to the documentation for alternative solver options:\n",
            "    https://scikit-learn.org/stable/modules/linear_model.html#logistic-regression\n",
            "  n_iter_i = _check_optimize_result(\n"
          ]
        },
        {
          "data": {
            "text/html": [
              "<style>#sk-container-id-3 {color: black;background-color: white;}#sk-container-id-3 pre{padding: 0;}#sk-container-id-3 div.sk-toggleable {background-color: white;}#sk-container-id-3 label.sk-toggleable__label {cursor: pointer;display: block;width: 100%;margin-bottom: 0;padding: 0.3em;box-sizing: border-box;text-align: center;}#sk-container-id-3 label.sk-toggleable__label-arrow:before {content: \"▸\";float: left;margin-right: 0.25em;color: #696969;}#sk-container-id-3 label.sk-toggleable__label-arrow:hover:before {color: black;}#sk-container-id-3 div.sk-estimator:hover label.sk-toggleable__label-arrow:before {color: black;}#sk-container-id-3 div.sk-toggleable__content {max-height: 0;max-width: 0;overflow: hidden;text-align: left;background-color: #f0f8ff;}#sk-container-id-3 div.sk-toggleable__content pre {margin: 0.2em;color: black;border-radius: 0.25em;background-color: #f0f8ff;}#sk-container-id-3 input.sk-toggleable__control:checked~div.sk-toggleable__content {max-height: 200px;max-width: 100%;overflow: auto;}#sk-container-id-3 input.sk-toggleable__control:checked~label.sk-toggleable__label-arrow:before {content: \"▾\";}#sk-container-id-3 div.sk-estimator input.sk-toggleable__control:checked~label.sk-toggleable__label {background-color: #d4ebff;}#sk-container-id-3 div.sk-label input.sk-toggleable__control:checked~label.sk-toggleable__label {background-color: #d4ebff;}#sk-container-id-3 input.sk-hidden--visually {border: 0;clip: rect(1px 1px 1px 1px);clip: rect(1px, 1px, 1px, 1px);height: 1px;margin: -1px;overflow: hidden;padding: 0;position: absolute;width: 1px;}#sk-container-id-3 div.sk-estimator {font-family: monospace;background-color: #f0f8ff;border: 1px dotted black;border-radius: 0.25em;box-sizing: border-box;margin-bottom: 0.5em;}#sk-container-id-3 div.sk-estimator:hover {background-color: #d4ebff;}#sk-container-id-3 div.sk-parallel-item::after {content: \"\";width: 100%;border-bottom: 1px solid gray;flex-grow: 1;}#sk-container-id-3 div.sk-label:hover label.sk-toggleable__label {background-color: #d4ebff;}#sk-container-id-3 div.sk-serial::before {content: \"\";position: absolute;border-left: 1px solid gray;box-sizing: border-box;top: 0;bottom: 0;left: 50%;z-index: 0;}#sk-container-id-3 div.sk-serial {display: flex;flex-direction: column;align-items: center;background-color: white;padding-right: 0.2em;padding-left: 0.2em;position: relative;}#sk-container-id-3 div.sk-item {position: relative;z-index: 1;}#sk-container-id-3 div.sk-parallel {display: flex;align-items: stretch;justify-content: center;background-color: white;position: relative;}#sk-container-id-3 div.sk-item::before, #sk-container-id-3 div.sk-parallel-item::before {content: \"\";position: absolute;border-left: 1px solid gray;box-sizing: border-box;top: 0;bottom: 0;left: 50%;z-index: -1;}#sk-container-id-3 div.sk-parallel-item {display: flex;flex-direction: column;z-index: 1;position: relative;background-color: white;}#sk-container-id-3 div.sk-parallel-item:first-child::after {align-self: flex-end;width: 50%;}#sk-container-id-3 div.sk-parallel-item:last-child::after {align-self: flex-start;width: 50%;}#sk-container-id-3 div.sk-parallel-item:only-child::after {width: 0;}#sk-container-id-3 div.sk-dashed-wrapped {border: 1px dashed gray;margin: 0 0.4em 0.5em 0.4em;box-sizing: border-box;padding-bottom: 0.4em;background-color: white;}#sk-container-id-3 div.sk-label label {font-family: monospace;font-weight: bold;display: inline-block;line-height: 1.2em;}#sk-container-id-3 div.sk-label-container {text-align: center;}#sk-container-id-3 div.sk-container {/* jupyter's `normalize.less` sets `[hidden] { display: none; }` but bootstrap.min.css set `[hidden] { display: none !important; }` so we also need the `!important` here to be able to override the default hidden behavior on the sphinx rendered scikit-learn.org. See: https://github.com/scikit-learn/scikit-learn/issues/21755 */display: inline-block !important;position: relative;}#sk-container-id-3 div.sk-text-repr-fallback {display: none;}</style><div id=\"sk-container-id-3\" class=\"sk-top-container\"><div class=\"sk-text-repr-fallback\"><pre>LogisticRegression()</pre><b>In a Jupyter environment, please rerun this cell to show the HTML representation or trust the notebook. <br />On GitHub, the HTML representation is unable to render, please try loading this page with nbviewer.org.</b></div><div class=\"sk-container\" hidden><div class=\"sk-item\"><div class=\"sk-estimator sk-toggleable\"><input class=\"sk-toggleable__control sk-hidden--visually\" id=\"sk-estimator-id-3\" type=\"checkbox\" checked><label for=\"sk-estimator-id-3\" class=\"sk-toggleable__label sk-toggleable__label-arrow\">LogisticRegression</label><div class=\"sk-toggleable__content\"><pre>LogisticRegression()</pre></div></div></div></div></div>"
            ],
            "text/plain": [
              "LogisticRegression()"
            ]
          },
          "execution_count": 55,
          "metadata": {},
          "output_type": "execute_result"
        }
      ],
      "source": [
        "from sklearn.linear_model import LogisticRegression\n",
        "classifierLRG = LogisticRegression()\n",
        "classifierLRG.fit(X_train, y_train)\n"
      ]
    },
    {
      "cell_type": "markdown",
      "metadata": {
        "id": "mCp_8yyvDvnr"
      },
      "source": [
        "**MLP**"
      ]
    },
    {
      "cell_type": "code",
      "execution_count": null,
      "metadata": {
        "colab": {
          "background_save": true,
          "base_uri": "https://localhost:8080/",
          "height": 131
        },
        "id": "7d8OUSOfDy73",
        "outputId": "ba23a95e-9ac9-42f4-babb-6a6e2f45884e"
      },
      "outputs": [
        {
          "name": "stderr",
          "output_type": "stream",
          "text": [
            "/usr/local/lib/python3.10/dist-packages/sklearn/neural_network/_multilayer_perceptron.py:686: ConvergenceWarning: Stochastic Optimizer: Maximum iterations (200) reached and the optimization hasn't converged yet.\n",
            "  warnings.warn(\n"
          ]
        },
        {
          "data": {
            "text/html": [
              "<style>#sk-container-id-11 {color: black;background-color: white;}#sk-container-id-11 pre{padding: 0;}#sk-container-id-11 div.sk-toggleable {background-color: white;}#sk-container-id-11 label.sk-toggleable__label {cursor: pointer;display: block;width: 100%;margin-bottom: 0;padding: 0.3em;box-sizing: border-box;text-align: center;}#sk-container-id-11 label.sk-toggleable__label-arrow:before {content: \"▸\";float: left;margin-right: 0.25em;color: #696969;}#sk-container-id-11 label.sk-toggleable__label-arrow:hover:before {color: black;}#sk-container-id-11 div.sk-estimator:hover label.sk-toggleable__label-arrow:before {color: black;}#sk-container-id-11 div.sk-toggleable__content {max-height: 0;max-width: 0;overflow: hidden;text-align: left;background-color: #f0f8ff;}#sk-container-id-11 div.sk-toggleable__content pre {margin: 0.2em;color: black;border-radius: 0.25em;background-color: #f0f8ff;}#sk-container-id-11 input.sk-toggleable__control:checked~div.sk-toggleable__content {max-height: 200px;max-width: 100%;overflow: auto;}#sk-container-id-11 input.sk-toggleable__control:checked~label.sk-toggleable__label-arrow:before {content: \"▾\";}#sk-container-id-11 div.sk-estimator input.sk-toggleable__control:checked~label.sk-toggleable__label {background-color: #d4ebff;}#sk-container-id-11 div.sk-label input.sk-toggleable__control:checked~label.sk-toggleable__label {background-color: #d4ebff;}#sk-container-id-11 input.sk-hidden--visually {border: 0;clip: rect(1px 1px 1px 1px);clip: rect(1px, 1px, 1px, 1px);height: 1px;margin: -1px;overflow: hidden;padding: 0;position: absolute;width: 1px;}#sk-container-id-11 div.sk-estimator {font-family: monospace;background-color: #f0f8ff;border: 1px dotted black;border-radius: 0.25em;box-sizing: border-box;margin-bottom: 0.5em;}#sk-container-id-11 div.sk-estimator:hover {background-color: #d4ebff;}#sk-container-id-11 div.sk-parallel-item::after {content: \"\";width: 100%;border-bottom: 1px solid gray;flex-grow: 1;}#sk-container-id-11 div.sk-label:hover label.sk-toggleable__label {background-color: #d4ebff;}#sk-container-id-11 div.sk-serial::before {content: \"\";position: absolute;border-left: 1px solid gray;box-sizing: border-box;top: 0;bottom: 0;left: 50%;z-index: 0;}#sk-container-id-11 div.sk-serial {display: flex;flex-direction: column;align-items: center;background-color: white;padding-right: 0.2em;padding-left: 0.2em;position: relative;}#sk-container-id-11 div.sk-item {position: relative;z-index: 1;}#sk-container-id-11 div.sk-parallel {display: flex;align-items: stretch;justify-content: center;background-color: white;position: relative;}#sk-container-id-11 div.sk-item::before, #sk-container-id-11 div.sk-parallel-item::before {content: \"\";position: absolute;border-left: 1px solid gray;box-sizing: border-box;top: 0;bottom: 0;left: 50%;z-index: -1;}#sk-container-id-11 div.sk-parallel-item {display: flex;flex-direction: column;z-index: 1;position: relative;background-color: white;}#sk-container-id-11 div.sk-parallel-item:first-child::after {align-self: flex-end;width: 50%;}#sk-container-id-11 div.sk-parallel-item:last-child::after {align-self: flex-start;width: 50%;}#sk-container-id-11 div.sk-parallel-item:only-child::after {width: 0;}#sk-container-id-11 div.sk-dashed-wrapped {border: 1px dashed gray;margin: 0 0.4em 0.5em 0.4em;box-sizing: border-box;padding-bottom: 0.4em;background-color: white;}#sk-container-id-11 div.sk-label label {font-family: monospace;font-weight: bold;display: inline-block;line-height: 1.2em;}#sk-container-id-11 div.sk-label-container {text-align: center;}#sk-container-id-11 div.sk-container {/* jupyter's `normalize.less` sets `[hidden] { display: none; }` but bootstrap.min.css set `[hidden] { display: none !important; }` so we also need the `!important` here to be able to override the default hidden behavior on the sphinx rendered scikit-learn.org. See: https://github.com/scikit-learn/scikit-learn/issues/21755 */display: inline-block !important;position: relative;}#sk-container-id-11 div.sk-text-repr-fallback {display: none;}</style><div id=\"sk-container-id-11\" class=\"sk-top-container\"><div class=\"sk-text-repr-fallback\"><pre>MLPClassifier()</pre><b>In a Jupyter environment, please rerun this cell to show the HTML representation or trust the notebook. <br />On GitHub, the HTML representation is unable to render, please try loading this page with nbviewer.org.</b></div><div class=\"sk-container\" hidden><div class=\"sk-item\"><div class=\"sk-estimator sk-toggleable\"><input class=\"sk-toggleable__control sk-hidden--visually\" id=\"sk-estimator-id-11\" type=\"checkbox\" checked><label for=\"sk-estimator-id-11\" class=\"sk-toggleable__label sk-toggleable__label-arrow\">MLPClassifier</label><div class=\"sk-toggleable__content\"><pre>MLPClassifier()</pre></div></div></div></div></div>"
            ],
            "text/plain": [
              "MLPClassifier()"
            ]
          },
          "execution_count": 169,
          "metadata": {},
          "output_type": "execute_result"
        }
      ],
      "source": [
        "#MLP με ένα κρυφό επίπεδο\n",
        "import sklearn.neural_network as skl_nn\n",
        "classifierMLP=skl_nn.MLPClassifier()\n",
        "classifierMLP.fit(X_train, y_train)"
      ]
    },
    {
      "cell_type": "markdown",
      "metadata": {
        "id": "qgvOZWfIDvL-"
      },
      "source": [
        "**SVC**"
      ]
    },
    {
      "cell_type": "code",
      "execution_count": null,
      "metadata": {
        "colab": {
          "background_save": true
        },
        "id": "ek4eY5OiD6cQ",
        "outputId": "421bff3e-f114-42da-b143-9f0cfd612d4a"
      },
      "outputs": [
        {
          "data": {
            "text/html": [
              "<style>#sk-container-id-12 {color: black;background-color: white;}#sk-container-id-12 pre{padding: 0;}#sk-container-id-12 div.sk-toggleable {background-color: white;}#sk-container-id-12 label.sk-toggleable__label {cursor: pointer;display: block;width: 100%;margin-bottom: 0;padding: 0.3em;box-sizing: border-box;text-align: center;}#sk-container-id-12 label.sk-toggleable__label-arrow:before {content: \"▸\";float: left;margin-right: 0.25em;color: #696969;}#sk-container-id-12 label.sk-toggleable__label-arrow:hover:before {color: black;}#sk-container-id-12 div.sk-estimator:hover label.sk-toggleable__label-arrow:before {color: black;}#sk-container-id-12 div.sk-toggleable__content {max-height: 0;max-width: 0;overflow: hidden;text-align: left;background-color: #f0f8ff;}#sk-container-id-12 div.sk-toggleable__content pre {margin: 0.2em;color: black;border-radius: 0.25em;background-color: #f0f8ff;}#sk-container-id-12 input.sk-toggleable__control:checked~div.sk-toggleable__content {max-height: 200px;max-width: 100%;overflow: auto;}#sk-container-id-12 input.sk-toggleable__control:checked~label.sk-toggleable__label-arrow:before {content: \"▾\";}#sk-container-id-12 div.sk-estimator input.sk-toggleable__control:checked~label.sk-toggleable__label {background-color: #d4ebff;}#sk-container-id-12 div.sk-label input.sk-toggleable__control:checked~label.sk-toggleable__label {background-color: #d4ebff;}#sk-container-id-12 input.sk-hidden--visually {border: 0;clip: rect(1px 1px 1px 1px);clip: rect(1px, 1px, 1px, 1px);height: 1px;margin: -1px;overflow: hidden;padding: 0;position: absolute;width: 1px;}#sk-container-id-12 div.sk-estimator {font-family: monospace;background-color: #f0f8ff;border: 1px dotted black;border-radius: 0.25em;box-sizing: border-box;margin-bottom: 0.5em;}#sk-container-id-12 div.sk-estimator:hover {background-color: #d4ebff;}#sk-container-id-12 div.sk-parallel-item::after {content: \"\";width: 100%;border-bottom: 1px solid gray;flex-grow: 1;}#sk-container-id-12 div.sk-label:hover label.sk-toggleable__label {background-color: #d4ebff;}#sk-container-id-12 div.sk-serial::before {content: \"\";position: absolute;border-left: 1px solid gray;box-sizing: border-box;top: 0;bottom: 0;left: 50%;z-index: 0;}#sk-container-id-12 div.sk-serial {display: flex;flex-direction: column;align-items: center;background-color: white;padding-right: 0.2em;padding-left: 0.2em;position: relative;}#sk-container-id-12 div.sk-item {position: relative;z-index: 1;}#sk-container-id-12 div.sk-parallel {display: flex;align-items: stretch;justify-content: center;background-color: white;position: relative;}#sk-container-id-12 div.sk-item::before, #sk-container-id-12 div.sk-parallel-item::before {content: \"\";position: absolute;border-left: 1px solid gray;box-sizing: border-box;top: 0;bottom: 0;left: 50%;z-index: -1;}#sk-container-id-12 div.sk-parallel-item {display: flex;flex-direction: column;z-index: 1;position: relative;background-color: white;}#sk-container-id-12 div.sk-parallel-item:first-child::after {align-self: flex-end;width: 50%;}#sk-container-id-12 div.sk-parallel-item:last-child::after {align-self: flex-start;width: 50%;}#sk-container-id-12 div.sk-parallel-item:only-child::after {width: 0;}#sk-container-id-12 div.sk-dashed-wrapped {border: 1px dashed gray;margin: 0 0.4em 0.5em 0.4em;box-sizing: border-box;padding-bottom: 0.4em;background-color: white;}#sk-container-id-12 div.sk-label label {font-family: monospace;font-weight: bold;display: inline-block;line-height: 1.2em;}#sk-container-id-12 div.sk-label-container {text-align: center;}#sk-container-id-12 div.sk-container {/* jupyter's `normalize.less` sets `[hidden] { display: none; }` but bootstrap.min.css set `[hidden] { display: none !important; }` so we also need the `!important` here to be able to override the default hidden behavior on the sphinx rendered scikit-learn.org. See: https://github.com/scikit-learn/scikit-learn/issues/21755 */display: inline-block !important;position: relative;}#sk-container-id-12 div.sk-text-repr-fallback {display: none;}</style><div id=\"sk-container-id-12\" class=\"sk-top-container\"><div class=\"sk-text-repr-fallback\"><pre>SVC()</pre><b>In a Jupyter environment, please rerun this cell to show the HTML representation or trust the notebook. <br />On GitHub, the HTML representation is unable to render, please try loading this page with nbviewer.org.</b></div><div class=\"sk-container\" hidden><div class=\"sk-item\"><div class=\"sk-estimator sk-toggleable\"><input class=\"sk-toggleable__control sk-hidden--visually\" id=\"sk-estimator-id-12\" type=\"checkbox\" checked><label for=\"sk-estimator-id-12\" class=\"sk-toggleable__label sk-toggleable__label-arrow\">SVC</label><div class=\"sk-toggleable__content\"><pre>SVC()</pre></div></div></div></div></div>"
            ],
            "text/plain": [
              "SVC()"
            ]
          },
          "execution_count": 170,
          "metadata": {},
          "output_type": "execute_result"
        }
      ],
      "source": [
        "from sklearn.svm import SVC\n",
        "classifierSVC = SVC()\n",
        "classifierSVC.fit(X_train, y_train)"
      ]
    },
    {
      "cell_type": "markdown",
      "metadata": {
        "id": "LArSqsbtEAFh"
      },
      "source": [
        "**Decision Trees**"
      ]
    },
    {
      "cell_type": "code",
      "execution_count": null,
      "metadata": {
        "colab": {
          "background_save": true
        },
        "id": "8XLVlukREDPH",
        "outputId": "a5ada9a5-1fdf-447d-84bb-3e501037d790"
      },
      "outputs": [
        {
          "data": {
            "text/html": [
              "<style>#sk-container-id-13 {color: black;background-color: white;}#sk-container-id-13 pre{padding: 0;}#sk-container-id-13 div.sk-toggleable {background-color: white;}#sk-container-id-13 label.sk-toggleable__label {cursor: pointer;display: block;width: 100%;margin-bottom: 0;padding: 0.3em;box-sizing: border-box;text-align: center;}#sk-container-id-13 label.sk-toggleable__label-arrow:before {content: \"▸\";float: left;margin-right: 0.25em;color: #696969;}#sk-container-id-13 label.sk-toggleable__label-arrow:hover:before {color: black;}#sk-container-id-13 div.sk-estimator:hover label.sk-toggleable__label-arrow:before {color: black;}#sk-container-id-13 div.sk-toggleable__content {max-height: 0;max-width: 0;overflow: hidden;text-align: left;background-color: #f0f8ff;}#sk-container-id-13 div.sk-toggleable__content pre {margin: 0.2em;color: black;border-radius: 0.25em;background-color: #f0f8ff;}#sk-container-id-13 input.sk-toggleable__control:checked~div.sk-toggleable__content {max-height: 200px;max-width: 100%;overflow: auto;}#sk-container-id-13 input.sk-toggleable__control:checked~label.sk-toggleable__label-arrow:before {content: \"▾\";}#sk-container-id-13 div.sk-estimator input.sk-toggleable__control:checked~label.sk-toggleable__label {background-color: #d4ebff;}#sk-container-id-13 div.sk-label input.sk-toggleable__control:checked~label.sk-toggleable__label {background-color: #d4ebff;}#sk-container-id-13 input.sk-hidden--visually {border: 0;clip: rect(1px 1px 1px 1px);clip: rect(1px, 1px, 1px, 1px);height: 1px;margin: -1px;overflow: hidden;padding: 0;position: absolute;width: 1px;}#sk-container-id-13 div.sk-estimator {font-family: monospace;background-color: #f0f8ff;border: 1px dotted black;border-radius: 0.25em;box-sizing: border-box;margin-bottom: 0.5em;}#sk-container-id-13 div.sk-estimator:hover {background-color: #d4ebff;}#sk-container-id-13 div.sk-parallel-item::after {content: \"\";width: 100%;border-bottom: 1px solid gray;flex-grow: 1;}#sk-container-id-13 div.sk-label:hover label.sk-toggleable__label {background-color: #d4ebff;}#sk-container-id-13 div.sk-serial::before {content: \"\";position: absolute;border-left: 1px solid gray;box-sizing: border-box;top: 0;bottom: 0;left: 50%;z-index: 0;}#sk-container-id-13 div.sk-serial {display: flex;flex-direction: column;align-items: center;background-color: white;padding-right: 0.2em;padding-left: 0.2em;position: relative;}#sk-container-id-13 div.sk-item {position: relative;z-index: 1;}#sk-container-id-13 div.sk-parallel {display: flex;align-items: stretch;justify-content: center;background-color: white;position: relative;}#sk-container-id-13 div.sk-item::before, #sk-container-id-13 div.sk-parallel-item::before {content: \"\";position: absolute;border-left: 1px solid gray;box-sizing: border-box;top: 0;bottom: 0;left: 50%;z-index: -1;}#sk-container-id-13 div.sk-parallel-item {display: flex;flex-direction: column;z-index: 1;position: relative;background-color: white;}#sk-container-id-13 div.sk-parallel-item:first-child::after {align-self: flex-end;width: 50%;}#sk-container-id-13 div.sk-parallel-item:last-child::after {align-self: flex-start;width: 50%;}#sk-container-id-13 div.sk-parallel-item:only-child::after {width: 0;}#sk-container-id-13 div.sk-dashed-wrapped {border: 1px dashed gray;margin: 0 0.4em 0.5em 0.4em;box-sizing: border-box;padding-bottom: 0.4em;background-color: white;}#sk-container-id-13 div.sk-label label {font-family: monospace;font-weight: bold;display: inline-block;line-height: 1.2em;}#sk-container-id-13 div.sk-label-container {text-align: center;}#sk-container-id-13 div.sk-container {/* jupyter's `normalize.less` sets `[hidden] { display: none; }` but bootstrap.min.css set `[hidden] { display: none !important; }` so we also need the `!important` here to be able to override the default hidden behavior on the sphinx rendered scikit-learn.org. See: https://github.com/scikit-learn/scikit-learn/issues/21755 */display: inline-block !important;position: relative;}#sk-container-id-13 div.sk-text-repr-fallback {display: none;}</style><div id=\"sk-container-id-13\" class=\"sk-top-container\"><div class=\"sk-text-repr-fallback\"><pre>DecisionTreeClassifier()</pre><b>In a Jupyter environment, please rerun this cell to show the HTML representation or trust the notebook. <br />On GitHub, the HTML representation is unable to render, please try loading this page with nbviewer.org.</b></div><div class=\"sk-container\" hidden><div class=\"sk-item\"><div class=\"sk-estimator sk-toggleable\"><input class=\"sk-toggleable__control sk-hidden--visually\" id=\"sk-estimator-id-13\" type=\"checkbox\" checked><label for=\"sk-estimator-id-13\" class=\"sk-toggleable__label sk-toggleable__label-arrow\">DecisionTreeClassifier</label><div class=\"sk-toggleable__content\"><pre>DecisionTreeClassifier()</pre></div></div></div></div></div>"
            ],
            "text/plain": [
              "DecisionTreeClassifier()"
            ]
          },
          "execution_count": 171,
          "metadata": {},
          "output_type": "execute_result"
        }
      ],
      "source": [
        "from sklearn.tree import DecisionTreeClassifier\n",
        "classifierTree = DecisionTreeClassifier()\n",
        "classifierTree.fit(X_train,y_train)"
      ]
    },
    {
      "cell_type": "markdown",
      "metadata": {
        "id": "gLS_VbaLES33"
      },
      "source": [
        "**Random Forest**"
      ]
    },
    {
      "cell_type": "code",
      "execution_count": null,
      "metadata": {
        "colab": {
          "background_save": true
        },
        "id": "pH_HOMx4EVZ-",
        "outputId": "9cf0861d-a1d0-4d0b-8769-ffd76e030bba"
      },
      "outputs": [
        {
          "data": {
            "text/html": [
              "<style>#sk-container-id-14 {color: black;background-color: white;}#sk-container-id-14 pre{padding: 0;}#sk-container-id-14 div.sk-toggleable {background-color: white;}#sk-container-id-14 label.sk-toggleable__label {cursor: pointer;display: block;width: 100%;margin-bottom: 0;padding: 0.3em;box-sizing: border-box;text-align: center;}#sk-container-id-14 label.sk-toggleable__label-arrow:before {content: \"▸\";float: left;margin-right: 0.25em;color: #696969;}#sk-container-id-14 label.sk-toggleable__label-arrow:hover:before {color: black;}#sk-container-id-14 div.sk-estimator:hover label.sk-toggleable__label-arrow:before {color: black;}#sk-container-id-14 div.sk-toggleable__content {max-height: 0;max-width: 0;overflow: hidden;text-align: left;background-color: #f0f8ff;}#sk-container-id-14 div.sk-toggleable__content pre {margin: 0.2em;color: black;border-radius: 0.25em;background-color: #f0f8ff;}#sk-container-id-14 input.sk-toggleable__control:checked~div.sk-toggleable__content {max-height: 200px;max-width: 100%;overflow: auto;}#sk-container-id-14 input.sk-toggleable__control:checked~label.sk-toggleable__label-arrow:before {content: \"▾\";}#sk-container-id-14 div.sk-estimator input.sk-toggleable__control:checked~label.sk-toggleable__label {background-color: #d4ebff;}#sk-container-id-14 div.sk-label input.sk-toggleable__control:checked~label.sk-toggleable__label {background-color: #d4ebff;}#sk-container-id-14 input.sk-hidden--visually {border: 0;clip: rect(1px 1px 1px 1px);clip: rect(1px, 1px, 1px, 1px);height: 1px;margin: -1px;overflow: hidden;padding: 0;position: absolute;width: 1px;}#sk-container-id-14 div.sk-estimator {font-family: monospace;background-color: #f0f8ff;border: 1px dotted black;border-radius: 0.25em;box-sizing: border-box;margin-bottom: 0.5em;}#sk-container-id-14 div.sk-estimator:hover {background-color: #d4ebff;}#sk-container-id-14 div.sk-parallel-item::after {content: \"\";width: 100%;border-bottom: 1px solid gray;flex-grow: 1;}#sk-container-id-14 div.sk-label:hover label.sk-toggleable__label {background-color: #d4ebff;}#sk-container-id-14 div.sk-serial::before {content: \"\";position: absolute;border-left: 1px solid gray;box-sizing: border-box;top: 0;bottom: 0;left: 50%;z-index: 0;}#sk-container-id-14 div.sk-serial {display: flex;flex-direction: column;align-items: center;background-color: white;padding-right: 0.2em;padding-left: 0.2em;position: relative;}#sk-container-id-14 div.sk-item {position: relative;z-index: 1;}#sk-container-id-14 div.sk-parallel {display: flex;align-items: stretch;justify-content: center;background-color: white;position: relative;}#sk-container-id-14 div.sk-item::before, #sk-container-id-14 div.sk-parallel-item::before {content: \"\";position: absolute;border-left: 1px solid gray;box-sizing: border-box;top: 0;bottom: 0;left: 50%;z-index: -1;}#sk-container-id-14 div.sk-parallel-item {display: flex;flex-direction: column;z-index: 1;position: relative;background-color: white;}#sk-container-id-14 div.sk-parallel-item:first-child::after {align-self: flex-end;width: 50%;}#sk-container-id-14 div.sk-parallel-item:last-child::after {align-self: flex-start;width: 50%;}#sk-container-id-14 div.sk-parallel-item:only-child::after {width: 0;}#sk-container-id-14 div.sk-dashed-wrapped {border: 1px dashed gray;margin: 0 0.4em 0.5em 0.4em;box-sizing: border-box;padding-bottom: 0.4em;background-color: white;}#sk-container-id-14 div.sk-label label {font-family: monospace;font-weight: bold;display: inline-block;line-height: 1.2em;}#sk-container-id-14 div.sk-label-container {text-align: center;}#sk-container-id-14 div.sk-container {/* jupyter's `normalize.less` sets `[hidden] { display: none; }` but bootstrap.min.css set `[hidden] { display: none !important; }` so we also need the `!important` here to be able to override the default hidden behavior on the sphinx rendered scikit-learn.org. See: https://github.com/scikit-learn/scikit-learn/issues/21755 */display: inline-block !important;position: relative;}#sk-container-id-14 div.sk-text-repr-fallback {display: none;}</style><div id=\"sk-container-id-14\" class=\"sk-top-container\"><div class=\"sk-text-repr-fallback\"><pre>RandomForestClassifier()</pre><b>In a Jupyter environment, please rerun this cell to show the HTML representation or trust the notebook. <br />On GitHub, the HTML representation is unable to render, please try loading this page with nbviewer.org.</b></div><div class=\"sk-container\" hidden><div class=\"sk-item\"><div class=\"sk-estimator sk-toggleable\"><input class=\"sk-toggleable__control sk-hidden--visually\" id=\"sk-estimator-id-14\" type=\"checkbox\" checked><label for=\"sk-estimator-id-14\" class=\"sk-toggleable__label sk-toggleable__label-arrow\">RandomForestClassifier</label><div class=\"sk-toggleable__content\"><pre>RandomForestClassifier()</pre></div></div></div></div></div>"
            ],
            "text/plain": [
              "RandomForestClassifier()"
            ]
          },
          "execution_count": 172,
          "metadata": {},
          "output_type": "execute_result"
        }
      ],
      "source": [
        "# Random Forest\n",
        "from sklearn.ensemble import RandomForestClassifier\n",
        "classifierForest = RandomForestClassifier()\n",
        "classifierForest.fit(X_train,y_train)"
      ]
    },
    {
      "cell_type": "markdown",
      "metadata": {
        "id": "a49EG4Z9U0yD"
      },
      "source": [
        " 4.α. Εκπαιδεύστε (fit)  και τους  7 ταξινομητές που προαναφέρθηκαν (εμφανίστε τα δείγματα από το train set μαζί με την ετικέτα τους στην είσοδο του κάθε ταξινομητή), χρησιμοποιώντας τις default τιμές για όλες τις παραμέτρους τους."
      ]
    },
    {
      "cell_type": "markdown",
      "metadata": {
        "id": "dkv21zidSgNX"
      },
      "source": [
        "4.β. Εφαρμόστε στα εκπαιδευμένα μοντέλα από το validation set μόνο τα δείγματα χωρίς την ετικέτα τους (predict).\n"
      ]
    },
    {
      "cell_type": "code",
      "execution_count": null,
      "metadata": {
        "colab": {
          "background_save": true
        },
        "id": "3DqkKHMZQaDe"
      },
      "outputs": [],
      "source": [
        "pred_gnb = classifierGNB.predict(X_test)\n"
      ]
    },
    {
      "cell_type": "code",
      "execution_count": null,
      "metadata": {
        "colab": {
          "background_save": true
        },
        "id": "6w7r_tANJC2k"
      },
      "outputs": [],
      "source": [
        "pred_knn=classifierKNN.predict(X_test)"
      ]
    },
    {
      "cell_type": "code",
      "execution_count": null,
      "metadata": {
        "colab": {
          "background_save": true
        },
        "id": "oxvXbURTKBdb"
      },
      "outputs": [],
      "source": [
        "pred_lrg=classifierLRG.predict(X_test)"
      ]
    },
    {
      "cell_type": "code",
      "execution_count": null,
      "metadata": {
        "colab": {
          "background_save": true
        },
        "id": "66UeW-SDKP3S"
      },
      "outputs": [],
      "source": [
        "pred_MLP=classifierMLP.predict(X_test)"
      ]
    },
    {
      "cell_type": "code",
      "execution_count": null,
      "metadata": {
        "colab": {
          "background_save": true
        },
        "id": "2xrWfkBiKZUC"
      },
      "outputs": [],
      "source": [
        "pred_SVC=classifierSVC.predict(X_test)"
      ]
    },
    {
      "cell_type": "code",
      "execution_count": null,
      "metadata": {
        "colab": {
          "background_save": true
        },
        "id": "1VP2FcaQKhR4"
      },
      "outputs": [],
      "source": [
        "pred_dectree=classifierTree.predict(X_test)"
      ]
    },
    {
      "cell_type": "code",
      "execution_count": null,
      "metadata": {
        "colab": {
          "background_save": true
        },
        "id": "vV_VHcS4Ko8h"
      },
      "outputs": [],
      "source": [
        "pred_forest=classifierForest.predict(X_test)"
      ]
    },
    {
      "cell_type": "markdown",
      "metadata": {
        "id": "BsvLlbPRWaa_"
      },
      "source": [
        "\n",
        "4.γ. Συγκρίνετε την έξοδο του κάθε μοντέλου σε σχέση με τις αντίστοιχες ετικέτες του validation set και αξιολογήστε την επιδοσή τους χρησιμοποιώντας το F1 score.\n"
      ]
    },
    {
      "cell_type": "code",
      "execution_count": null,
      "metadata": {
        "colab": {
          "background_save": true
        },
        "id": "9jkFxtNbWZvY",
        "outputId": "e0aab404-b49a-4fb4-da4d-c6f5a2f5299a"
      },
      "outputs": [
        {
          "data": {
            "text/plain": [
              "0.6547418978997741"
            ]
          },
          "execution_count": 180,
          "metadata": {},
          "output_type": "execute_result"
        }
      ],
      "source": [
        "from sklearn.metrics import f1_score\n",
        "\n",
        "f1_gnb = f1_score(y_test, pred_gnb, average='weighted')\n",
        "f1_gnb"
      ]
    },
    {
      "cell_type": "code",
      "execution_count": null,
      "metadata": {
        "colab": {
          "background_save": true
        },
        "id": "lQidoRHjLZKO",
        "outputId": "6610b6de-b88e-42ef-a7df-d61f86c492be"
      },
      "outputs": [
        {
          "data": {
            "text/plain": [
              "0.8009166498396743"
            ]
          },
          "execution_count": 181,
          "metadata": {},
          "output_type": "execute_result"
        }
      ],
      "source": [
        "f1_knn = f1_score(y_test, pred_knn, average='weighted')\n",
        "f1_knn"
      ]
    },
    {
      "cell_type": "code",
      "execution_count": null,
      "metadata": {
        "colab": {
          "background_save": true
        },
        "id": "TDs-mCf4LZCB",
        "outputId": "44968b1f-36cf-4cc1-b67a-e6304fdce0ef"
      },
      "outputs": [
        {
          "data": {
            "text/plain": [
              "0.8223505573552153"
            ]
          },
          "execution_count": 182,
          "metadata": {},
          "output_type": "execute_result"
        }
      ],
      "source": [
        "f1_lrg = f1_score(y_test, pred_lrg, average='weighted')\n",
        "f1_lrg"
      ]
    },
    {
      "cell_type": "code",
      "execution_count": null,
      "metadata": {
        "colab": {
          "background_save": true
        },
        "id": "l1Mw_oRbNMpP",
        "outputId": "721c5b9d-8ec4-4c6d-d2ed-7ca9a781bed3"
      },
      "outputs": [
        {
          "data": {
            "text/plain": [
              "0.8092629637184654"
            ]
          },
          "execution_count": 183,
          "metadata": {},
          "output_type": "execute_result"
        }
      ],
      "source": [
        "f1_mlp=f1_score(y_test, pred_MLP, average='weighted')\n",
        "f1_mlp"
      ]
    },
    {
      "cell_type": "code",
      "execution_count": null,
      "metadata": {
        "colab": {
          "background_save": true
        },
        "id": "kUtLnXecNShn",
        "outputId": "14836114-5e6f-4059-b504-e5368c19059e"
      },
      "outputs": [
        {
          "data": {
            "text/plain": [
              "0.8277950176150001"
            ]
          },
          "execution_count": 184,
          "metadata": {},
          "output_type": "execute_result"
        }
      ],
      "source": [
        "f1_svc=f1_score(y_test, pred_SVC, average='weighted')\n",
        "f1_svc"
      ]
    },
    {
      "cell_type": "code",
      "execution_count": null,
      "metadata": {
        "colab": {
          "background_save": true
        },
        "id": "iUuNeuHyNcUH",
        "outputId": "e4903c1f-87fe-4668-ab61-da8f53eac9e5"
      },
      "outputs": [
        {
          "data": {
            "text/plain": [
              "0.7644679598894332"
            ]
          },
          "execution_count": 185,
          "metadata": {},
          "output_type": "execute_result"
        }
      ],
      "source": [
        "f1_dectree=f1_score(y_test, pred_dectree, average='weighted')\n",
        "f1_dectree"
      ]
    },
    {
      "cell_type": "code",
      "execution_count": null,
      "metadata": {
        "colab": {
          "background_save": true
        },
        "id": "Aw3P3aVQNmF5",
        "outputId": "fe1fda37-b72f-4da2-a3e0-578a01a8cc62"
      },
      "outputs": [
        {
          "data": {
            "text/plain": [
              "0.8192521787756886"
            ]
          },
          "execution_count": 186,
          "metadata": {},
          "output_type": "execute_result"
        }
      ],
      "source": [
        "f1_forest=f1_score(y_test, pred_forest, average='weighted')\n",
        "f1_forest"
      ]
    },
    {
      "cell_type": "markdown",
      "metadata": {
        "id": "F1SXqT2vWZTh"
      },
      "source": [
        "4.δ.  Αξιολογήστε συνολικά την επίδοση των μοντέλων χρησιμοποιώντας κάποιο γράφημα (π.χ. ιστόγραμμα, bar plot) και σχολιάστε ποιο μοντέλο είχε την καλύτερη επίδοση.\n"
      ]
    },
    {
      "cell_type": "code",
      "execution_count": null,
      "metadata": {
        "colab": {
          "background_save": true
        },
        "id": "UOiOlTcJjISQ",
        "outputId": "dc113edb-60fd-4efd-8bb0-628045a7260e"
      },
      "outputs": [
        {
          "data": {
            "image/png": "[encoded data removed]",
            "text/plain": [
              "<Figure size 640x480 with 1 Axes>"
            ]
          },
          "metadata": {},
          "output_type": "display_data"
        }
      ],
      "source": [
        "import matplotlib.pyplot as plt\n",
        "\n",
        "x = [\"gnb\",\"knn\", \"lr\", \"mlp\", \"svc\", \"dt\",\"rf\"]\n",
        "y = [f1_gnb, f1_knn, f1_lrg, f1_mlp, f1_svc, f1_dectree, f1_forest]\n",
        "plt.bar(x, y, color='deeppink')\n",
        "plt.show()"
      ]
    },
    {
      "cell_type": "markdown",
      "metadata": {
        "id": "f1ZWds7ekAsL"
      },
      "source": [
        "### 5. Προετοιμασία αρχείου για την πρώτη υποβολή στο kaggle"
      ]
    },
    {
      "cell_type": "markdown",
      "metadata": {
        "id": "atEnldNpkSTG"
      },
      "source": [
        "5.α. Χρησιμοποιήστε **ΜΟΝΟ** το μοντέλο σας με την καλύτερη επίδοση για να κάνετε προβλέψεις, χρησιμοποιώντας το [test set](https://drive.google.com/file/d/1bcmuoeRVY0y5ZuY6nZcmzy8_5fOFR4Oa/view?usp=drive_link).\n"
      ]
    },
    {
      "cell_type": "code",
      "execution_count": 229,
      "metadata": {
        "id": "UM0B638pkBLC"
      },
      "outputs": [],
      "source": [
        "test=pd.read_csv('test.csv')"
      ]
    },
    {
      "cell_type": "code",
      "execution_count": null,
      "metadata": {
        "colab": {
          "background_save": true
        },
        "id": "QgR1hqfXVAnR"
      },
      "outputs": [],
      "source": [
        "pred_best=classifierSVC.predict(X_t)"
      ]
    },
    {
      "cell_type": "markdown",
      "metadata": {
        "id": "_WwjA-3kjFRj"
      },
      "source": [
        "5.β. Αποθηκεύστε τις προβλέψεις από το καλύτερο μοντέλο σας σε ένα csv αρχείο. To csv αρχείο θα πρέπει να είναι περιέχει 2 στήλες: η πρώτη στήλη να περιέχει την στήλη id του test set file και η δεύτερη στήλη τις αντίστοιχες προβλέψεις που έκανε το καλύτερα εκπαιδευμένο μοντέλο σας (βήμα 5α)."
      ]
    },
    {
      "cell_type": "code",
      "execution_count": null,
      "metadata": {
        "colab": {
          "background_save": true
        },
        "id": "Z6SPFOpZjF5l"
      },
      "outputs": [],
      "source": [
        "result = pd.DataFrame(pred_best)\n",
        "result.columns = ['RainTomorrow']\n",
        "result['id'] = result.index + 1\n",
        "result = result[['id', 'RainTomorrow']]\n",
        "result.to_csv('subm1.csv',index=False)"
      ]
    },
    {
      "cell_type": "markdown",
      "metadata": {
        "id": "j6OoLlxrYILN"
      },
      "source": [
        "### 6. Βελτιστοποίηση μοντέλων με εύρεση καλύτερων υπερπαραμέτρων των ταξινομητών\n",
        "\n",
        "6.α. Για τους 7 ταξινομητές βελτιστοποιήστε την επίδοσή τους χρησιμοποιώντας αναζήτηση πλέγματος με διασταυρούμενη επικύρωση (k-fold 5)  με σκοπό την εύρεση των βέλτιστων υπερπαραμέτρων."
      ]
    },
    {
      "cell_type": "code",
      "execution_count": null,
      "metadata": {
        "colab": {
          "background_save": true
        },
        "id": "FK_zetZLlOeV"
      },
      "outputs": [],
      "source": [
        "from sklearn.model_selection import GridSearchCV\n",
        "# Create grid search\n",
        "search_space_gnb ={\n",
        "                 'var_smoothing': np.logspace(0,-7, num=70)\n",
        "                 }\n",
        "\n",
        "grid_gnb = GridSearchCV(classifierGNB, search_space_gnb, cv=5, verbose=0, n_jobs=-1)\n"
      ]
    },
    {
      "cell_type": "code",
      "execution_count": null,
      "metadata": {
        "colab": {
          "background_save": true
        },
        "id": "dMgcG8bQtTcx"
      },
      "outputs": [],
      "source": [
        "search_space_knn ={\n",
        "                 'n_neighbors': [10,15,20,25,30]\n",
        "                 }\n",
        "\n",
        "grid_knn = GridSearchCV(classifierKNN, search_space_knn, cv=5, verbose=0, n_jobs=-1)"
      ]
    },
    {
      "cell_type": "code",
      "execution_count": null,
      "metadata": {
        "colab": {
          "background_save": true
        },
        "id": "JnoqaitGtmrn"
      },
      "outputs": [],
      "source": [
        "search_space_lr ={\n",
        "                 'penalty': ['l1','none'],\n",
        "                 'C': np.logspace(0, 4, 10)\n",
        "                }\n",
        "\n",
        "grid_lr = GridSearchCV(classifierLRG, search_space_lr, cv=5, verbose=0, n_jobs=-1)"
      ]
    },
    {
      "cell_type": "code",
      "execution_count": null,
      "metadata": {
        "colab": {
          "background_save": true
        },
        "id": "d_Wde9b8ttvW"
      },
      "outputs": [],
      "source": [
        "classifierMLP2=skl_nn.MLPClassifier(max_iter=100)\n",
        "search_space_mlp ={\n",
        "                 'alpha': [0.0001, 0.05],\n",
        "                 'hidden_layer_sizes': [(14,), (16,), (18,), (20,)]\n",
        "                 }\n",
        "\n",
        "grid_mlp = GridSearchCV(classifierMLP2, search_space_mlp, cv=5, verbose=0, n_jobs=-1)"
      ]
    },
    {
      "cell_type": "code",
      "execution_count": null,
      "metadata": {
        "colab": {
          "background_save": true
        },
        "id": "HWVr6xA6uGEK"
      },
      "outputs": [],
      "source": [
        "search_space_svc ={\n",
        "                 'gamma': [1e-3, 1e-4],\n",
        "                 'C': [0.1, 10, 100]\n",
        "                 }\n",
        "\n",
        "grid_svc = GridSearchCV(classifierSVC, search_space_svc, cv=5, verbose=0, n_jobs=-1)"
      ]
    },
    {
      "cell_type": "code",
      "execution_count": null,
      "metadata": {
        "colab": {
          "background_save": true
        },
        "id": "VjIS7DfsuLvS"
      },
      "outputs": [],
      "source": [
        "search_space_dt ={\n",
        "                 'max_depth': range(1,10,1),\n",
        "                 'min_samples_leaf' : range(1,8,2)\n",
        "                 }\n",
        "\n",
        "grid_dt = GridSearchCV(classifierTree, search_space_dt, cv=5, verbose=0, n_jobs=-1)"
      ]
    },
    {
      "cell_type": "code",
      "execution_count": null,
      "metadata": {
        "colab": {
          "background_save": true
        },
        "id": "X3i6r7eXuTuj"
      },
      "outputs": [],
      "source": [
        "search_space_rf ={\n",
        "                 'n_estimators': range(10, 700, 100),\n",
        "                 'max_depth': range(1,10,2),\n",
        "                 }\n",
        "\n",
        "grid_rf = GridSearchCV(classifierForest, search_space_rf, cv=5, verbose=0, n_jobs=-1)"
      ]
    },
    {
      "cell_type": "code",
      "execution_count": null,
      "metadata": {
        "colab": {
          "background_save": true
        },
        "id": "BVxtUzx3ztm4"
      },
      "outputs": [],
      "source": [
        "best_model_gnb = grid_gnb.fit(X_train, y_train)"
      ]
    },
    {
      "cell_type": "code",
      "execution_count": null,
      "metadata": {
        "colab": {
          "background_save": true
        },
        "id": "ZwwSOMXs0__l",
        "outputId": "5f3444dc-7d3d-4a2b-bd57-17f4552e4f2f"
      },
      "outputs": [
        {
          "name": "stdout",
          "output_type": "stream",
          "text": [
            "{'var_smoothing': 1.0}\n",
            "GaussianNB(var_smoothing=1.0)\n"
          ]
        }
      ],
      "source": [
        "results_gnb = pd.DataFrame(grid_gnb.cv_results_)\n",
        "\n",
        "# Access the best set of parameters\n",
        "best_params_gnb = grid_gnb.best_params_\n",
        "print(best_params_gnb)\n",
        "\n",
        "# Stores the optimum model in best_pipe\n",
        "best_pipe_gnb = grid_gnb.best_estimator_\n",
        "print(best_pipe_gnb)"
      ]
    },
    {
      "cell_type": "code",
      "execution_count": null,
      "metadata": {
        "colab": {
          "background_save": true
        },
        "id": "bSr5_ASAueSm"
      },
      "outputs": [],
      "source": [
        "best_model_knn = grid_knn.fit(X_train, y_train)"
      ]
    },
    {
      "cell_type": "code",
      "execution_count": null,
      "metadata": {
        "colab": {
          "background_save": true
        },
        "id": "OMuHv42C2f4V",
        "outputId": "4a87f788-9504-4fde-9598-287e4347f4f7"
      },
      "outputs": [
        {
          "name": "stdout",
          "output_type": "stream",
          "text": [
            "{'n_neighbors': 25}\n",
            "KNeighborsClassifier(n_neighbors=25)\n"
          ]
        }
      ],
      "source": [
        "results_knn = pd.DataFrame(grid_knn.cv_results_)\n",
        "\n",
        "# Access the best set of parameters\n",
        "best_params_knn = grid_knn.best_params_\n",
        "print(best_params_knn)\n",
        "\n",
        "# Stores the optimum model in best_pipe\n",
        "best_pipe_knn = grid_knn.best_estimator_\n",
        "print(best_pipe_knn)"
      ]
    },
    {
      "cell_type": "code",
      "execution_count": null,
      "metadata": {
        "colab": {
          "background_save": true
        },
        "id": "Yt9DbFcu2sw7",
        "outputId": "9de6bc12-44a2-4471-df94-60b649a3208a"
      },
      "outputs": [
        {
          "name": "stderr",
          "output_type": "stream",
          "text": [
            "/usr/local/lib/python3.10/dist-packages/sklearn/model_selection/_validation.py:378: FitFailedWarning: \n",
            "50 fits failed out of a total of 100.\n",
            "The score on these train-test partitions for these parameters will be set to nan.\n",
            "If these failures are not expected, you can try to debug them by setting error_score='raise'.\n",
            "\n",
            "Below are more details about the failures:\n",
            "--------------------------------------------------------------------------------\n",
            "50 fits failed with the following error:\n",
            "Traceback (most recent call last):\n",
            "  File \"/usr/local/lib/python3.10/dist-packages/sklearn/model_selection/_validation.py\", line 686, in _fit_and_score\n",
            "    estimator.fit(X_train, y_train, **fit_params)\n",
            "  File \"/usr/local/lib/python3.10/dist-packages/sklearn/linear_model/_logistic.py\", line 1162, in fit\n",
            "    solver = _check_solver(self.solver, self.penalty, self.dual)\n",
            "  File \"/usr/local/lib/python3.10/dist-packages/sklearn/linear_model/_logistic.py\", line 54, in _check_solver\n",
            "    raise ValueError(\n",
            "ValueError: Solver lbfgs supports only 'l2' or 'none' penalties, got l1 penalty.\n",
            "\n",
            "  warnings.warn(some_fits_failed_message, FitFailedWarning)\n",
            "/usr/local/lib/python3.10/dist-packages/sklearn/model_selection/_search.py:952: UserWarning: One or more of the test scores are non-finite: [       nan 0.83331374        nan 0.83331374        nan 0.83331374\n",
            "        nan 0.83331374        nan 0.83331374        nan 0.83331374\n",
            "        nan 0.83331374        nan 0.83331374        nan 0.83331374\n",
            "        nan 0.83331374]\n",
            "  warnings.warn(\n",
            "/usr/local/lib/python3.10/dist-packages/sklearn/linear_model/_logistic.py:1173: FutureWarning: `penalty='none'`has been deprecated in 1.2 and will be removed in 1.4. To keep the past behaviour, set `penalty=None`.\n",
            "  warnings.warn(\n"
          ]
        }
      ],
      "source": [
        "best_model_lr = grid_lr.fit(X_train, y_train)"
      ]
    },
    {
      "cell_type": "code",
      "execution_count": null,
      "metadata": {
        "colab": {
          "background_save": true
        },
        "id": "wwiHjINC2vA1",
        "outputId": "4a549055-cead-48e1-8d6a-17e0d4e1a9ba"
      },
      "outputs": [
        {
          "name": "stdout",
          "output_type": "stream",
          "text": [
            "{'C': 1.0, 'penalty': 'none'}\n",
            "LogisticRegression(penalty='none')\n"
          ]
        }
      ],
      "source": [
        "results_lr = pd.DataFrame(grid_lr.cv_results_)\n",
        "\n",
        "# Access the best set of parameters\n",
        "best_params_lr = grid_lr.best_params_\n",
        "print(best_params_lr)\n",
        "\n",
        "# Stores the optimum model in best_pipe\n",
        "best_pipe_lr = grid_lr.best_estimator_\n",
        "print(best_pipe_lr)"
      ]
    },
    {
      "cell_type": "code",
      "execution_count": null,
      "metadata": {
        "colab": {
          "background_save": true
        },
        "id": "aRtP9Amy2vvD",
        "outputId": "f0c6aa6d-a9be-4520-f174-4e239c6f107a"
      },
      "outputs": [
        {
          "name": "stderr",
          "output_type": "stream",
          "text": [
            "/usr/local/lib/python3.10/dist-packages/sklearn/neural_network/_multilayer_perceptron.py:686: ConvergenceWarning: Stochastic Optimizer: Maximum iterations (100) reached and the optimization hasn't converged yet.\n",
            "  warnings.warn(\n"
          ]
        }
      ],
      "source": [
        "best_model_mlp = grid_mlp.fit(X_train, y_train)"
      ]
    },
    {
      "cell_type": "code",
      "execution_count": null,
      "metadata": {
        "colab": {
          "background_save": true
        },
        "id": "KaWU05272yNj",
        "outputId": "c65cf07a-0090-41e6-8384-3700ab9e51c5"
      },
      "outputs": [
        {
          "name": "stdout",
          "output_type": "stream",
          "text": [
            "{'alpha': 0.05, 'hidden_layer_sizes': (20,)}\n",
            "MLPClassifier(alpha=0.05, hidden_layer_sizes=(20,), max_iter=100)\n"
          ]
        }
      ],
      "source": [
        "results_mlp = pd.DataFrame(grid_mlp.cv_results_)\n",
        "\n",
        "# Access the best set of parameters\n",
        "best_params_mlp = grid_mlp.best_params_\n",
        "print(best_params_mlp)\n",
        "\n",
        "# Stores the optimum model in best_pipe\n",
        "best_pipe_mlp = grid_mlp.best_estimator_\n",
        "print(best_pipe_mlp)"
      ]
    },
    {
      "cell_type": "code",
      "execution_count": null,
      "metadata": {
        "colab": {
          "background_save": true
        },
        "id": "UgO3_IAX2y8w"
      },
      "outputs": [],
      "source": [
        "best_model_svc = grid_svc.fit(X_train, y_train)"
      ]
    },
    {
      "cell_type": "code",
      "execution_count": null,
      "metadata": {
        "colab": {
          "background_save": true
        },
        "id": "IP0zr5v521xd",
        "outputId": "752a8cfc-98f6-48f8-edb9-d683c65692e9"
      },
      "outputs": [
        {
          "name": "stdout",
          "output_type": "stream",
          "text": [
            "{'C': 100, 'gamma': 0.001}\n",
            "SVC(C=100, gamma=0.001)\n"
          ]
        }
      ],
      "source": [
        "results_svc = pd.DataFrame(grid_svc.cv_results_)\n",
        "\n",
        "# Access the best set of parameters\n",
        "best_params_svc = grid_svc.best_params_\n",
        "print(best_params_svc)\n",
        "\n",
        "# Stores the optimum model in best_pipe\n",
        "best_pipe_svc = grid_svc.best_estimator_\n",
        "print(best_pipe_svc)"
      ]
    },
    {
      "cell_type": "code",
      "execution_count": null,
      "metadata": {
        "colab": {
          "background_save": true
        },
        "id": "L0uUg55D232k"
      },
      "outputs": [],
      "source": [
        "best_model_dt = grid_dt.fit(X_train, y_train)"
      ]
    },
    {
      "cell_type": "code",
      "execution_count": null,
      "metadata": {
        "colab": {
          "background_save": true
        },
        "id": "mZLJVf5525Fo",
        "outputId": "a82e3e63-f80b-4233-cffa-03897c5aa951"
      },
      "outputs": [
        {
          "name": "stdout",
          "output_type": "stream",
          "text": [
            "{'max_depth': 7, 'min_samples_leaf': 3}\n",
            "DecisionTreeClassifier(max_depth=7, min_samples_leaf=3)\n"
          ]
        }
      ],
      "source": [
        "results_dt = pd.DataFrame(grid_dt.cv_results_)\n",
        "\n",
        "# Access the best set of parameters\n",
        "best_params_dt = grid_dt.best_params_\n",
        "print(best_params_dt)\n",
        "\n",
        "# Stores the optimum model in best_pipe\n",
        "best_pipe_dt = grid_dt.best_estimator_\n",
        "print(best_pipe_dt)"
      ]
    },
    {
      "cell_type": "code",
      "execution_count": null,
      "metadata": {
        "colab": {
          "background_save": true
        },
        "id": "j9DVf4z327Jz"
      },
      "outputs": [],
      "source": [
        "best_model_rf = grid_rf.fit(X_train, y_train)"
      ]
    },
    {
      "cell_type": "code",
      "execution_count": null,
      "metadata": {
        "colab": {
          "background_save": true
        },
        "id": "kQEU65Yy28cc",
        "outputId": "a67c95e5-78d0-4dd4-ef76-b98eda7b2283"
      },
      "outputs": [
        {
          "name": "stdout",
          "output_type": "stream",
          "text": [
            "{'max_depth': 9, 'n_estimators': 410}\n",
            "RandomForestClassifier(max_depth=9, n_estimators=410)\n"
          ]
        }
      ],
      "source": [
        "results_rf = pd.DataFrame(grid_rf.cv_results_)\n",
        "\n",
        "# Access the best set of parameters\n",
        "best_params_rf = grid_rf.best_params_\n",
        "print(best_params_rf)\n",
        "\n",
        "# Stores the optimum model in best_pipe\n",
        "best_pipe_rf = grid_rf.best_estimator_\n",
        "print(best_pipe_rf)"
      ]
    },
    {
      "cell_type": "markdown",
      "metadata": {
        "id": "KD2jGJgUloMW"
      },
      "source": [
        "6.β. Εφαρμόστε στα εκπαιδευμένα μοντέλα από το validation set μόνο τα δείγματα χωρίς την ετικέτα τους (predict).\n"
      ]
    },
    {
      "cell_type": "code",
      "execution_count": null,
      "metadata": {
        "colab": {
          "background_save": true
        },
        "id": "ANPd125TloMW"
      },
      "outputs": [],
      "source": [
        "preds_gnb = best_model_gnb.predict(X_test)"
      ]
    },
    {
      "cell_type": "code",
      "execution_count": null,
      "metadata": {
        "colab": {
          "background_save": true
        },
        "id": "LiwsvCXP3Q8Y"
      },
      "outputs": [],
      "source": [
        "preds_knn = best_model_knn.predict(X_test)"
      ]
    },
    {
      "cell_type": "code",
      "execution_count": null,
      "metadata": {
        "colab": {
          "background_save": true
        },
        "id": "M3DCDlUu3Q6M"
      },
      "outputs": [],
      "source": [
        "preds_lr = best_model_lr.predict(X_test)"
      ]
    },
    {
      "cell_type": "code",
      "execution_count": null,
      "metadata": {
        "colab": {
          "background_save": true
        },
        "id": "IGk9yuU73Q4O"
      },
      "outputs": [],
      "source": [
        "preds_mlp = best_model_mlp.predict(X_test)"
      ]
    },
    {
      "cell_type": "code",
      "execution_count": null,
      "metadata": {
        "colab": {
          "background_save": true
        },
        "id": "jtS4aKIS3Q2D"
      },
      "outputs": [],
      "source": [
        "preds_svc = best_model_svc.predict(X_test)"
      ]
    },
    {
      "cell_type": "code",
      "execution_count": null,
      "metadata": {
        "colab": {
          "background_save": true
        },
        "id": "8slcQtvg3Qz2"
      },
      "outputs": [],
      "source": [
        "preds_dt = best_model_dt.predict(X_test)"
      ]
    },
    {
      "cell_type": "code",
      "execution_count": null,
      "metadata": {
        "colab": {
          "background_save": true
        },
        "id": "mjHhM3Je3Qxi"
      },
      "outputs": [],
      "source": [
        "preds_rf = best_model_rf.predict(X_test)"
      ]
    },
    {
      "cell_type": "markdown",
      "metadata": {
        "id": "hj_7xTZ-loMW"
      },
      "source": [
        "\n",
        "6.γ. Συγκρίνετε την έξοδο του κάθε μοντέλου σε σχέση με τις αντίστοιχες ετικέτες του validation set και αξιολογήστε την επιδοσή τους χρησιμοποιώντας το F1 score.\n"
      ]
    },
    {
      "cell_type": "code",
      "execution_count": null,
      "metadata": {
        "colab": {
          "background_save": true
        },
        "id": "YsJB5GanloMW",
        "outputId": "608134ce-fa01-4dba-dffe-82141460babd"
      },
      "outputs": [
        {
          "data": {
            "text/plain": [
              "0.7888431995972706"
            ]
          },
          "execution_count": 219,
          "metadata": {},
          "output_type": "execute_result"
        }
      ],
      "source": [
        "from sklearn.metrics import f1_score\n",
        "\n",
        "f_gnb = f1_score(y_test, preds_gnb, average='weighted')\n",
        "f_gnb"
      ]
    },
    {
      "cell_type": "code",
      "execution_count": null,
      "metadata": {
        "colab": {
          "background_save": true
        },
        "id": "fWV4MMbu3v68",
        "outputId": "d87d1dfe-0154-4531-cef4-c14f3a47cf0a"
      },
      "outputs": [
        {
          "data": {
            "text/plain": [
              "0.8060783862636216"
            ]
          },
          "execution_count": 220,
          "metadata": {},
          "output_type": "execute_result"
        }
      ],
      "source": [
        "f_knn = f1_score(y_test, preds_knn, average='weighted')\n",
        "f_knn"
      ]
    },
    {
      "cell_type": "code",
      "execution_count": null,
      "metadata": {
        "colab": {
          "background_save": true
        },
        "id": "4ErQfn0r3xuk",
        "outputId": "cafc4c39-e4ab-4f67-89a8-3d27959059f6"
      },
      "outputs": [
        {
          "data": {
            "text/plain": [
              "0.8223776398236712"
            ]
          },
          "execution_count": 221,
          "metadata": {},
          "output_type": "execute_result"
        }
      ],
      "source": [
        "f_lr = f1_score(y_test, preds_lr, average='weighted')\n",
        "f_lr"
      ]
    },
    {
      "cell_type": "code",
      "execution_count": null,
      "metadata": {
        "colab": {
          "background_save": true
        },
        "id": "-zxaJfI730Az",
        "outputId": "0e179436-05fb-4c6e-fbc3-ef6532467311"
      },
      "outputs": [
        {
          "data": {
            "text/plain": [
              "0.8377364998836847"
            ]
          },
          "execution_count": 222,
          "metadata": {},
          "output_type": "execute_result"
        }
      ],
      "source": [
        "f_mlp = f1_score(y_test, preds_mlp, average='weighted')\n",
        "f_mlp"
      ]
    },
    {
      "cell_type": "code",
      "execution_count": null,
      "metadata": {
        "colab": {
          "background_save": true
        },
        "id": "RTzeUUBA315Z",
        "outputId": "01f1bf1c-c83f-4c5f-e403-f1a5f5827dd5"
      },
      "outputs": [
        {
          "data": {
            "text/plain": [
              "0.8166870139645412"
            ]
          },
          "execution_count": 223,
          "metadata": {},
          "output_type": "execute_result"
        }
      ],
      "source": [
        "f_svc = f1_score(y_test, preds_svc, average='weighted')\n",
        "f_svc"
      ]
    },
    {
      "cell_type": "code",
      "execution_count": null,
      "metadata": {
        "colab": {
          "background_save": true
        },
        "id": "iSC0ONPI32-v",
        "outputId": "495529d6-a0a0-4eaf-f501-a12581a6fe86"
      },
      "outputs": [
        {
          "data": {
            "text/plain": [
              "0.7980335921365643"
            ]
          },
          "execution_count": 224,
          "metadata": {},
          "output_type": "execute_result"
        }
      ],
      "source": [
        "f_dt = f1_score(y_test, preds_dt, average='weighted')\n",
        "f_dt"
      ]
    },
    {
      "cell_type": "code",
      "execution_count": null,
      "metadata": {
        "colab": {
          "background_save": true
        },
        "id": "s-GPyg6K34ek",
        "outputId": "607fe565-8980-47d9-ad76-3a5d84f77e90"
      },
      "outputs": [
        {
          "data": {
            "text/plain": [
              "0.7874942763270235"
            ]
          },
          "execution_count": 225,
          "metadata": {},
          "output_type": "execute_result"
        }
      ],
      "source": [
        "f_rf = f1_score(y_test, preds_rf, average='weighted')\n",
        "f_rf"
      ]
    },
    {
      "cell_type": "markdown",
      "metadata": {
        "id": "l6vs5gOQloMW"
      },
      "source": [
        "6.δ.  Αξιολογήστε συνολικά την επίδοση των μοντέλων χρησιμοποιώντας κάποιο γράφημα (π.χ. ιστόγραμμα, bar plot) και σχολιάστε ποιο μοντέλο είχε την καλύτερη επίδοση.\n"
      ]
    },
    {
      "cell_type": "code",
      "execution_count": null,
      "metadata": {
        "colab": {
          "background_save": true
        },
        "id": "EsAWlUCUloMX",
        "outputId": "51efccf4-8f6e-4eff-d01c-d6e5fbfaa510"
      },
      "outputs": [
        {
          "data": {
            "image/png": "[encoded data removed]",
            "text/plain": [
              "<Figure size 640x480 with 1 Axes>"
            ]
          },
          "metadata": {},
          "output_type": "display_data"
        }
      ],
      "source": [
        "x = [\"gnb\",\"knn\", \"lr\", \"mlp\", \"svc\", \"dt\",\"rf\"]\n",
        "y = [f_gnb, f_knn, f_lr, f_mlp, f_svc, f_dt, f_rf]\n",
        "plt.bar(x, y, color='darkred')\n",
        "plt.show()"
      ]
    },
    {
      "cell_type": "markdown",
      "metadata": {
        "id": "DrWizICNmItV"
      },
      "source": [
        "### 7. Προετοιμασία αρχείου για τη δεύτερη υποβολή στο kaggle"
      ]
    },
    {
      "cell_type": "markdown",
      "metadata": {
        "id": "GzoRElvAmItV"
      },
      "source": [
        "7.α. Χρησιμοποιήστε **ΜΟΝΟ** το μοντέλο σας με την καλύτερη επίδοση για να κάνετε προβλέψεις χρησιμοποιώντας το δοθέν σύνολο εκπαίδευσης (test set)"
      ]
    },
    {
      "cell_type": "code",
      "execution_count": 234,
      "metadata": {
        "colab": {
          "base_uri": "https://localhost:8080/"
        },
        "id": "HlEBQIOnmItV",
        "outputId": "1cddf417-dea9-4ef9-a458-081d171c1687"
      },
      "outputs": [
        {
          "name": "stdout",
          "output_type": "stream",
          "text": [
            "[0 0 0 ... 0 0 0]\n"
          ]
        }
      ],
      "source": [
        "pred_best_2 = best_model_mlp.predict(X_t)\n",
        "pred_best_2\n",
        "pred_best2_array = pred_best_2.astype(int)\n",
        "print(pred_best2_array)"
      ]
    },
    {
      "cell_type": "markdown",
      "metadata": {
        "id": "TA2fuBn9mItW"
      },
      "source": [
        "7.β. Αποθηκεύστε τις προβλέψεις από το καλύτερο μοντέλο σας σε ένα csv αρχείο. To csv αρχείο θα πρέπει να είναι περιέχει 2 στήλες: η πρώτη στήλη να περιέχει την στήλη id του test set file και η δεύτερη στήλη τις αντίστοιχες προβλέψεις που έκανε το καλύτερα εκπαιδευμένο μοντέλο σας (βήμα 7α)."
      ]
    },
    {
      "cell_type": "code",
      "execution_count": 235,
      "metadata": {
        "id": "9A1YaimKmItW"
      },
      "outputs": [],
      "source": [
        "result2 = pd.DataFrame(pred_best_2)\n",
        "result2.columns = ['RainTomorrow']\n",
        "result2['id'] = result2.index + 1\n",
        "result2 = result2[['id', 'RainTomorrow']]\n",
        "result2.to_csv('submission.csv',index=False)"
      ]
    }
  ],
  "metadata": {
    "colab": {
      "provenance": []
    },
    "kernelspec": {
      "display_name": "Python 3",
      "name": "python3"
    },
    "language_info": {
      "name": "python"
    }
  },
  "nbformat": 4,
  "nbformat_minor": 0
}
